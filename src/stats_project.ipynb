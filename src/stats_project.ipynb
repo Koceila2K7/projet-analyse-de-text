{
 "cells": [
  {
   "cell_type": "markdown",
   "id": "fc8339f6",
   "metadata": {},
   "source": [
    "# Projet statistiques / dimanche 02 avril avant 23h59 sinon pénalité\n",
    "## Objectif : retrouver la langue maternelle (origine) de l'auteur d'un texte écrit en anglais\n",
    "## Plan :\n",
    "- svm vs logistic regression\n",
    "- fonction d'évaluation des modèles\n",
    "    - plusieurs métriques : accuracy, précision, recall, f1.\n",
    "        - utiliser la 'macro' f-mesure pour voir l'evaluation de chaque categorie.\n",
    "    - matrice de confusion sur toutes les origines.\n",
    "        - essayer de regrouper les origines difficiles à séparer (former des sortes de petites matrices)\n",
    "- bag of words vs tf-idf\n",
    "- Fonction modèle paramétrable.. **\n",
    "- remove stop words or not\n",
    "    - lister tous les mots du vocab avec les fréquences, pour trier une liste de stop words (on se décide nous même de la liste), lemmatization nécessaire pour cette étape.\n",
    "- stemming or not\n",
    "    - logiquement dans notre cas d'usage, ne pas le faire car on se concentre sur la recherche de singularités, alors que le stemming recherche la généralité.\n",
    "- lemmatization or not\n",
    "    - logiquement dans notre cas d'usage, ne pas le faire car on se concentre sur la recherche de singularités, alors que la lemmatization recherche la généralité.\n",
    "- fonction qui liste tous les caractères et compte les fréquences, pour voir s'il y a des caractères bizarres (zero-width .. ?)\n",
    "    - normalement pas de soucis car le prof a travaillé déjà dessus.\n",
    "- séparation des mots\n",
    "    - I’m, can’t : ne pas séparer pour notre cas d’usage.\n",
    "- A explorer (on peut ajouter des choses dans le vecteur) :\n",
    "    - on peut compter la ponctuation\n",
    "        - visualisation possible avec des camemberts de couleurs\n",
    "    - compter le nombre de caractères spéciaux (nombre d’apostrophes...)\n",
    "        - aussi visualisation possible avec des camemberts de couleurs\n",
    "    - longueur moyenne des phrases\n",
    "    - nombre de mots différents dans le texte\n",
    "    - fréquence de mot le plus utilisé\n",
    "    - prendre chaque mot et voir s’il existe dans un dictionnaire, s’il n’est pas présent donc faute d'orthographe… puis peut être le nombre de fautes, ou faire le lien…\n",
    "- avec un SVM on peut regarder les poids en sortie\n",
    "- discrétisation ?\n",
    "    - on peut dessiner une gaussienne avec les longueurs moyennes des phrases. si on a pas une gaussienne, regarder chaque catégorie\n",
    "- nltk.pos_tag / spacy\n",
    "    - la structure de la phrase peut différer selon la langue maternelle. (formulation de la phrase)\n",
    "    \n",
    "## Bilan :\n",
    "dernière séance où on fera la liste de tout ce qu'on a testé pour voir pourquoi ça a marché ou cela n'a pas marché.\n",
    "\n",
    "## Rendu\n",
    "envoyer avec l'adresse paris saclay !\n",
    "mettre dans le corps du message, dans le rapport, dans le code : les noms du binome.\n",
    "\n",
    "### un seul format de rapport : PDF.\n",
    "simple, propre et lisible.\n",
    "pas la peine de reproduire le cours, on virect au but.\n",
    "contenu : journal d'expérimentation:\n",
    "1. idée de base qu'on veut tester.\n",
    "2. hipothèse\n",
    "3. implémentation (codée, existente, compliquée...)\n",
    "4. résultat\n",
    "5. analyse : le fait de faire ça nous a fait gagner 3 points de F-mesure, et en analysant .. on remarque que enlever/ajouter/modifier... a un effet sur qqchose..\n",
    "avoir un aspect critique : pourquoi l'implémentation de départ ne marche pas.. observations..\n",
    "\n",
    "### code (notebook..) : archive ZIP ou TGZ.\n",
    "code python : notebook ou fichier\n",
    "si besoin de lib qui ne sont pas dans la lib de base: mettre un readme pour préciser, pareil pour les versions.\n",
    "si compliqué à lancer : expliquer dans le readme.\n",
    "ne pas joindre les data ni les modèles.\n",
    "\n",
    "base line du prof : 0.63 de f-mesure.\n",
    "test sur 1100 textes (100 de chaque langue) (à voir  si on utilise cette info)\n",
    "on fait tourner dessus on obtient les prédictions finales.\n",
    "\n",
    "joindre un fichier .txt et sur chaque ligne y'a la prédiction (attention à l'ordre des lignes)"
   ]
  },
  {
   "cell_type": "code",
   "execution_count": 1,
   "id": "c8d4b50e",
   "metadata": {},
   "outputs": [],
   "source": [
    "import pandas as pd\n",
    "import numpy as np\n",
    "import re\n",
    "import matplotlib.pyplot as plt\n",
    "import seaborn as sns"
   ]
  },
  {
   "cell_type": "code",
   "execution_count": 2,
   "id": "50c92f34",
   "metadata": {},
   "outputs": [
    {
     "name": "stderr",
     "output_type": "stream",
     "text": [
      "/tmp/ipykernel_14776/588828588.py:3: ParserWarning: Falling back to the 'python' engine because the 'c' engine does not support regex separators (separators > 1 char and different from '\\s+' are interpreted as regex); you can avoid this warning by specifying engine='python'.\n",
      "  df = pd.read_csv(path, header=None, sep=':::')\n"
     ]
    },
    {
     "data": {
      "text/html": [
       "<div>\n",
       "<style scoped>\n",
       "    .dataframe tbody tr th:only-of-type {\n",
       "        vertical-align: middle;\n",
       "    }\n",
       "\n",
       "    .dataframe tbody tr th {\n",
       "        vertical-align: top;\n",
       "    }\n",
       "\n",
       "    .dataframe thead th {\n",
       "        text-align: right;\n",
       "    }\n",
       "</style>\n",
       "<table border=\"1\" class=\"dataframe\">\n",
       "  <thead>\n",
       "    <tr style=\"text-align: right;\">\n",
       "      <th></th>\n",
       "      <th>text</th>\n",
       "      <th>category</th>\n",
       "    </tr>\n",
       "  </thead>\n",
       "  <tbody>\n",
       "    <tr>\n",
       "      <th>0</th>\n",
       "      <td>IThe importance and popularity of travelling i...</td>\n",
       "      <td>GER</td>\n",
       "    </tr>\n",
       "    <tr>\n",
       "      <th>1</th>\n",
       "      <td>It is an important decision , how to plan your...</td>\n",
       "      <td>TUR</td>\n",
       "    </tr>\n",
       "    <tr>\n",
       "      <th>2</th>\n",
       "      <td>Some people believe that young people can enjo...</td>\n",
       "      <td>CHI</td>\n",
       "    </tr>\n",
       "    <tr>\n",
       "      <th>3</th>\n",
       "      <td>Travelling is usually considered as good recre...</td>\n",
       "      <td>TEL</td>\n",
       "    </tr>\n",
       "    <tr>\n",
       "      <th>4</th>\n",
       "      <td>i agree that . Life is a person live period of...</td>\n",
       "      <td>ARA</td>\n",
       "    </tr>\n",
       "    <tr>\n",
       "      <th>...</th>\n",
       "      <td>...</td>\n",
       "      <td>...</td>\n",
       "    </tr>\n",
       "    <tr>\n",
       "      <th>9895</th>\n",
       "      <td>Nowadays , more and more people go abroad , no...</td>\n",
       "      <td>CHI</td>\n",
       "    </tr>\n",
       "    <tr>\n",
       "      <th>9896</th>\n",
       "      <td>In accomplishing something that is risky comes...</td>\n",
       "      <td>KOR</td>\n",
       "    </tr>\n",
       "    <tr>\n",
       "      <th>9897</th>\n",
       "      <td>At the beginning of the 21st century , the inc...</td>\n",
       "      <td>SPA</td>\n",
       "    </tr>\n",
       "    <tr>\n",
       "      <th>9898</th>\n",
       "      <td>The number of cars in use across the world has...</td>\n",
       "      <td>HIN</td>\n",
       "    </tr>\n",
       "    <tr>\n",
       "      <th>9899</th>\n",
       "      <td>Many people think it is betters to have borad ...</td>\n",
       "      <td>CHI</td>\n",
       "    </tr>\n",
       "  </tbody>\n",
       "</table>\n",
       "<p>9900 rows × 2 columns</p>\n",
       "</div>"
      ],
      "text/plain": [
       "                                                   text category\n",
       "0     IThe importance and popularity of travelling i...      GER\n",
       "1     It is an important decision , how to plan your...      TUR\n",
       "2     Some people believe that young people can enjo...      CHI\n",
       "3     Travelling is usually considered as good recre...      TEL\n",
       "4     i agree that . Life is a person live period of...      ARA\n",
       "...                                                 ...      ...\n",
       "9895  Nowadays , more and more people go abroad , no...      CHI\n",
       "9896  In accomplishing something that is risky comes...      KOR\n",
       "9897  At the beginning of the 21st century , the inc...      SPA\n",
       "9898  The number of cars in use across the world has...      HIN\n",
       "9899  Many people think it is betters to have borad ...      CHI\n",
       "\n",
       "[9900 rows x 2 columns]"
      ]
     },
     "execution_count": 2,
     "metadata": {},
     "output_type": "execute_result"
    }
   ],
   "source": [
    "# Lecture du dataframe\n",
    "def load_data(path=r'./train.txt'):\n",
    "    df = pd.read_csv(path, header=None, sep=':::')\n",
    "    df['text']=df[0].str.extract(r'^\\([A-Z]{3}\\) (.*)$')\n",
    "    df['category']=df[0].str.extract(r'^\\(([A-Z]{3})\\)')\n",
    "    df = df.drop([0], axis=1)\n",
    "    return df\n",
    "\n",
    "df = load_data()\n",
    "df"
   ]
  },
  {
   "cell_type": "code",
   "execution_count": 3,
   "id": "f43275d9",
   "metadata": {},
   "outputs": [
    {
     "data": {
      "text/plain": [
       "'It is an important decision , how to plan your syllabus . Some students prefer to take a lot of courses and expand their knowledge , whereas some other prefer to specialize in one specific subject . In this essay I will dwell on the advantages of specializing in one subject and argue in its favor . There are at least three reasons why choosing one subject is better than trying to keep balance between many subjects . The first and most important reason for me is that this way people concentrate on one thing and do not feel anxiety about time-management and deadlines . In contrast , student who take three or four subjects are very busy and stressed , because they have to prepare for many exams and see different lecturers , which is confusing and the results are not as good as those of the ones from the one subject plan . In addition , when one specializes in one subject then this person has more chances to be well-informed about it and do his best , being sure he recieves the best knowledge and invests in something substantial and prosperious . The second reason is that this kind of studying gives the opportunity to work and gain your own money . Usually students depend on their parents and have to explain why they need money , which is not very pleasant . For instance , I used to work when i did not have many lessons and I was happy that I was able to succeed in working and doing something important as an adult does , relying on my own experience . The third reason is that the students can pay more attention to their relatives , friends and even their hobbies . Moreover , life is not only studying and if we cannot enjoy it , we should rethink our point of view . For example , students , who do not have fun and only study , get sick and miss the both chances . The psychologies have proved that working hard is not the best for our health and we should take rest from time to time . In my opinion , it is better to specialize in one subject , because this choice makes us have more healthy life , which has is successful too .'"
      ]
     },
     "execution_count": 3,
     "metadata": {},
     "output_type": "execute_result"
    }
   ],
   "source": [
    "# exemple de text\n",
    "df['text'][1]"
   ]
  },
  {
   "cell_type": "markdown",
   "id": "baacff18",
   "metadata": {},
   "source": [
    "### Remarque :\n",
    "Tous les mots sont bien séparés avec des espaces, même la ponctuation."
   ]
  },
  {
   "cell_type": "code",
   "execution_count": 4,
   "id": "717a42f4",
   "metadata": {},
   "outputs": [
    {
     "data": {
      "text/plain": [
       "GER    900\n",
       "TUR    900\n",
       "CHI    900\n",
       "TEL    900\n",
       "ARA    900\n",
       "SPA    900\n",
       "HIN    900\n",
       "JPN    900\n",
       "KOR    900\n",
       "FRE    900\n",
       "ITA    900\n",
       "Name: category, dtype: int64"
      ]
     },
     "execution_count": 4,
     "metadata": {},
     "output_type": "execute_result"
    }
   ],
   "source": [
    "df['category'].value_counts()"
   ]
  },
  {
   "cell_type": "markdown",
   "id": "ef937378",
   "metadata": {},
   "source": [
    "### Note :\n",
    "Nous avons 11 langues maternelles (origines) avec 900 observations (texts) pour chaque origine."
   ]
  },
  {
   "cell_type": "markdown",
   "id": "8916b854",
   "metadata": {},
   "source": [
    "## Visualisations"
   ]
  },
  {
   "cell_type": "code",
   "execution_count": 5,
   "id": "d31345d1",
   "metadata": {},
   "outputs": [],
   "source": [
    "# visualisations"
   ]
  },
  {
   "cell_type": "markdown",
   "id": "a88f8e54",
   "metadata": {},
   "source": [
    "### On teste quelques modèles sur nos données brutes pour avoir une idée sur lequel on pourrait choisir, en utilisant les deux méthodes Bag Of Words et Tf-idf"
   ]
  },
  {
   "cell_type": "code",
   "execution_count": 6,
   "id": "11003f15",
   "metadata": {},
   "outputs": [
    {
     "name": "stdout",
     "output_type": "stream",
     "text": [
      "len X_train = 7920 len X_test = 1980\n",
      "Labelled classes :  {0: 'ARA', 1: 'CHI', 2: 'FRE', 3: 'GER', 4: 'HIN', 5: 'ITA', 6: 'JPN', 7: 'KOR', 8: 'SPA', 9: 'TEL', 10: 'TUR'}\n"
     ]
    }
   ],
   "source": [
    "# split data\n",
    "X = df['text'].values.tolist()\n",
    "y = df['category'].values.tolist()\n",
    "\n",
    "# Construire les vecteurs BoW & Tfidf ( CountVectorizer & TfidfVectorizer )\n",
    "from sklearn.feature_extraction.text import CountVectorizer, TfidfVectorizer\n",
    "\n",
    "# CountVectorizer\n",
    "cv = CountVectorizer(stop_words='english')\n",
    "cv_X = cv.fit_transform(X)\n",
    "\n",
    "# tf-idf\n",
    "tf = TfidfVectorizer(stop_words='english') #ici on peut ajouter min_df, max_df. voir la doc de TfidfVectorizer !!\n",
    "tf_X = tf.fit_transform(X)\n",
    "\n",
    "# train/test split\n",
    "from sklearn.model_selection import train_test_split\n",
    "\n",
    "X_train, X_test, y_train, y_test = train_test_split(X, y, test_size=0.2, random_state=42)\n",
    "print(\"len X_train =\", len(X_train), \"len X_test =\", len(X_test))\n",
    "\n",
    "# CV transform X to vectors\n",
    "cv_X_train = cv.transform(X_train)\n",
    "cv_X_test = cv.transform(X_test)\n",
    "\n",
    "# Label encoder for y\n",
    "from sklearn import preprocessing\n",
    "le = preprocessing.LabelEncoder()\n",
    "le.fit(df.category.unique())\n",
    "\n",
    "train_category = le.fit_transform(y_train)\n",
    "test_category = le.fit_transform(y_test)\n",
    "\n",
    "# to inverse transform we use :\n",
    "#le.inverse_transform([0, 1, 2, 3, 4])\n",
    "d = zip([i for i in range(len(df.category.unique()))], le.inverse_transform([i for i in range(len(df.category.unique()))]))\n",
    "class_labels_dict = {}\n",
    "for k,v in d:\n",
    "    class_labels_dict[k] = v\n",
    "print(\"Labelled classes : \", class_labels_dict)\n",
    "\n",
    "# class_labels_dict[index] = LANGUAGE"
   ]
  },
  {
   "cell_type": "code",
   "execution_count": 7,
   "id": "efe476df",
   "metadata": {},
   "outputs": [
    {
     "name": "stdout",
     "output_type": "stream",
     "text": [
      "1980\n"
     ]
    },
    {
     "name": "stderr",
     "output_type": "stream",
     "text": [
      "/home/clinton/anaconda3/lib/python3.8/site-packages/sklearn/linear_model/_logistic.py:814: ConvergenceWarning: lbfgs failed to converge (status=1):\n",
      "STOP: TOTAL NO. of ITERATIONS REACHED LIMIT.\n",
      "\n",
      "Increase the number of iterations (max_iter) or scale the data as shown in:\n",
      "    https://scikit-learn.org/stable/modules/preprocessing.html\n",
      "Please also refer to the documentation for alternative solver options:\n",
      "    https://scikit-learn.org/stable/modules/linear_model.html#logistic-regression\n",
      "  n_iter_i = _check_optimize_result(\n"
     ]
    }
   ],
   "source": [
    "from sklearn.linear_model import LogisticRegression\n",
    "logisticRegr = LogisticRegression()\n",
    "logisticRegr.fit(cv_X_train, train_category)\n",
    "logisticRegr_predict = logisticRegr.predict(cv_X_test)\n",
    "print(len(logisticRegr_predict))"
   ]
  },
  {
   "cell_type": "code",
   "execution_count": 8,
   "id": "5e57a098",
   "metadata": {},
   "outputs": [
    {
     "name": "stdout",
     "output_type": "stream",
     "text": [
      "[10  5  2 ...  5  7  5]\n",
      "[10  5  8 ...  5  7  8]\n"
     ]
    }
   ],
   "source": [
    "print(logisticRegr_predict)\n",
    "print(test_category)"
   ]
  },
  {
   "cell_type": "code",
   "execution_count": 9,
   "id": "f2bc5c60",
   "metadata": {},
   "outputs": [
    {
     "name": "stdout",
     "output_type": "stream",
     "text": [
      "Score logistic regression with bag of words whithout cleaning text : 0.6161616161616161\n"
     ]
    }
   ],
   "source": [
    "print(\"Score logistic regression with bag of words whithout cleaning text :\", logisticRegr.score(cv_X_test, test_category))"
   ]
  },
  {
   "cell_type": "code",
   "execution_count": 10,
   "id": "cfcaacaa",
   "metadata": {},
   "outputs": [],
   "source": [
    "# SVM linear\n",
    "from sklearn.svm import SVC\n",
    "sv = SVC(kernel='linear', C=1E10)\n",
    "bow_sv = sv.fit(cv_X_train, train_category)"
   ]
  },
  {
   "cell_type": "code",
   "execution_count": 11,
   "id": "1bdec35a",
   "metadata": {},
   "outputs": [
    {
     "name": "stdout",
     "output_type": "stream",
     "text": [
      "1980\n",
      "Score linear SVM with bag of words whithout cleaning text : 0.555050505050505\n"
     ]
    }
   ],
   "source": [
    "bow_sv_predict = bow_sv.predict(cv_X_test)\n",
    "print(len(bow_sv_predict))\n",
    "print(\"Score linear SVM with bag of words whithout cleaning text :\", sv.score(cv_X_test, test_category))"
   ]
  },
  {
   "cell_type": "code",
   "execution_count": 12,
   "id": "c884134c",
   "metadata": {},
   "outputs": [
    {
     "name": "stdout",
     "output_type": "stream",
     "text": [
      "1980\n",
      "Score RBF SVM with bag of words whithout cleaning text : 0.5722222222222222\n"
     ]
    }
   ],
   "source": [
    "# SVM RBF\n",
    "from sklearn.svm import SVC\n",
    "svm_rbf = SVC(kernel='rbf', C=1E10)\n",
    "svm_rbf.fit(cv_X_train, train_category)\n",
    "\n",
    "svm_rbf_predict = svm_rbf.predict(cv_X_test)\n",
    "print(len(svm_rbf_predict))\n",
    "print(\"Score RBF SVM with bag of words whithout cleaning text :\", svm_rbf.score(cv_X_test, test_category))"
   ]
  },
  {
   "cell_type": "markdown",
   "id": "5876aad2",
   "metadata": {},
   "source": [
    "### Remarque :\n",
    "En testant ces 3 modèles sans nettoyage des textes et avec le bag of words :\n",
    "La régression logistique est celle qui donne le meilleure score, comparé au SVMs (même si le SVM avec kernel RBF est mieux que le SVM linéaire mais il reste en dessous)."
   ]
  },
  {
   "cell_type": "code",
   "execution_count": 13,
   "id": "89f9e5d0",
   "metadata": {},
   "outputs": [],
   "source": [
    "y_test = test_category\n",
    "y_pred = logisticRegr.predict(cv_X_test)"
   ]
  },
  {
   "cell_type": "code",
   "execution_count": 14,
   "id": "ae757821",
   "metadata": {},
   "outputs": [
    {
     "data": {
      "text/plain": [
       "\"\\n# Add labels to the plot\\nclass_names = [i for i in range(len(df.category.unique()))]\\ntick_marks = np.arange(len(class_names))\\ntick_marks2 = tick_marks + 0.5\\nplt.xticks(tick_marks, class_names, rotation=25)\\nplt.yticks(tick_marks2, class_names, rotation=0)\\nplt.xlabel('Predicted label')\\nplt.ylabel('True label')\\nplt.title('Confusion Matrix')\\nplt.show()\\n\""
      ]
     },
     "execution_count": 14,
     "metadata": {},
     "output_type": "execute_result"
    },
    {
     "data": {
      "image/png": "[encoded data removed]",
      "text/plain": [
       "<Figure size 1152x504 with 2 Axes>"
      ]
     },
     "metadata": {
      "needs_background": "light"
     },
     "output_type": "display_data"
    }
   ],
   "source": [
    "# Import needed packages\n",
    "import numpy as np\n",
    "import pandas as pd\n",
    "import matplotlib.pyplot as plt\n",
    "import seaborn as sns\n",
    "\n",
    "from sklearn.model_selection import train_test_split\n",
    "from sklearn.ensemble import RandomForestClassifier\n",
    "from sklearn.metrics import accuracy_score, confusion_matrix, classification_report\n",
    "\n",
    "# If you're working in Jupyter Notebook, include the following so that plots will display:\n",
    "%matplotlib inline\n",
    "\n",
    "\n",
    "# Get and reshape confusion matrix data\n",
    "matrix = confusion_matrix(y_test, y_pred)\n",
    "matrix = matrix.astype('float') / matrix.sum(axis=1)[:, np.newaxis]\n",
    "\n",
    "# Build the plot\n",
    "plt.figure(figsize=(16,7))\n",
    "sns.set(font_scale=1.4)\n",
    "sns.heatmap(matrix, annot=True, annot_kws={'size':10},\n",
    "            cmap=plt.cm.Greens, linewidths=0.2)\n",
    "\"\"\"\n",
    "# Add labels to the plot\n",
    "class_names = [i for i in range(len(df.category.unique()))]\n",
    "tick_marks = np.arange(len(class_names))\n",
    "tick_marks2 = tick_marks + 0.5\n",
    "plt.xticks(tick_marks, class_names, rotation=25)\n",
    "plt.yticks(tick_marks2, class_names, rotation=0)\n",
    "plt.xlabel('Predicted label')\n",
    "plt.ylabel('True label')\n",
    "plt.title('Confusion Matrix')\n",
    "plt.show()\n",
    "\"\"\""
   ]
  },
  {
   "cell_type": "markdown",
   "id": "1649dccc",
   "metadata": {},
   "source": [
    "## Evaluation functions"
   ]
  },
  {
   "cell_type": "code",
   "execution_count": 19,
   "id": "4f5c5c2d",
   "metadata": {},
   "outputs": [],
   "source": [
    "def print_metrics(y_test, y_pred):\n",
    "    from sklearn.metrics import accuracy_score, precision_score, recall_score, f1_score\n",
    "    # micro : Calculate metrics globally by counting the total true positives, false negatives and false positives.\n",
    "    # macro : faire le calcul étiquette par étiquette, puis faire la moyenne\n",
    "    labels_list=['ARA','CHI','FRE','GER','HIN','ITA','JPN','KOR','SPA','TEL','TUR']\n",
    "    average_param = \"macro\"\n",
    "    print(\"\\nAccuracy \", accuracy_score(y_test, y_pred))\n",
    "\n",
    "    print(\"\\n- Precision -\", average_param)\n",
    "    tmp = \"\\n\"+str(list(zip(labels_list, precision_score(y_test, y_pred, average=None, zero_division=1))))\n",
    "    print(\"precision by language :\", tmp.replace(\"),\",\")\\n\").replace(\"[\",'').replace(\"]\",''))\n",
    "    print(\"\\nprecision score \", precision_score(y_test, y_pred, average=average_param, zero_division=1))\n",
    "\n",
    "    print(\"\\n- Recall -\", average_param)\n",
    "    tmp = \"\\n\"+str(list(zip(labels_list, recall_score(y_test, y_pred, average=None, zero_division=1))))\n",
    "    print(\"recall by language \", tmp.replace(\"),\",\")\\n\").replace(\"[\",'').replace(\"]\",''))\n",
    "    print(\"\\nrecall score \",   recall_score(y_test, y_pred, average=average_param, zero_division=1))\n",
    "    tmp = \"\\n\"+str(list(zip(labels_list, f1_score(y_test, y_pred, average=None, zero_division=1))))\n",
    "    \n",
    "    print(\"\\n- F1 -\", average_param)\n",
    "    print(\"f1 by language \", tmp.replace(\"),\",\")\\n\").replace(\"[\",'').replace(\"]\",''))\n",
    "    print(\"\\nf1 score \", f1_score(y_test, y_pred, average=average_param, zero_division=1))\n",
    "    \n",
    "#print_metrics(y_test, y_pred)"
   ]
  },
  {
   "cell_type": "code",
   "execution_count": 20,
   "id": "599b2b3e",
   "metadata": {},
   "outputs": [],
   "source": [
    "def draw_confusion_matrix(y_test, y_pred, langs_label=['ARA',\\\n",
    " 'CHI',\n",
    " 'FRE',\n",
    " 'GER',\n",
    " 'HIN',\n",
    " 'ITA',\n",
    " 'JPN',\n",
    " 'KOR',\n",
    " 'SPA',\n",
    " 'TEL',\n",
    " 'TUR'], \n",
    "                          class_labels_dict=class_labels_dict):\n",
    "    import plotly.express as px\n",
    "    lang2num = {v: k for k, v in class_labels_dict.items()}\n",
    "    lang_list =  [ lang2num[k] for k in langs_label] \n",
    "    data = confusion_matrix(y_true=y_test, y_pred=y_pred, labels=lang_list)\n",
    "    fig = px.imshow(data,\n",
    "                    labels=dict(x=\"Languages y_test\", y=\"Languages y_pred\", color=\"confusion\"),\n",
    "                    x=langs_label,\n",
    "                    y=langs_label,\n",
    "                    text_auto=True,\n",
    "                    aspect=\"auto\")\n",
    "    fig.update_xaxes(side=\"top\")\n",
    "    fig.show()\n"
   ]
  },
  {
   "cell_type": "code",
   "execution_count": 21,
   "id": "70ccff32",
   "metadata": {},
   "outputs": [],
   "source": [
    "def evaluation(y_test, y_pred, labels_list=['ARA',\\\n",
    " 'CHI',\n",
    " 'FRE',\n",
    " 'GER',\n",
    " 'HIN',\n",
    " 'ITA',\n",
    " 'JPN',\n",
    " 'KOR',\n",
    " 'SPA',\n",
    " 'TEL',\n",
    " 'TUR'],\n",
    "               class_labels_dict:dict=class_labels_dict, \n",
    "               exclude:list=[\"\"]):\n",
    "    print(\"\\n-- EVALUATION --\\n\")\n",
    "    draw_confusion_matrix(y_test, y_pred, langs_label=labels_list, class_labels_dict=class_labels_dict)\n",
    "\n",
    "    print_metrics(y_test, y_pred)\n",
    "   "
   ]
  },
  {
   "cell_type": "code",
   "execution_count": 22,
   "id": "c10ec450",
   "metadata": {},
   "outputs": [
    {
     "name": "stdout",
     "output_type": "stream",
     "text": [
      "\n",
      "-- EVALUATION --\n",
      "\n"
     ]
    },
    {
     "data": {
      "application/vnd.plotly.v1+json": {
       "config": {
        "plotlyServerURL": "https://plot.ly"
       },
       "data": [
        {
         "coloraxis": "coloraxis",
         "hovertemplate": "Languages y_test: %{x}<br>Languages y_pred: %{y}<br>confusion: %{z}<extra></extra>",
         "name": "0",
         "texttemplate": "%{z}",
         "type": "heatmap",
         "x": [
          "ARA",
          "CHI",
          "FRE",
          "GER",
          "HIN",
          "ITA",
          "JPN",
          "KOR",
          "SPA",
          "TEL",
          "TUR"
         ],
         "xaxis": "x",
         "y": [
          "ARA",
          "CHI",
          "FRE",
          "GER",
          "HIN",
          "ITA",
          "JPN",
          "KOR",
          "SPA",
          "TEL",
          "TUR"
         ],
         "yaxis": "y",
         "z": [
          [
           107,
           9,
           10,
           3,
           8,
           1,
           6,
           7,
           11,
           3,
           5
          ],
          [
           8,
           109,
           6,
           4,
           4,
           2,
           12,
           16,
           5,
           2,
           7
          ],
          [
           7,
           5,
           122,
           5,
           4,
           14,
           6,
           7,
           16,
           0,
           7
          ],
          [
           6,
           1,
           11,
           124,
           1,
           13,
           0,
           0,
           5,
           4,
           7
          ],
          [
           0,
           4,
           4,
           2,
           102,
           1,
           2,
           1,
           3,
           47,
           10
          ],
          [
           4,
           2,
           13,
           10,
           3,
           114,
           4,
           2,
           7,
           1,
           4
          ],
          [
           11,
           12,
           5,
           1,
           1,
           3,
           116,
           29,
           2,
           0,
           6
          ],
          [
           8,
           24,
           3,
           8,
           3,
           3,
           32,
           102,
           6,
           2,
           10
          ],
          [
           14,
           4,
           19,
           14,
           4,
           19,
           2,
           4,
           105,
           4,
           7
          ],
          [
           8,
           1,
           2,
           2,
           36,
           1,
           2,
           1,
           3,
           117,
           6
          ],
          [
           10,
           6,
           9,
           6,
           4,
           3,
           5,
           8,
           8,
           7,
           102
          ]
         ]
        }
       ],
       "layout": {
        "coloraxis": {
         "colorbar": {
          "title": {
           "text": "confusion"
          }
         },
         "colorscale": [
          [
           0,
           "#0d0887"
          ],
          [
           0.1111111111111111,
           "#46039f"
          ],
          [
           0.2222222222222222,
           "#7201a8"
          ],
          [
           0.3333333333333333,
           "#9c179e"
          ],
          [
           0.4444444444444444,
           "#bd3786"
          ],
          [
           0.5555555555555556,
           "#d8576b"
          ],
          [
           0.6666666666666666,
           "#ed7953"
          ],
          [
           0.7777777777777778,
           "#fb9f3a"
          ],
          [
           0.8888888888888888,
           "#fdca26"
          ],
          [
           1,
           "#f0f921"
          ]
         ]
        },
        "margin": {
         "t": 60
        },
        "template": {
         "data": {
          "bar": [
           {
            "error_x": {
             "color": "#2a3f5f"
            },
            "error_y": {
             "color": "#2a3f5f"
            },
            "marker": {
             "line": {
              "color": "#E5ECF6",
              "width": 0.5
             },
             "pattern": {
              "fillmode": "overlay",
              "size": 10,
              "solidity": 0.2
             }
            },
            "type": "bar"
           }
          ],
          "barpolar": [
           {
            "marker": {
             "line": {
              "color": "#E5ECF6",
              "width": 0.5
             },
             "pattern": {
              "fillmode": "overlay",
              "size": 10,
              "solidity": 0.2
             }
            },
            "type": "barpolar"
           }
          ],
          "carpet": [
           {
            "aaxis": {
             "endlinecolor": "#2a3f5f",
             "gridcolor": "white",
             "linecolor": "white",
             "minorgridcolor": "white",
             "startlinecolor": "#2a3f5f"
            },
            "baxis": {
             "endlinecolor": "#2a3f5f",
             "gridcolor": "white",
             "linecolor": "white",
             "minorgridcolor": "white",
             "startlinecolor": "#2a3f5f"
            },
            "type": "carpet"
           }
          ],
          "choropleth": [
           {
            "colorbar": {
             "outlinewidth": 0,
             "ticks": ""
            },
            "type": "choropleth"
           }
          ],
          "contour": [
           {
            "colorbar": {
             "outlinewidth": 0,
             "ticks": ""
            },
            "colorscale": [
             [
              0,
              "#0d0887"
             ],
             [
              0.1111111111111111,
              "#46039f"
             ],
             [
              0.2222222222222222,
              "#7201a8"
             ],
             [
              0.3333333333333333,
              "#9c179e"
             ],
             [
              0.4444444444444444,
              "#bd3786"
             ],
             [
              0.5555555555555556,
              "#d8576b"
             ],
             [
              0.6666666666666666,
              "#ed7953"
             ],
             [
              0.7777777777777778,
              "#fb9f3a"
             ],
             [
              0.8888888888888888,
              "#fdca26"
             ],
             [
              1,
              "#f0f921"
             ]
            ],
            "type": "contour"
           }
          ],
          "contourcarpet": [
           {
            "colorbar": {
             "outlinewidth": 0,
             "ticks": ""
            },
            "type": "contourcarpet"
           }
          ],
          "heatmap": [
           {
            "colorbar": {
             "outlinewidth": 0,
             "ticks": ""
            },
            "colorscale": [
             [
              0,
              "#0d0887"
             ],
             [
              0.1111111111111111,
              "#46039f"
             ],
             [
              0.2222222222222222,
              "#7201a8"
             ],
             [
              0.3333333333333333,
              "#9c179e"
             ],
             [
              0.4444444444444444,
              "#bd3786"
             ],
             [
              0.5555555555555556,
              "#d8576b"
             ],
             [
              0.6666666666666666,
              "#ed7953"
             ],
             [
              0.7777777777777778,
              "#fb9f3a"
             ],
             [
              0.8888888888888888,
              "#fdca26"
             ],
             [
              1,
              "#f0f921"
             ]
            ],
            "type": "heatmap"
           }
          ],
          "heatmapgl": [
           {
            "colorbar": {
             "outlinewidth": 0,
             "ticks": ""
            },
            "colorscale": [
             [
              0,
              "#0d0887"
             ],
             [
              0.1111111111111111,
              "#46039f"
             ],
             [
              0.2222222222222222,
              "#7201a8"
             ],
             [
              0.3333333333333333,
              "#9c179e"
             ],
             [
              0.4444444444444444,
              "#bd3786"
             ],
             [
              0.5555555555555556,
              "#d8576b"
             ],
             [
              0.6666666666666666,
              "#ed7953"
             ],
             [
              0.7777777777777778,
              "#fb9f3a"
             ],
             [
              0.8888888888888888,
              "#fdca26"
             ],
             [
              1,
              "#f0f921"
             ]
            ],
            "type": "heatmapgl"
           }
          ],
          "histogram": [
           {
            "marker": {
             "pattern": {
              "fillmode": "overlay",
              "size": 10,
              "solidity": 0.2
             }
            },
            "type": "histogram"
           }
          ],
          "histogram2d": [
           {
            "colorbar": {
             "outlinewidth": 0,
             "ticks": ""
            },
            "colorscale": [
             [
              0,
              "#0d0887"
             ],
             [
              0.1111111111111111,
              "#46039f"
             ],
             [
              0.2222222222222222,
              "#7201a8"
             ],
             [
              0.3333333333333333,
              "#9c179e"
             ],
             [
              0.4444444444444444,
              "#bd3786"
             ],
             [
              0.5555555555555556,
              "#d8576b"
             ],
             [
              0.6666666666666666,
              "#ed7953"
             ],
             [
              0.7777777777777778,
              "#fb9f3a"
             ],
             [
              0.8888888888888888,
              "#fdca26"
             ],
             [
              1,
              "#f0f921"
             ]
            ],
            "type": "histogram2d"
           }
          ],
          "histogram2dcontour": [
           {
            "colorbar": {
             "outlinewidth": 0,
             "ticks": ""
            },
            "colorscale": [
             [
              0,
              "#0d0887"
             ],
             [
              0.1111111111111111,
              "#46039f"
             ],
             [
              0.2222222222222222,
              "#7201a8"
             ],
             [
              0.3333333333333333,
              "#9c179e"
             ],
             [
              0.4444444444444444,
              "#bd3786"
             ],
             [
              0.5555555555555556,
              "#d8576b"
             ],
             [
              0.6666666666666666,
              "#ed7953"
             ],
             [
              0.7777777777777778,
              "#fb9f3a"
             ],
             [
              0.8888888888888888,
              "#fdca26"
             ],
             [
              1,
              "#f0f921"
             ]
            ],
            "type": "histogram2dcontour"
           }
          ],
          "mesh3d": [
           {
            "colorbar": {
             "outlinewidth": 0,
             "ticks": ""
            },
            "type": "mesh3d"
           }
          ],
          "parcoords": [
           {
            "line": {
             "colorbar": {
              "outlinewidth": 0,
              "ticks": ""
             }
            },
            "type": "parcoords"
           }
          ],
          "pie": [
           {
            "automargin": true,
            "type": "pie"
           }
          ],
          "scatter": [
           {
            "fillpattern": {
             "fillmode": "overlay",
             "size": 10,
             "solidity": 0.2
            },
            "type": "scatter"
           }
          ],
          "scatter3d": [
           {
            "line": {
             "colorbar": {
              "outlinewidth": 0,
              "ticks": ""
             }
            },
            "marker": {
             "colorbar": {
              "outlinewidth": 0,
              "ticks": ""
             }
            },
            "type": "scatter3d"
           }
          ],
          "scattercarpet": [
           {
            "marker": {
             "colorbar": {
              "outlinewidth": 0,
              "ticks": ""
             }
            },
            "type": "scattercarpet"
           }
          ],
          "scattergeo": [
           {
            "marker": {
             "colorbar": {
              "outlinewidth": 0,
              "ticks": ""
             }
            },
            "type": "scattergeo"
           }
          ],
          "scattergl": [
           {
            "marker": {
             "colorbar": {
              "outlinewidth": 0,
              "ticks": ""
             }
            },
            "type": "scattergl"
           }
          ],
          "scattermapbox": [
           {
            "marker": {
             "colorbar": {
              "outlinewidth": 0,
              "ticks": ""
             }
            },
            "type": "scattermapbox"
           }
          ],
          "scatterpolar": [
           {
            "marker": {
             "colorbar": {
              "outlinewidth": 0,
              "ticks": ""
             }
            },
            "type": "scatterpolar"
           }
          ],
          "scatterpolargl": [
           {
            "marker": {
             "colorbar": {
              "outlinewidth": 0,
              "ticks": ""
             }
            },
            "type": "scatterpolargl"
           }
          ],
          "scatterternary": [
           {
            "marker": {
             "colorbar": {
              "outlinewidth": 0,
              "ticks": ""
             }
            },
            "type": "scatterternary"
           }
          ],
          "surface": [
           {
            "colorbar": {
             "outlinewidth": 0,
             "ticks": ""
            },
            "colorscale": [
             [
              0,
              "#0d0887"
             ],
             [
              0.1111111111111111,
              "#46039f"
             ],
             [
              0.2222222222222222,
              "#7201a8"
             ],
             [
              0.3333333333333333,
              "#9c179e"
             ],
             [
              0.4444444444444444,
              "#bd3786"
             ],
             [
              0.5555555555555556,
              "#d8576b"
             ],
             [
              0.6666666666666666,
              "#ed7953"
             ],
             [
              0.7777777777777778,
              "#fb9f3a"
             ],
             [
              0.8888888888888888,
              "#fdca26"
             ],
             [
              1,
              "#f0f921"
             ]
            ],
            "type": "surface"
           }
          ],
          "table": [
           {
            "cells": {
             "fill": {
              "color": "#EBF0F8"
             },
             "line": {
              "color": "white"
             }
            },
            "header": {
             "fill": {
              "color": "#C8D4E3"
             },
             "line": {
              "color": "white"
             }
            },
            "type": "table"
           }
          ]
         },
         "layout": {
          "annotationdefaults": {
           "arrowcolor": "#2a3f5f",
           "arrowhead": 0,
           "arrowwidth": 1
          },
          "autotypenumbers": "strict",
          "coloraxis": {
           "colorbar": {
            "outlinewidth": 0,
            "ticks": ""
           }
          },
          "colorscale": {
           "diverging": [
            [
             0,
             "#8e0152"
            ],
            [
             0.1,
             "#c51b7d"
            ],
            [
             0.2,
             "#de77ae"
            ],
            [
             0.3,
             "#f1b6da"
            ],
            [
             0.4,
             "#fde0ef"
            ],
            [
             0.5,
             "#f7f7f7"
            ],
            [
             0.6,
             "#e6f5d0"
            ],
            [
             0.7,
             "#b8e186"
            ],
            [
             0.8,
             "#7fbc41"
            ],
            [
             0.9,
             "#4d9221"
            ],
            [
             1,
             "#276419"
            ]
           ],
           "sequential": [
            [
             0,
             "#0d0887"
            ],
            [
             0.1111111111111111,
             "#46039f"
            ],
            [
             0.2222222222222222,
             "#7201a8"
            ],
            [
             0.3333333333333333,
             "#9c179e"
            ],
            [
             0.4444444444444444,
             "#bd3786"
            ],
            [
             0.5555555555555556,
             "#d8576b"
            ],
            [
             0.6666666666666666,
             "#ed7953"
            ],
            [
             0.7777777777777778,
             "#fb9f3a"
            ],
            [
             0.8888888888888888,
             "#fdca26"
            ],
            [
             1,
             "#f0f921"
            ]
           ],
           "sequentialminus": [
            [
             0,
             "#0d0887"
            ],
            [
             0.1111111111111111,
             "#46039f"
            ],
            [
             0.2222222222222222,
             "#7201a8"
            ],
            [
             0.3333333333333333,
             "#9c179e"
            ],
            [
             0.4444444444444444,
             "#bd3786"
            ],
            [
             0.5555555555555556,
             "#d8576b"
            ],
            [
             0.6666666666666666,
             "#ed7953"
            ],
            [
             0.7777777777777778,
             "#fb9f3a"
            ],
            [
             0.8888888888888888,
             "#fdca26"
            ],
            [
             1,
             "#f0f921"
            ]
           ]
          },
          "colorway": [
           "#636efa",
           "#EF553B",
           "#00cc96",
           "#ab63fa",
           "#FFA15A",
           "#19d3f3",
           "#FF6692",
           "#B6E880",
           "#FF97FF",
           "#FECB52"
          ],
          "font": {
           "color": "#2a3f5f"
          },
          "geo": {
           "bgcolor": "white",
           "lakecolor": "white",
           "landcolor": "#E5ECF6",
           "showlakes": true,
           "showland": true,
           "subunitcolor": "white"
          },
          "hoverlabel": {
           "align": "left"
          },
          "hovermode": "closest",
          "mapbox": {
           "style": "light"
          },
          "paper_bgcolor": "white",
          "plot_bgcolor": "#E5ECF6",
          "polar": {
           "angularaxis": {
            "gridcolor": "white",
            "linecolor": "white",
            "ticks": ""
           },
           "bgcolor": "#E5ECF6",
           "radialaxis": {
            "gridcolor": "white",
            "linecolor": "white",
            "ticks": ""
           }
          },
          "scene": {
           "xaxis": {
            "backgroundcolor": "#E5ECF6",
            "gridcolor": "white",
            "gridwidth": 2,
            "linecolor": "white",
            "showbackground": true,
            "ticks": "",
            "zerolinecolor": "white"
           },
           "yaxis": {
            "backgroundcolor": "#E5ECF6",
            "gridcolor": "white",
            "gridwidth": 2,
            "linecolor": "white",
            "showbackground": true,
            "ticks": "",
            "zerolinecolor": "white"
           },
           "zaxis": {
            "backgroundcolor": "#E5ECF6",
            "gridcolor": "white",
            "gridwidth": 2,
            "linecolor": "white",
            "showbackground": true,
            "ticks": "",
            "zerolinecolor": "white"
           }
          },
          "shapedefaults": {
           "line": {
            "color": "#2a3f5f"
           }
          },
          "ternary": {
           "aaxis": {
            "gridcolor": "white",
            "linecolor": "white",
            "ticks": ""
           },
           "baxis": {
            "gridcolor": "white",
            "linecolor": "white",
            "ticks": ""
           },
           "bgcolor": "#E5ECF6",
           "caxis": {
            "gridcolor": "white",
            "linecolor": "white",
            "ticks": ""
           }
          },
          "title": {
           "x": 0.05
          },
          "xaxis": {
           "automargin": true,
           "gridcolor": "white",
           "linecolor": "white",
           "ticks": "",
           "title": {
            "standoff": 15
           },
           "zerolinecolor": "white",
           "zerolinewidth": 2
          },
          "yaxis": {
           "automargin": true,
           "gridcolor": "white",
           "linecolor": "white",
           "ticks": "",
           "title": {
            "standoff": 15
           },
           "zerolinecolor": "white",
           "zerolinewidth": 2
          }
         }
        },
        "xaxis": {
         "anchor": "y",
         "domain": [
          0,
          1
         ],
         "side": "top",
         "title": {
          "text": "Languages y_test"
         }
        },
        "yaxis": {
         "anchor": "x",
         "autorange": "reversed",
         "domain": [
          0,
          1
         ],
         "title": {
          "text": "Languages y_pred"
         }
        }
       }
      },
      "text/html": [
       "<div>                            <div id=\"2fec01f3-0494-4afe-88e9-687ea7b5cd24\" class=\"plotly-graph-div\" style=\"height:525px; width:100%;\"></div>            <script type=\"text/javascript\">                require([\"plotly\"], function(Plotly) {                    window.PLOTLYENV=window.PLOTLYENV || {};                                    if (document.getElementById(\"2fec01f3-0494-4afe-88e9-687ea7b5cd24\")) {                    Plotly.newPlot(                        \"2fec01f3-0494-4afe-88e9-687ea7b5cd24\",                        [{\"coloraxis\":\"coloraxis\",\"name\":\"0\",\"texttemplate\":\"%{z}\",\"x\":[\"ARA\",\"CHI\",\"FRE\",\"GER\",\"HIN\",\"ITA\",\"JPN\",\"KOR\",\"SPA\",\"TEL\",\"TUR\"],\"y\":[\"ARA\",\"CHI\",\"FRE\",\"GER\",\"HIN\",\"ITA\",\"JPN\",\"KOR\",\"SPA\",\"TEL\",\"TUR\"],\"z\":[[107,9,10,3,8,1,6,7,11,3,5],[8,109,6,4,4,2,12,16,5,2,7],[7,5,122,5,4,14,6,7,16,0,7],[6,1,11,124,1,13,0,0,5,4,7],[0,4,4,2,102,1,2,1,3,47,10],[4,2,13,10,3,114,4,2,7,1,4],[11,12,5,1,1,3,116,29,2,0,6],[8,24,3,8,3,3,32,102,6,2,10],[14,4,19,14,4,19,2,4,105,4,7],[8,1,2,2,36,1,2,1,3,117,6],[10,6,9,6,4,3,5,8,8,7,102]],\"type\":\"heatmap\",\"xaxis\":\"x\",\"yaxis\":\"y\",\"hovertemplate\":\"Languages y_test: %{x}<br>Languages y_pred: %{y}<br>confusion: %{z}<extra></extra>\"}],                        {\"template\":{\"data\":{\"histogram2dcontour\":[{\"type\":\"histogram2dcontour\",\"colorbar\":{\"outlinewidth\":0,\"ticks\":\"\"},\"colorscale\":[[0.0,\"#0d0887\"],[0.1111111111111111,\"#46039f\"],[0.2222222222222222,\"#7201a8\"],[0.3333333333333333,\"#9c179e\"],[0.4444444444444444,\"#bd3786\"],[0.5555555555555556,\"#d8576b\"],[0.6666666666666666,\"#ed7953\"],[0.7777777777777778,\"#fb9f3a\"],[0.8888888888888888,\"#fdca26\"],[1.0,\"#f0f921\"]]}],\"choropleth\":[{\"type\":\"choropleth\",\"colorbar\":{\"outlinewidth\":0,\"ticks\":\"\"}}],\"histogram2d\":[{\"type\":\"histogram2d\",\"colorbar\":{\"outlinewidth\":0,\"ticks\":\"\"},\"colorscale\":[[0.0,\"#0d0887\"],[0.1111111111111111,\"#46039f\"],[0.2222222222222222,\"#7201a8\"],[0.3333333333333333,\"#9c179e\"],[0.4444444444444444,\"#bd3786\"],[0.5555555555555556,\"#d8576b\"],[0.6666666666666666,\"#ed7953\"],[0.7777777777777778,\"#fb9f3a\"],[0.8888888888888888,\"#fdca26\"],[1.0,\"#f0f921\"]]}],\"heatmap\":[{\"type\":\"heatmap\",\"colorbar\":{\"outlinewidth\":0,\"ticks\":\"\"},\"colorscale\":[[0.0,\"#0d0887\"],[0.1111111111111111,\"#46039f\"],[0.2222222222222222,\"#7201a8\"],[0.3333333333333333,\"#9c179e\"],[0.4444444444444444,\"#bd3786\"],[0.5555555555555556,\"#d8576b\"],[0.6666666666666666,\"#ed7953\"],[0.7777777777777778,\"#fb9f3a\"],[0.8888888888888888,\"#fdca26\"],[1.0,\"#f0f921\"]]}],\"heatmapgl\":[{\"type\":\"heatmapgl\",\"colorbar\":{\"outlinewidth\":0,\"ticks\":\"\"},\"colorscale\":[[0.0,\"#0d0887\"],[0.1111111111111111,\"#46039f\"],[0.2222222222222222,\"#7201a8\"],[0.3333333333333333,\"#9c179e\"],[0.4444444444444444,\"#bd3786\"],[0.5555555555555556,\"#d8576b\"],[0.6666666666666666,\"#ed7953\"],[0.7777777777777778,\"#fb9f3a\"],[0.8888888888888888,\"#fdca26\"],[1.0,\"#f0f921\"]]}],\"contourcarpet\":[{\"type\":\"contourcarpet\",\"colorbar\":{\"outlinewidth\":0,\"ticks\":\"\"}}],\"contour\":[{\"type\":\"contour\",\"colorbar\":{\"outlinewidth\":0,\"ticks\":\"\"},\"colorscale\":[[0.0,\"#0d0887\"],[0.1111111111111111,\"#46039f\"],[0.2222222222222222,\"#7201a8\"],[0.3333333333333333,\"#9c179e\"],[0.4444444444444444,\"#bd3786\"],[0.5555555555555556,\"#d8576b\"],[0.6666666666666666,\"#ed7953\"],[0.7777777777777778,\"#fb9f3a\"],[0.8888888888888888,\"#fdca26\"],[1.0,\"#f0f921\"]]}],\"surface\":[{\"type\":\"surface\",\"colorbar\":{\"outlinewidth\":0,\"ticks\":\"\"},\"colorscale\":[[0.0,\"#0d0887\"],[0.1111111111111111,\"#46039f\"],[0.2222222222222222,\"#7201a8\"],[0.3333333333333333,\"#9c179e\"],[0.4444444444444444,\"#bd3786\"],[0.5555555555555556,\"#d8576b\"],[0.6666666666666666,\"#ed7953\"],[0.7777777777777778,\"#fb9f3a\"],[0.8888888888888888,\"#fdca26\"],[1.0,\"#f0f921\"]]}],\"mesh3d\":[{\"type\":\"mesh3d\",\"colorbar\":{\"outlinewidth\":0,\"ticks\":\"\"}}],\"scatter\":[{\"fillpattern\":{\"fillmode\":\"overlay\",\"size\":10,\"solidity\":0.2},\"type\":\"scatter\"}],\"parcoords\":[{\"type\":\"parcoords\",\"line\":{\"colorbar\":{\"outlinewidth\":0,\"ticks\":\"\"}}}],\"scatterpolargl\":[{\"type\":\"scatterpolargl\",\"marker\":{\"colorbar\":{\"outlinewidth\":0,\"ticks\":\"\"}}}],\"bar\":[{\"error_x\":{\"color\":\"#2a3f5f\"},\"error_y\":{\"color\":\"#2a3f5f\"},\"marker\":{\"line\":{\"color\":\"#E5ECF6\",\"width\":0.5},\"pattern\":{\"fillmode\":\"overlay\",\"size\":10,\"solidity\":0.2}},\"type\":\"bar\"}],\"scattergeo\":[{\"type\":\"scattergeo\",\"marker\":{\"colorbar\":{\"outlinewidth\":0,\"ticks\":\"\"}}}],\"scatterpolar\":[{\"type\":\"scatterpolar\",\"marker\":{\"colorbar\":{\"outlinewidth\":0,\"ticks\":\"\"}}}],\"histogram\":[{\"marker\":{\"pattern\":{\"fillmode\":\"overlay\",\"size\":10,\"solidity\":0.2}},\"type\":\"histogram\"}],\"scattergl\":[{\"type\":\"scattergl\",\"marker\":{\"colorbar\":{\"outlinewidth\":0,\"ticks\":\"\"}}}],\"scatter3d\":[{\"type\":\"scatter3d\",\"line\":{\"colorbar\":{\"outlinewidth\":0,\"ticks\":\"\"}},\"marker\":{\"colorbar\":{\"outlinewidth\":0,\"ticks\":\"\"}}}],\"scattermapbox\":[{\"type\":\"scattermapbox\",\"marker\":{\"colorbar\":{\"outlinewidth\":0,\"ticks\":\"\"}}}],\"scatterternary\":[{\"type\":\"scatterternary\",\"marker\":{\"colorbar\":{\"outlinewidth\":0,\"ticks\":\"\"}}}],\"scattercarpet\":[{\"type\":\"scattercarpet\",\"marker\":{\"colorbar\":{\"outlinewidth\":0,\"ticks\":\"\"}}}],\"carpet\":[{\"aaxis\":{\"endlinecolor\":\"#2a3f5f\",\"gridcolor\":\"white\",\"linecolor\":\"white\",\"minorgridcolor\":\"white\",\"startlinecolor\":\"#2a3f5f\"},\"baxis\":{\"endlinecolor\":\"#2a3f5f\",\"gridcolor\":\"white\",\"linecolor\":\"white\",\"minorgridcolor\":\"white\",\"startlinecolor\":\"#2a3f5f\"},\"type\":\"carpet\"}],\"table\":[{\"cells\":{\"fill\":{\"color\":\"#EBF0F8\"},\"line\":{\"color\":\"white\"}},\"header\":{\"fill\":{\"color\":\"#C8D4E3\"},\"line\":{\"color\":\"white\"}},\"type\":\"table\"}],\"barpolar\":[{\"marker\":{\"line\":{\"color\":\"#E5ECF6\",\"width\":0.5},\"pattern\":{\"fillmode\":\"overlay\",\"size\":10,\"solidity\":0.2}},\"type\":\"barpolar\"}],\"pie\":[{\"automargin\":true,\"type\":\"pie\"}]},\"layout\":{\"autotypenumbers\":\"strict\",\"colorway\":[\"#636efa\",\"#EF553B\",\"#00cc96\",\"#ab63fa\",\"#FFA15A\",\"#19d3f3\",\"#FF6692\",\"#B6E880\",\"#FF97FF\",\"#FECB52\"],\"font\":{\"color\":\"#2a3f5f\"},\"hovermode\":\"closest\",\"hoverlabel\":{\"align\":\"left\"},\"paper_bgcolor\":\"white\",\"plot_bgcolor\":\"#E5ECF6\",\"polar\":{\"bgcolor\":\"#E5ECF6\",\"angularaxis\":{\"gridcolor\":\"white\",\"linecolor\":\"white\",\"ticks\":\"\"},\"radialaxis\":{\"gridcolor\":\"white\",\"linecolor\":\"white\",\"ticks\":\"\"}},\"ternary\":{\"bgcolor\":\"#E5ECF6\",\"aaxis\":{\"gridcolor\":\"white\",\"linecolor\":\"white\",\"ticks\":\"\"},\"baxis\":{\"gridcolor\":\"white\",\"linecolor\":\"white\",\"ticks\":\"\"},\"caxis\":{\"gridcolor\":\"white\",\"linecolor\":\"white\",\"ticks\":\"\"}},\"coloraxis\":{\"colorbar\":{\"outlinewidth\":0,\"ticks\":\"\"}},\"colorscale\":{\"sequential\":[[0.0,\"#0d0887\"],[0.1111111111111111,\"#46039f\"],[0.2222222222222222,\"#7201a8\"],[0.3333333333333333,\"#9c179e\"],[0.4444444444444444,\"#bd3786\"],[0.5555555555555556,\"#d8576b\"],[0.6666666666666666,\"#ed7953\"],[0.7777777777777778,\"#fb9f3a\"],[0.8888888888888888,\"#fdca26\"],[1.0,\"#f0f921\"]],\"sequentialminus\":[[0.0,\"#0d0887\"],[0.1111111111111111,\"#46039f\"],[0.2222222222222222,\"#7201a8\"],[0.3333333333333333,\"#9c179e\"],[0.4444444444444444,\"#bd3786\"],[0.5555555555555556,\"#d8576b\"],[0.6666666666666666,\"#ed7953\"],[0.7777777777777778,\"#fb9f3a\"],[0.8888888888888888,\"#fdca26\"],[1.0,\"#f0f921\"]],\"diverging\":[[0,\"#8e0152\"],[0.1,\"#c51b7d\"],[0.2,\"#de77ae\"],[0.3,\"#f1b6da\"],[0.4,\"#fde0ef\"],[0.5,\"#f7f7f7\"],[0.6,\"#e6f5d0\"],[0.7,\"#b8e186\"],[0.8,\"#7fbc41\"],[0.9,\"#4d9221\"],[1,\"#276419\"]]},\"xaxis\":{\"gridcolor\":\"white\",\"linecolor\":\"white\",\"ticks\":\"\",\"title\":{\"standoff\":15},\"zerolinecolor\":\"white\",\"automargin\":true,\"zerolinewidth\":2},\"yaxis\":{\"gridcolor\":\"white\",\"linecolor\":\"white\",\"ticks\":\"\",\"title\":{\"standoff\":15},\"zerolinecolor\":\"white\",\"automargin\":true,\"zerolinewidth\":2},\"scene\":{\"xaxis\":{\"backgroundcolor\":\"#E5ECF6\",\"gridcolor\":\"white\",\"linecolor\":\"white\",\"showbackground\":true,\"ticks\":\"\",\"zerolinecolor\":\"white\",\"gridwidth\":2},\"yaxis\":{\"backgroundcolor\":\"#E5ECF6\",\"gridcolor\":\"white\",\"linecolor\":\"white\",\"showbackground\":true,\"ticks\":\"\",\"zerolinecolor\":\"white\",\"gridwidth\":2},\"zaxis\":{\"backgroundcolor\":\"#E5ECF6\",\"gridcolor\":\"white\",\"linecolor\":\"white\",\"showbackground\":true,\"ticks\":\"\",\"zerolinecolor\":\"white\",\"gridwidth\":2}},\"shapedefaults\":{\"line\":{\"color\":\"#2a3f5f\"}},\"annotationdefaults\":{\"arrowcolor\":\"#2a3f5f\",\"arrowhead\":0,\"arrowwidth\":1},\"geo\":{\"bgcolor\":\"white\",\"landcolor\":\"#E5ECF6\",\"subunitcolor\":\"white\",\"showland\":true,\"showlakes\":true,\"lakecolor\":\"white\"},\"title\":{\"x\":0.05},\"mapbox\":{\"style\":\"light\"}}},\"xaxis\":{\"anchor\":\"y\",\"domain\":[0.0,1.0],\"title\":{\"text\":\"Languages y_test\"},\"side\":\"top\"},\"yaxis\":{\"anchor\":\"x\",\"domain\":[0.0,1.0],\"autorange\":\"reversed\",\"title\":{\"text\":\"Languages y_pred\"}},\"coloraxis\":{\"colorbar\":{\"title\":{\"text\":\"confusion\"}},\"colorscale\":[[0.0,\"#0d0887\"],[0.1111111111111111,\"#46039f\"],[0.2222222222222222,\"#7201a8\"],[0.3333333333333333,\"#9c179e\"],[0.4444444444444444,\"#bd3786\"],[0.5555555555555556,\"#d8576b\"],[0.6666666666666666,\"#ed7953\"],[0.7777777777777778,\"#fb9f3a\"],[0.8888888888888888,\"#fdca26\"],[1.0,\"#f0f921\"]]},\"margin\":{\"t\":60}},                        {\"responsive\": true}                    ).then(function(){\n",
       "                            \n",
       "var gd = document.getElementById('2fec01f3-0494-4afe-88e9-687ea7b5cd24');\n",
       "var x = new MutationObserver(function (mutations, observer) {{\n",
       "        var display = window.getComputedStyle(gd).display;\n",
       "        if (!display || display === 'none') {{\n",
       "            console.log([gd, 'removed!']);\n",
       "            Plotly.purge(gd);\n",
       "            observer.disconnect();\n",
       "        }}\n",
       "}});\n",
       "\n",
       "// Listen for the removal of the full notebook cells\n",
       "var notebookContainer = gd.closest('#notebook-container');\n",
       "if (notebookContainer) {{\n",
       "    x.observe(notebookContainer, {childList: true});\n",
       "}}\n",
       "\n",
       "// Listen for the clearing of the current output cell\n",
       "var outputEl = gd.closest('.output');\n",
       "if (outputEl) {{\n",
       "    x.observe(outputEl, {childList: true});\n",
       "}}\n",
       "\n",
       "                        })                };                });            </script>        </div>"
      ]
     },
     "metadata": {},
     "output_type": "display_data"
    },
    {
     "name": "stdout",
     "output_type": "stream",
     "text": [
      "\n",
      "Accuracy  0.6161616161616161\n",
      "\n",
      "- Precision - macro\n",
      "precision by language : \n",
      "('ARA', 0.5846994535519126)\n",
      " ('CHI', 0.615819209039548)\n",
      " ('FRE', 0.5980392156862745)\n",
      " ('GER', 0.6927374301675978)\n",
      " ('HIN', 0.6)\n",
      " ('ITA', 0.6551724137931034)\n",
      " ('JPN', 0.6203208556149733)\n",
      " ('KOR', 0.576271186440678)\n",
      " ('SPA', 0.6140350877192983)\n",
      " ('TEL', 0.6256684491978609)\n",
      " ('TUR', 0.5964912280701754)\n",
      "\n",
      "precision score  0.6162958662983111\n",
      "\n",
      "- Recall - macro\n",
      "recall by language  \n",
      "('ARA', 0.6294117647058823)\n",
      " ('CHI', 0.6228571428571429)\n",
      " ('FRE', 0.6321243523316062)\n",
      " ('GER', 0.7209302325581395)\n",
      " ('HIN', 0.5795454545454546)\n",
      " ('ITA', 0.6951219512195121)\n",
      " ('JPN', 0.6236559139784946)\n",
      " ('KOR', 0.5074626865671642)\n",
      " ('SPA', 0.5357142857142857)\n",
      " ('TEL', 0.6536312849162011)\n",
      " ('TUR', 0.6071428571428571)\n",
      "\n",
      "recall score  0.6188725387760672\n",
      "\n",
      "- F1 - macro\n",
      "f1 by language  \n",
      "('ARA', 0.6062322946175637)\n",
      " ('CHI', 0.6193181818181819)\n",
      " ('FRE', 0.614609571788413)\n",
      " ('GER', 0.7065527065527065)\n",
      " ('HIN', 0.5895953757225433)\n",
      " ('ITA', 0.6745562130177514)\n",
      " ('JPN', 0.6219839142091153)\n",
      " ('KOR', 0.5396825396825398)\n",
      " ('SPA', 0.5722070844686649)\n",
      " ('TEL', 0.639344262295082)\n",
      " ('TUR', 0.6017699115044247)\n",
      "\n",
      "f1 score  0.6168956414251806\n"
     ]
    }
   ],
   "source": [
    "evaluation(y_test, y_pred)"
   ]
  },
  {
   "cell_type": "markdown",
   "id": "76f0b2be",
   "metadata": {},
   "source": [
    "## TF-IDF vs Bag of Words"
   ]
  },
  {
   "cell_type": "code",
   "execution_count": 23,
   "id": "e36198b1",
   "metadata": {},
   "outputs": [],
   "source": [
    "# tf-idf transform\n",
    "tf_X_train = tf.transform(X_train)\n",
    "tf_X_test = tf.transform(X_test)"
   ]
  },
  {
   "cell_type": "code",
   "execution_count": 24,
   "id": "8ad223a2",
   "metadata": {},
   "outputs": [
    {
     "name": "stdout",
     "output_type": "stream",
     "text": [
      "1980\n"
     ]
    },
    {
     "name": "stderr",
     "output_type": "stream",
     "text": [
      "/home/clinton/anaconda3/lib/python3.8/site-packages/sklearn/linear_model/_logistic.py:814: ConvergenceWarning:\n",
      "\n",
      "lbfgs failed to converge (status=1):\n",
      "STOP: TOTAL NO. of ITERATIONS REACHED LIMIT.\n",
      "\n",
      "Increase the number of iterations (max_iter) or scale the data as shown in:\n",
      "    https://scikit-learn.org/stable/modules/preprocessing.html\n",
      "Please also refer to the documentation for alternative solver options:\n",
      "    https://scikit-learn.org/stable/modules/linear_model.html#logistic-regression\n",
      "\n"
     ]
    }
   ],
   "source": [
    "from sklearn.linear_model import LogisticRegression\n",
    "logisticRegr = LogisticRegression()\n",
    "logisticRegr.fit(tf_X_train, train_category)\n",
    "logisticRegr_predict = logisticRegr.predict(tf_X_test)\n",
    "print(len(logisticRegr_predict))"
   ]
  },
  {
   "cell_type": "code",
   "execution_count": 27,
   "id": "09569dbc",
   "metadata": {},
   "outputs": [
    {
     "name": "stdout",
     "output_type": "stream",
     "text": [
      "Score logistic regression with TF-IDF whithout cleaning text : 0.6464646464646465\n"
     ]
    }
   ],
   "source": [
    "print(\"Score logistic regression with TF-IDF whithout cleaning text :\", logisticRegr.score(tf_X_test, test_category))"
   ]
  },
  {
   "cell_type": "code",
   "execution_count": 28,
   "id": "db5fd62d",
   "metadata": {},
   "outputs": [
    {
     "name": "stdout",
     "output_type": "stream",
     "text": [
      "\n",
      "-- EVALUATION --\n",
      "\n"
     ]
    },
    {
     "data": {
      "application/vnd.plotly.v1+json": {
       "config": {
        "plotlyServerURL": "https://plot.ly"
       },
       "data": [
        {
         "coloraxis": "coloraxis",
         "hovertemplate": "Languages y_test: %{x}<br>Languages y_pred: %{y}<br>confusion: %{z}<extra></extra>",
         "name": "0",
         "texttemplate": "%{z}",
         "type": "heatmap",
         "x": [
          "ARA",
          "CHI",
          "FRE",
          "GER",
          "HIN",
          "ITA",
          "JPN",
          "KOR",
          "SPA",
          "TEL",
          "TUR"
         ],
         "xaxis": "x",
         "y": [
          "ARA",
          "CHI",
          "FRE",
          "GER",
          "HIN",
          "ITA",
          "JPN",
          "KOR",
          "SPA",
          "TEL",
          "TUR"
         ],
         "yaxis": "y",
         "z": [
          [
           96,
           4,
           8,
           5,
           12,
           1,
           7,
           9,
           6,
           11,
           11
          ],
          [
           4,
           119,
           3,
           5,
           5,
           2,
           11,
           12,
           4,
           1,
           9
          ],
          [
           4,
           10,
           128,
           6,
           3,
           15,
           3,
           4,
           11,
           2,
           7
          ],
          [
           3,
           1,
           4,
           135,
           4,
           12,
           0,
           1,
           3,
           2,
           7
          ],
          [
           2,
           4,
           1,
           3,
           114,
           3,
           1,
           0,
           5,
           37,
           6
          ],
          [
           5,
           2,
           7,
           10,
           5,
           122,
           1,
           1,
           6,
           0,
           5
          ],
          [
           9,
           13,
           1,
           3,
           0,
           3,
           123,
           20,
           4,
           0,
           10
          ],
          [
           7,
           23,
           4,
           5,
           6,
           6,
           23,
           104,
           6,
           4,
           13
          ],
          [
           11,
           3,
           13,
           11,
           9,
           20,
           3,
           1,
           108,
           4,
           13
          ],
          [
           6,
           2,
           3,
           2,
           37,
           0,
           2,
           1,
           1,
           122,
           3
          ],
          [
           11,
           6,
           7,
           5,
           6,
           5,
           4,
           6,
           6,
           3,
           109
          ]
         ]
        }
       ],
       "layout": {
        "coloraxis": {
         "colorbar": {
          "title": {
           "text": "confusion"
          }
         },
         "colorscale": [
          [
           0,
           "#0d0887"
          ],
          [
           0.1111111111111111,
           "#46039f"
          ],
          [
           0.2222222222222222,
           "#7201a8"
          ],
          [
           0.3333333333333333,
           "#9c179e"
          ],
          [
           0.4444444444444444,
           "#bd3786"
          ],
          [
           0.5555555555555556,
           "#d8576b"
          ],
          [
           0.6666666666666666,
           "#ed7953"
          ],
          [
           0.7777777777777778,
           "#fb9f3a"
          ],
          [
           0.8888888888888888,
           "#fdca26"
          ],
          [
           1,
           "#f0f921"
          ]
         ]
        },
        "margin": {
         "t": 60
        },
        "template": {
         "data": {
          "bar": [
           {
            "error_x": {
             "color": "#2a3f5f"
            },
            "error_y": {
             "color": "#2a3f5f"
            },
            "marker": {
             "line": {
              "color": "#E5ECF6",
              "width": 0.5
             },
             "pattern": {
              "fillmode": "overlay",
              "size": 10,
              "solidity": 0.2
             }
            },
            "type": "bar"
           }
          ],
          "barpolar": [
           {
            "marker": {
             "line": {
              "color": "#E5ECF6",
              "width": 0.5
             },
             "pattern": {
              "fillmode": "overlay",
              "size": 10,
              "solidity": 0.2
             }
            },
            "type": "barpolar"
           }
          ],
          "carpet": [
           {
            "aaxis": {
             "endlinecolor": "#2a3f5f",
             "gridcolor": "white",
             "linecolor": "white",
             "minorgridcolor": "white",
             "startlinecolor": "#2a3f5f"
            },
            "baxis": {
             "endlinecolor": "#2a3f5f",
             "gridcolor": "white",
             "linecolor": "white",
             "minorgridcolor": "white",
             "startlinecolor": "#2a3f5f"
            },
            "type": "carpet"
           }
          ],
          "choropleth": [
           {
            "colorbar": {
             "outlinewidth": 0,
             "ticks": ""
            },
            "type": "choropleth"
           }
          ],
          "contour": [
           {
            "colorbar": {
             "outlinewidth": 0,
             "ticks": ""
            },
            "colorscale": [
             [
              0,
              "#0d0887"
             ],
             [
              0.1111111111111111,
              "#46039f"
             ],
             [
              0.2222222222222222,
              "#7201a8"
             ],
             [
              0.3333333333333333,
              "#9c179e"
             ],
             [
              0.4444444444444444,
              "#bd3786"
             ],
             [
              0.5555555555555556,
              "#d8576b"
             ],
             [
              0.6666666666666666,
              "#ed7953"
             ],
             [
              0.7777777777777778,
              "#fb9f3a"
             ],
             [
              0.8888888888888888,
              "#fdca26"
             ],
             [
              1,
              "#f0f921"
             ]
            ],
            "type": "contour"
           }
          ],
          "contourcarpet": [
           {
            "colorbar": {
             "outlinewidth": 0,
             "ticks": ""
            },
            "type": "contourcarpet"
           }
          ],
          "heatmap": [
           {
            "colorbar": {
             "outlinewidth": 0,
             "ticks": ""
            },
            "colorscale": [
             [
              0,
              "#0d0887"
             ],
             [
              0.1111111111111111,
              "#46039f"
             ],
             [
              0.2222222222222222,
              "#7201a8"
             ],
             [
              0.3333333333333333,
              "#9c179e"
             ],
             [
              0.4444444444444444,
              "#bd3786"
             ],
             [
              0.5555555555555556,
              "#d8576b"
             ],
             [
              0.6666666666666666,
              "#ed7953"
             ],
             [
              0.7777777777777778,
              "#fb9f3a"
             ],
             [
              0.8888888888888888,
              "#fdca26"
             ],
             [
              1,
              "#f0f921"
             ]
            ],
            "type": "heatmap"
           }
          ],
          "heatmapgl": [
           {
            "colorbar": {
             "outlinewidth": 0,
             "ticks": ""
            },
            "colorscale": [
             [
              0,
              "#0d0887"
             ],
             [
              0.1111111111111111,
              "#46039f"
             ],
             [
              0.2222222222222222,
              "#7201a8"
             ],
             [
              0.3333333333333333,
              "#9c179e"
             ],
             [
              0.4444444444444444,
              "#bd3786"
             ],
             [
              0.5555555555555556,
              "#d8576b"
             ],
             [
              0.6666666666666666,
              "#ed7953"
             ],
             [
              0.7777777777777778,
              "#fb9f3a"
             ],
             [
              0.8888888888888888,
              "#fdca26"
             ],
             [
              1,
              "#f0f921"
             ]
            ],
            "type": "heatmapgl"
           }
          ],
          "histogram": [
           {
            "marker": {
             "pattern": {
              "fillmode": "overlay",
              "size": 10,
              "solidity": 0.2
             }
            },
            "type": "histogram"
           }
          ],
          "histogram2d": [
           {
            "colorbar": {
             "outlinewidth": 0,
             "ticks": ""
            },
            "colorscale": [
             [
              0,
              "#0d0887"
             ],
             [
              0.1111111111111111,
              "#46039f"
             ],
             [
              0.2222222222222222,
              "#7201a8"
             ],
             [
              0.3333333333333333,
              "#9c179e"
             ],
             [
              0.4444444444444444,
              "#bd3786"
             ],
             [
              0.5555555555555556,
              "#d8576b"
             ],
             [
              0.6666666666666666,
              "#ed7953"
             ],
             [
              0.7777777777777778,
              "#fb9f3a"
             ],
             [
              0.8888888888888888,
              "#fdca26"
             ],
             [
              1,
              "#f0f921"
             ]
            ],
            "type": "histogram2d"
           }
          ],
          "histogram2dcontour": [
           {
            "colorbar": {
             "outlinewidth": 0,
             "ticks": ""
            },
            "colorscale": [
             [
              0,
              "#0d0887"
             ],
             [
              0.1111111111111111,
              "#46039f"
             ],
             [
              0.2222222222222222,
              "#7201a8"
             ],
             [
              0.3333333333333333,
              "#9c179e"
             ],
             [
              0.4444444444444444,
              "#bd3786"
             ],
             [
              0.5555555555555556,
              "#d8576b"
             ],
             [
              0.6666666666666666,
              "#ed7953"
             ],
             [
              0.7777777777777778,
              "#fb9f3a"
             ],
             [
              0.8888888888888888,
              "#fdca26"
             ],
             [
              1,
              "#f0f921"
             ]
            ],
            "type": "histogram2dcontour"
           }
          ],
          "mesh3d": [
           {
            "colorbar": {
             "outlinewidth": 0,
             "ticks": ""
            },
            "type": "mesh3d"
           }
          ],
          "parcoords": [
           {
            "line": {
             "colorbar": {
              "outlinewidth": 0,
              "ticks": ""
             }
            },
            "type": "parcoords"
           }
          ],
          "pie": [
           {
            "automargin": true,
            "type": "pie"
           }
          ],
          "scatter": [
           {
            "fillpattern": {
             "fillmode": "overlay",
             "size": 10,
             "solidity": 0.2
            },
            "type": "scatter"
           }
          ],
          "scatter3d": [
           {
            "line": {
             "colorbar": {
              "outlinewidth": 0,
              "ticks": ""
             }
            },
            "marker": {
             "colorbar": {
              "outlinewidth": 0,
              "ticks": ""
             }
            },
            "type": "scatter3d"
           }
          ],
          "scattercarpet": [
           {
            "marker": {
             "colorbar": {
              "outlinewidth": 0,
              "ticks": ""
             }
            },
            "type": "scattercarpet"
           }
          ],
          "scattergeo": [
           {
            "marker": {
             "colorbar": {
              "outlinewidth": 0,
              "ticks": ""
             }
            },
            "type": "scattergeo"
           }
          ],
          "scattergl": [
           {
            "marker": {
             "colorbar": {
              "outlinewidth": 0,
              "ticks": ""
             }
            },
            "type": "scattergl"
           }
          ],
          "scattermapbox": [
           {
            "marker": {
             "colorbar": {
              "outlinewidth": 0,
              "ticks": ""
             }
            },
            "type": "scattermapbox"
           }
          ],
          "scatterpolar": [
           {
            "marker": {
             "colorbar": {
              "outlinewidth": 0,
              "ticks": ""
             }
            },
            "type": "scatterpolar"
           }
          ],
          "scatterpolargl": [
           {
            "marker": {
             "colorbar": {
              "outlinewidth": 0,
              "ticks": ""
             }
            },
            "type": "scatterpolargl"
           }
          ],
          "scatterternary": [
           {
            "marker": {
             "colorbar": {
              "outlinewidth": 0,
              "ticks": ""
             }
            },
            "type": "scatterternary"
           }
          ],
          "surface": [
           {
            "colorbar": {
             "outlinewidth": 0,
             "ticks": ""
            },
            "colorscale": [
             [
              0,
              "#0d0887"
             ],
             [
              0.1111111111111111,
              "#46039f"
             ],
             [
              0.2222222222222222,
              "#7201a8"
             ],
             [
              0.3333333333333333,
              "#9c179e"
             ],
             [
              0.4444444444444444,
              "#bd3786"
             ],
             [
              0.5555555555555556,
              "#d8576b"
             ],
             [
              0.6666666666666666,
              "#ed7953"
             ],
             [
              0.7777777777777778,
              "#fb9f3a"
             ],
             [
              0.8888888888888888,
              "#fdca26"
             ],
             [
              1,
              "#f0f921"
             ]
            ],
            "type": "surface"
           }
          ],
          "table": [
           {
            "cells": {
             "fill": {
              "color": "#EBF0F8"
             },
             "line": {
              "color": "white"
             }
            },
            "header": {
             "fill": {
              "color": "#C8D4E3"
             },
             "line": {
              "color": "white"
             }
            },
            "type": "table"
           }
          ]
         },
         "layout": {
          "annotationdefaults": {
           "arrowcolor": "#2a3f5f",
           "arrowhead": 0,
           "arrowwidth": 1
          },
          "autotypenumbers": "strict",
          "coloraxis": {
           "colorbar": {
            "outlinewidth": 0,
            "ticks": ""
           }
          },
          "colorscale": {
           "diverging": [
            [
             0,
             "#8e0152"
            ],
            [
             0.1,
             "#c51b7d"
            ],
            [
             0.2,
             "#de77ae"
            ],
            [
             0.3,
             "#f1b6da"
            ],
            [
             0.4,
             "#fde0ef"
            ],
            [
             0.5,
             "#f7f7f7"
            ],
            [
             0.6,
             "#e6f5d0"
            ],
            [
             0.7,
             "#b8e186"
            ],
            [
             0.8,
             "#7fbc41"
            ],
            [
             0.9,
             "#4d9221"
            ],
            [
             1,
             "#276419"
            ]
           ],
           "sequential": [
            [
             0,
             "#0d0887"
            ],
            [
             0.1111111111111111,
             "#46039f"
            ],
            [
             0.2222222222222222,
             "#7201a8"
            ],
            [
             0.3333333333333333,
             "#9c179e"
            ],
            [
             0.4444444444444444,
             "#bd3786"
            ],
            [
             0.5555555555555556,
             "#d8576b"
            ],
            [
             0.6666666666666666,
             "#ed7953"
            ],
            [
             0.7777777777777778,
             "#fb9f3a"
            ],
            [
             0.8888888888888888,
             "#fdca26"
            ],
            [
             1,
             "#f0f921"
            ]
           ],
           "sequentialminus": [
            [
             0,
             "#0d0887"
            ],
            [
             0.1111111111111111,
             "#46039f"
            ],
            [
             0.2222222222222222,
             "#7201a8"
            ],
            [
             0.3333333333333333,
             "#9c179e"
            ],
            [
             0.4444444444444444,
             "#bd3786"
            ],
            [
             0.5555555555555556,
             "#d8576b"
            ],
            [
             0.6666666666666666,
             "#ed7953"
            ],
            [
             0.7777777777777778,
             "#fb9f3a"
            ],
            [
             0.8888888888888888,
             "#fdca26"
            ],
            [
             1,
             "#f0f921"
            ]
           ]
          },
          "colorway": [
           "#636efa",
           "#EF553B",
           "#00cc96",
           "#ab63fa",
           "#FFA15A",
           "#19d3f3",
           "#FF6692",
           "#B6E880",
           "#FF97FF",
           "#FECB52"
          ],
          "font": {
           "color": "#2a3f5f"
          },
          "geo": {
           "bgcolor": "white",
           "lakecolor": "white",
           "landcolor": "#E5ECF6",
           "showlakes": true,
           "showland": true,
           "subunitcolor": "white"
          },
          "hoverlabel": {
           "align": "left"
          },
          "hovermode": "closest",
          "mapbox": {
           "style": "light"
          },
          "paper_bgcolor": "white",
          "plot_bgcolor": "#E5ECF6",
          "polar": {
           "angularaxis": {
            "gridcolor": "white",
            "linecolor": "white",
            "ticks": ""
           },
           "bgcolor": "#E5ECF6",
           "radialaxis": {
            "gridcolor": "white",
            "linecolor": "white",
            "ticks": ""
           }
          },
          "scene": {
           "xaxis": {
            "backgroundcolor": "#E5ECF6",
            "gridcolor": "white",
            "gridwidth": 2,
            "linecolor": "white",
            "showbackground": true,
            "ticks": "",
            "zerolinecolor": "white"
           },
           "yaxis": {
            "backgroundcolor": "#E5ECF6",
            "gridcolor": "white",
            "gridwidth": 2,
            "linecolor": "white",
            "showbackground": true,
            "ticks": "",
            "zerolinecolor": "white"
           },
           "zaxis": {
            "backgroundcolor": "#E5ECF6",
            "gridcolor": "white",
            "gridwidth": 2,
            "linecolor": "white",
            "showbackground": true,
            "ticks": "",
            "zerolinecolor": "white"
           }
          },
          "shapedefaults": {
           "line": {
            "color": "#2a3f5f"
           }
          },
          "ternary": {
           "aaxis": {
            "gridcolor": "white",
            "linecolor": "white",
            "ticks": ""
           },
           "baxis": {
            "gridcolor": "white",
            "linecolor": "white",
            "ticks": ""
           },
           "bgcolor": "#E5ECF6",
           "caxis": {
            "gridcolor": "white",
            "linecolor": "white",
            "ticks": ""
           }
          },
          "title": {
           "x": 0.05
          },
          "xaxis": {
           "automargin": true,
           "gridcolor": "white",
           "linecolor": "white",
           "ticks": "",
           "title": {
            "standoff": 15
           },
           "zerolinecolor": "white",
           "zerolinewidth": 2
          },
          "yaxis": {
           "automargin": true,
           "gridcolor": "white",
           "linecolor": "white",
           "ticks": "",
           "title": {
            "standoff": 15
           },
           "zerolinecolor": "white",
           "zerolinewidth": 2
          }
         }
        },
        "xaxis": {
         "anchor": "y",
         "domain": [
          0,
          1
         ],
         "side": "top",
         "title": {
          "text": "Languages y_test"
         }
        },
        "yaxis": {
         "anchor": "x",
         "autorange": "reversed",
         "domain": [
          0,
          1
         ],
         "title": {
          "text": "Languages y_pred"
         }
        }
       }
      },
      "text/html": [
       "<div>                            <div id=\"59ac2da9-461e-4269-b482-7255c1bd7c93\" class=\"plotly-graph-div\" style=\"height:525px; width:100%;\"></div>            <script type=\"text/javascript\">                require([\"plotly\"], function(Plotly) {                    window.PLOTLYENV=window.PLOTLYENV || {};                                    if (document.getElementById(\"59ac2da9-461e-4269-b482-7255c1bd7c93\")) {                    Plotly.newPlot(                        \"59ac2da9-461e-4269-b482-7255c1bd7c93\",                        [{\"coloraxis\":\"coloraxis\",\"name\":\"0\",\"texttemplate\":\"%{z}\",\"x\":[\"ARA\",\"CHI\",\"FRE\",\"GER\",\"HIN\",\"ITA\",\"JPN\",\"KOR\",\"SPA\",\"TEL\",\"TUR\"],\"y\":[\"ARA\",\"CHI\",\"FRE\",\"GER\",\"HIN\",\"ITA\",\"JPN\",\"KOR\",\"SPA\",\"TEL\",\"TUR\"],\"z\":[[96,4,8,5,12,1,7,9,6,11,11],[4,119,3,5,5,2,11,12,4,1,9],[4,10,128,6,3,15,3,4,11,2,7],[3,1,4,135,4,12,0,1,3,2,7],[2,4,1,3,114,3,1,0,5,37,6],[5,2,7,10,5,122,1,1,6,0,5],[9,13,1,3,0,3,123,20,4,0,10],[7,23,4,5,6,6,23,104,6,4,13],[11,3,13,11,9,20,3,1,108,4,13],[6,2,3,2,37,0,2,1,1,122,3],[11,6,7,5,6,5,4,6,6,3,109]],\"type\":\"heatmap\",\"xaxis\":\"x\",\"yaxis\":\"y\",\"hovertemplate\":\"Languages y_test: %{x}<br>Languages y_pred: %{y}<br>confusion: %{z}<extra></extra>\"}],                        {\"template\":{\"data\":{\"histogram2dcontour\":[{\"type\":\"histogram2dcontour\",\"colorbar\":{\"outlinewidth\":0,\"ticks\":\"\"},\"colorscale\":[[0.0,\"#0d0887\"],[0.1111111111111111,\"#46039f\"],[0.2222222222222222,\"#7201a8\"],[0.3333333333333333,\"#9c179e\"],[0.4444444444444444,\"#bd3786\"],[0.5555555555555556,\"#d8576b\"],[0.6666666666666666,\"#ed7953\"],[0.7777777777777778,\"#fb9f3a\"],[0.8888888888888888,\"#fdca26\"],[1.0,\"#f0f921\"]]}],\"choropleth\":[{\"type\":\"choropleth\",\"colorbar\":{\"outlinewidth\":0,\"ticks\":\"\"}}],\"histogram2d\":[{\"type\":\"histogram2d\",\"colorbar\":{\"outlinewidth\":0,\"ticks\":\"\"},\"colorscale\":[[0.0,\"#0d0887\"],[0.1111111111111111,\"#46039f\"],[0.2222222222222222,\"#7201a8\"],[0.3333333333333333,\"#9c179e\"],[0.4444444444444444,\"#bd3786\"],[0.5555555555555556,\"#d8576b\"],[0.6666666666666666,\"#ed7953\"],[0.7777777777777778,\"#fb9f3a\"],[0.8888888888888888,\"#fdca26\"],[1.0,\"#f0f921\"]]}],\"heatmap\":[{\"type\":\"heatmap\",\"colorbar\":{\"outlinewidth\":0,\"ticks\":\"\"},\"colorscale\":[[0.0,\"#0d0887\"],[0.1111111111111111,\"#46039f\"],[0.2222222222222222,\"#7201a8\"],[0.3333333333333333,\"#9c179e\"],[0.4444444444444444,\"#bd3786\"],[0.5555555555555556,\"#d8576b\"],[0.6666666666666666,\"#ed7953\"],[0.7777777777777778,\"#fb9f3a\"],[0.8888888888888888,\"#fdca26\"],[1.0,\"#f0f921\"]]}],\"heatmapgl\":[{\"type\":\"heatmapgl\",\"colorbar\":{\"outlinewidth\":0,\"ticks\":\"\"},\"colorscale\":[[0.0,\"#0d0887\"],[0.1111111111111111,\"#46039f\"],[0.2222222222222222,\"#7201a8\"],[0.3333333333333333,\"#9c179e\"],[0.4444444444444444,\"#bd3786\"],[0.5555555555555556,\"#d8576b\"],[0.6666666666666666,\"#ed7953\"],[0.7777777777777778,\"#fb9f3a\"],[0.8888888888888888,\"#fdca26\"],[1.0,\"#f0f921\"]]}],\"contourcarpet\":[{\"type\":\"contourcarpet\",\"colorbar\":{\"outlinewidth\":0,\"ticks\":\"\"}}],\"contour\":[{\"type\":\"contour\",\"colorbar\":{\"outlinewidth\":0,\"ticks\":\"\"},\"colorscale\":[[0.0,\"#0d0887\"],[0.1111111111111111,\"#46039f\"],[0.2222222222222222,\"#7201a8\"],[0.3333333333333333,\"#9c179e\"],[0.4444444444444444,\"#bd3786\"],[0.5555555555555556,\"#d8576b\"],[0.6666666666666666,\"#ed7953\"],[0.7777777777777778,\"#fb9f3a\"],[0.8888888888888888,\"#fdca26\"],[1.0,\"#f0f921\"]]}],\"surface\":[{\"type\":\"surface\",\"colorbar\":{\"outlinewidth\":0,\"ticks\":\"\"},\"colorscale\":[[0.0,\"#0d0887\"],[0.1111111111111111,\"#46039f\"],[0.2222222222222222,\"#7201a8\"],[0.3333333333333333,\"#9c179e\"],[0.4444444444444444,\"#bd3786\"],[0.5555555555555556,\"#d8576b\"],[0.6666666666666666,\"#ed7953\"],[0.7777777777777778,\"#fb9f3a\"],[0.8888888888888888,\"#fdca26\"],[1.0,\"#f0f921\"]]}],\"mesh3d\":[{\"type\":\"mesh3d\",\"colorbar\":{\"outlinewidth\":0,\"ticks\":\"\"}}],\"scatter\":[{\"fillpattern\":{\"fillmode\":\"overlay\",\"size\":10,\"solidity\":0.2},\"type\":\"scatter\"}],\"parcoords\":[{\"type\":\"parcoords\",\"line\":{\"colorbar\":{\"outlinewidth\":0,\"ticks\":\"\"}}}],\"scatterpolargl\":[{\"type\":\"scatterpolargl\",\"marker\":{\"colorbar\":{\"outlinewidth\":0,\"ticks\":\"\"}}}],\"bar\":[{\"error_x\":{\"color\":\"#2a3f5f\"},\"error_y\":{\"color\":\"#2a3f5f\"},\"marker\":{\"line\":{\"color\":\"#E5ECF6\",\"width\":0.5},\"pattern\":{\"fillmode\":\"overlay\",\"size\":10,\"solidity\":0.2}},\"type\":\"bar\"}],\"scattergeo\":[{\"type\":\"scattergeo\",\"marker\":{\"colorbar\":{\"outlinewidth\":0,\"ticks\":\"\"}}}],\"scatterpolar\":[{\"type\":\"scatterpolar\",\"marker\":{\"colorbar\":{\"outlinewidth\":0,\"ticks\":\"\"}}}],\"histogram\":[{\"marker\":{\"pattern\":{\"fillmode\":\"overlay\",\"size\":10,\"solidity\":0.2}},\"type\":\"histogram\"}],\"scattergl\":[{\"type\":\"scattergl\",\"marker\":{\"colorbar\":{\"outlinewidth\":0,\"ticks\":\"\"}}}],\"scatter3d\":[{\"type\":\"scatter3d\",\"line\":{\"colorbar\":{\"outlinewidth\":0,\"ticks\":\"\"}},\"marker\":{\"colorbar\":{\"outlinewidth\":0,\"ticks\":\"\"}}}],\"scattermapbox\":[{\"type\":\"scattermapbox\",\"marker\":{\"colorbar\":{\"outlinewidth\":0,\"ticks\":\"\"}}}],\"scatterternary\":[{\"type\":\"scatterternary\",\"marker\":{\"colorbar\":{\"outlinewidth\":0,\"ticks\":\"\"}}}],\"scattercarpet\":[{\"type\":\"scattercarpet\",\"marker\":{\"colorbar\":{\"outlinewidth\":0,\"ticks\":\"\"}}}],\"carpet\":[{\"aaxis\":{\"endlinecolor\":\"#2a3f5f\",\"gridcolor\":\"white\",\"linecolor\":\"white\",\"minorgridcolor\":\"white\",\"startlinecolor\":\"#2a3f5f\"},\"baxis\":{\"endlinecolor\":\"#2a3f5f\",\"gridcolor\":\"white\",\"linecolor\":\"white\",\"minorgridcolor\":\"white\",\"startlinecolor\":\"#2a3f5f\"},\"type\":\"carpet\"}],\"table\":[{\"cells\":{\"fill\":{\"color\":\"#EBF0F8\"},\"line\":{\"color\":\"white\"}},\"header\":{\"fill\":{\"color\":\"#C8D4E3\"},\"line\":{\"color\":\"white\"}},\"type\":\"table\"}],\"barpolar\":[{\"marker\":{\"line\":{\"color\":\"#E5ECF6\",\"width\":0.5},\"pattern\":{\"fillmode\":\"overlay\",\"size\":10,\"solidity\":0.2}},\"type\":\"barpolar\"}],\"pie\":[{\"automargin\":true,\"type\":\"pie\"}]},\"layout\":{\"autotypenumbers\":\"strict\",\"colorway\":[\"#636efa\",\"#EF553B\",\"#00cc96\",\"#ab63fa\",\"#FFA15A\",\"#19d3f3\",\"#FF6692\",\"#B6E880\",\"#FF97FF\",\"#FECB52\"],\"font\":{\"color\":\"#2a3f5f\"},\"hovermode\":\"closest\",\"hoverlabel\":{\"align\":\"left\"},\"paper_bgcolor\":\"white\",\"plot_bgcolor\":\"#E5ECF6\",\"polar\":{\"bgcolor\":\"#E5ECF6\",\"angularaxis\":{\"gridcolor\":\"white\",\"linecolor\":\"white\",\"ticks\":\"\"},\"radialaxis\":{\"gridcolor\":\"white\",\"linecolor\":\"white\",\"ticks\":\"\"}},\"ternary\":{\"bgcolor\":\"#E5ECF6\",\"aaxis\":{\"gridcolor\":\"white\",\"linecolor\":\"white\",\"ticks\":\"\"},\"baxis\":{\"gridcolor\":\"white\",\"linecolor\":\"white\",\"ticks\":\"\"},\"caxis\":{\"gridcolor\":\"white\",\"linecolor\":\"white\",\"ticks\":\"\"}},\"coloraxis\":{\"colorbar\":{\"outlinewidth\":0,\"ticks\":\"\"}},\"colorscale\":{\"sequential\":[[0.0,\"#0d0887\"],[0.1111111111111111,\"#46039f\"],[0.2222222222222222,\"#7201a8\"],[0.3333333333333333,\"#9c179e\"],[0.4444444444444444,\"#bd3786\"],[0.5555555555555556,\"#d8576b\"],[0.6666666666666666,\"#ed7953\"],[0.7777777777777778,\"#fb9f3a\"],[0.8888888888888888,\"#fdca26\"],[1.0,\"#f0f921\"]],\"sequentialminus\":[[0.0,\"#0d0887\"],[0.1111111111111111,\"#46039f\"],[0.2222222222222222,\"#7201a8\"],[0.3333333333333333,\"#9c179e\"],[0.4444444444444444,\"#bd3786\"],[0.5555555555555556,\"#d8576b\"],[0.6666666666666666,\"#ed7953\"],[0.7777777777777778,\"#fb9f3a\"],[0.8888888888888888,\"#fdca26\"],[1.0,\"#f0f921\"]],\"diverging\":[[0,\"#8e0152\"],[0.1,\"#c51b7d\"],[0.2,\"#de77ae\"],[0.3,\"#f1b6da\"],[0.4,\"#fde0ef\"],[0.5,\"#f7f7f7\"],[0.6,\"#e6f5d0\"],[0.7,\"#b8e186\"],[0.8,\"#7fbc41\"],[0.9,\"#4d9221\"],[1,\"#276419\"]]},\"xaxis\":{\"gridcolor\":\"white\",\"linecolor\":\"white\",\"ticks\":\"\",\"title\":{\"standoff\":15},\"zerolinecolor\":\"white\",\"automargin\":true,\"zerolinewidth\":2},\"yaxis\":{\"gridcolor\":\"white\",\"linecolor\":\"white\",\"ticks\":\"\",\"title\":{\"standoff\":15},\"zerolinecolor\":\"white\",\"automargin\":true,\"zerolinewidth\":2},\"scene\":{\"xaxis\":{\"backgroundcolor\":\"#E5ECF6\",\"gridcolor\":\"white\",\"linecolor\":\"white\",\"showbackground\":true,\"ticks\":\"\",\"zerolinecolor\":\"white\",\"gridwidth\":2},\"yaxis\":{\"backgroundcolor\":\"#E5ECF6\",\"gridcolor\":\"white\",\"linecolor\":\"white\",\"showbackground\":true,\"ticks\":\"\",\"zerolinecolor\":\"white\",\"gridwidth\":2},\"zaxis\":{\"backgroundcolor\":\"#E5ECF6\",\"gridcolor\":\"white\",\"linecolor\":\"white\",\"showbackground\":true,\"ticks\":\"\",\"zerolinecolor\":\"white\",\"gridwidth\":2}},\"shapedefaults\":{\"line\":{\"color\":\"#2a3f5f\"}},\"annotationdefaults\":{\"arrowcolor\":\"#2a3f5f\",\"arrowhead\":0,\"arrowwidth\":1},\"geo\":{\"bgcolor\":\"white\",\"landcolor\":\"#E5ECF6\",\"subunitcolor\":\"white\",\"showland\":true,\"showlakes\":true,\"lakecolor\":\"white\"},\"title\":{\"x\":0.05},\"mapbox\":{\"style\":\"light\"}}},\"xaxis\":{\"anchor\":\"y\",\"domain\":[0.0,1.0],\"title\":{\"text\":\"Languages y_test\"},\"side\":\"top\"},\"yaxis\":{\"anchor\":\"x\",\"domain\":[0.0,1.0],\"autorange\":\"reversed\",\"title\":{\"text\":\"Languages y_pred\"}},\"coloraxis\":{\"colorbar\":{\"title\":{\"text\":\"confusion\"}},\"colorscale\":[[0.0,\"#0d0887\"],[0.1111111111111111,\"#46039f\"],[0.2222222222222222,\"#7201a8\"],[0.3333333333333333,\"#9c179e\"],[0.4444444444444444,\"#bd3786\"],[0.5555555555555556,\"#d8576b\"],[0.6666666666666666,\"#ed7953\"],[0.7777777777777778,\"#fb9f3a\"],[0.8888888888888888,\"#fdca26\"],[1.0,\"#f0f921\"]]},\"margin\":{\"t\":60}},                        {\"responsive\": true}                    ).then(function(){\n",
       "                            \n",
       "var gd = document.getElementById('59ac2da9-461e-4269-b482-7255c1bd7c93');\n",
       "var x = new MutationObserver(function (mutations, observer) {{\n",
       "        var display = window.getComputedStyle(gd).display;\n",
       "        if (!display || display === 'none') {{\n",
       "            console.log([gd, 'removed!']);\n",
       "            Plotly.purge(gd);\n",
       "            observer.disconnect();\n",
       "        }}\n",
       "}});\n",
       "\n",
       "// Listen for the removal of the full notebook cells\n",
       "var notebookContainer = gd.closest('#notebook-container');\n",
       "if (notebookContainer) {{\n",
       "    x.observe(notebookContainer, {childList: true});\n",
       "}}\n",
       "\n",
       "// Listen for the clearing of the current output cell\n",
       "var outputEl = gd.closest('.output');\n",
       "if (outputEl) {{\n",
       "    x.observe(outputEl, {childList: true});\n",
       "}}\n",
       "\n",
       "                        })                };                });            </script>        </div>"
      ]
     },
     "metadata": {},
     "output_type": "display_data"
    },
    {
     "name": "stdout",
     "output_type": "stream",
     "text": [
      "\n",
      "Accuracy  0.6464646464646465\n",
      "\n",
      "- Precision - macro\n",
      "precision by language : \n",
      "('ARA', 0.6075949367088608)\n",
      " ('CHI', 0.6363636363636364)\n",
      " ('FRE', 0.7150837988826816)\n",
      " ('GER', 0.7105263157894737)\n",
      " ('HIN', 0.5671641791044776)\n",
      " ('ITA', 0.6455026455026455)\n",
      " ('JPN', 0.6910112359550562)\n",
      " ('KOR', 0.6540880503144654)\n",
      " ('SPA', 0.675)\n",
      " ('TEL', 0.6559139784946236)\n",
      " ('TUR', 0.5647668393782384)\n",
      "\n",
      "precision score  0.6475468742267417\n",
      "\n",
      "- Recall - macro\n",
      "recall by language  \n",
      "('ARA', 0.5647058823529412)\n",
      " ('CHI', 0.68)\n",
      " ('FRE', 0.6632124352331606)\n",
      " ('GER', 0.7848837209302325)\n",
      " ('HIN', 0.6477272727272727)\n",
      " ('ITA', 0.7439024390243902)\n",
      " ('JPN', 0.6612903225806451)\n",
      " ('KOR', 0.5174129353233831)\n",
      " ('SPA', 0.5510204081632653)\n",
      " ('TEL', 0.6815642458100558)\n",
      " ('TUR', 0.6488095238095238)\n",
      "\n",
      "recall score  0.6495026532686246\n",
      "\n",
      "- F1 - macro\n",
      "f1 by language  \n",
      "('ARA', 0.5853658536585367)\n",
      " ('CHI', 0.6574585635359116)\n",
      " ('FRE', 0.6881720430107526)\n",
      " ('GER', 0.7458563535911603)\n",
      " ('HIN', 0.6047745358090185)\n",
      " ('ITA', 0.6912181303116147)\n",
      " ('JPN', 0.6758241758241758)\n",
      " ('KOR', 0.5777777777777777)\n",
      " ('SPA', 0.6067415730337078)\n",
      " ('TEL', 0.6684931506849314)\n",
      " ('TUR', 0.6038781163434903)\n",
      "\n",
      "f1 score  0.645960024871007\n"
     ]
    }
   ],
   "source": [
    "evaluation(test_category, logisticRegr_predict)"
   ]
  },
  {
   "cell_type": "markdown",
   "id": "f86803ff",
   "metadata": {},
   "source": [
    "## Cleaning text"
   ]
  },
  {
   "cell_type": "code",
   "execution_count": 29,
   "id": "4cab979b",
   "metadata": {},
   "outputs": [],
   "source": [
    "# cleaning test\n",
    "from nltk.corpus import stopwords\n",
    "\n",
    "stopwords = set(stopwords.words('english'))\n",
    "\n",
    "def clean_text(text):\n",
    "    \"\"\"\n",
    "    Clean the input text \n",
    "    \"\"\"\n",
    "    cleaned_text = text.lower()\n",
    "    cleaned_text = re.sub('[^a-zA-Z0-9$\\s]', '', cleaned_text)\n",
    "    cleaned_text = cleaned_text.split()\n",
    "    cleaned_text = [word for word in cleaned_text if word not in stopwords and len(word) > 1]\n",
    " \n",
    "    return \" \".join(cleaned_text)\n",
    "\n",
    "\n",
    "def create_stop_word_dict(stopwords):\n",
    "    return {k:0 for k in stopwords}\n",
    "# create lang stop words dict \n",
    "def create_lswd(lang):\n",
    "    return {k:create_stop_word_dict(stopwords) for k in lang}\n",
    "\n",
    "\n",
    "lswd = create_lswd(df['category'].unique())\n",
    "\n",
    "\n",
    "def row_sw(row, lswd, stopword):\n",
    "    _,text,lang = row\n",
    "    text = text.lower().split()\n",
    "    for word in  text:\n",
    "        if word in stopword:\n",
    "            lswd[lang][word] = lswd[lang][word] + 1\n",
    "\n",
    "\n",
    "for w in df.itertuples():\n",
    "    row_sw(w,lswd,stopwords)\n"
   ]
  },
  {
   "cell_type": "code",
   "execution_count": 30,
   "id": "aa19e4c3",
   "metadata": {},
   "outputs": [
    {
     "data": {
      "text/plain": [
       "{\"you'd\": 0,\n",
       " 'which': 1029,\n",
       " 'when': 785,\n",
       " 'as': 1934,\n",
       " 'mightn': 0,\n",
       " 'were': 217,\n",
       " 'the': 14297,\n",
       " 'off': 35,\n",
       " 'why': 401,\n",
       " \"aren't\": 0,\n",
       " 'ma': 1,\n",
       " 'same': 287,\n",
       " 'i': 3899,\n",
       " 'been': 218,\n",
       " 'do': 2178,\n",
       " 'against': 53,\n",
       " \"it's\": 0,\n",
       " 'being': 301,\n",
       " \"she's\": 0,\n",
       " 'll': 7,\n",
       " 'have': 3086,\n",
       " 'each': 128,\n",
       " 'no': 457,\n",
       " 'it': 3961,\n",
       " 'those': 202,\n",
       " \"you'll\": 0,\n",
       " 'not': 3176,\n",
       " 'very': 835,\n",
       " 'mustn': 0,\n",
       " 'their': 2115,\n",
       " 'weren': 0,\n",
       " 'he': 758,\n",
       " 'again': 107,\n",
       " 'having': 243,\n",
       " 'who': 852,\n",
       " 'was': 438,\n",
       " 'didn': 0,\n",
       " 'ourselves': 8,\n",
       " 'through': 100,\n",
       " 'that': 5291,\n",
       " 'can': 1830,\n",
       " 'other': 1036,\n",
       " \"weren't\": 0,\n",
       " 'because': 1146,\n",
       " 've': 0,\n",
       " 'isn': 4,\n",
       " 'from': 715,\n",
       " 'doesn': 5,\n",
       " \"you're\": 0,\n",
       " 'you': 3514,\n",
       " 'only': 926,\n",
       " 't': 31,\n",
       " 'than': 1303,\n",
       " 'him': 99,\n",
       " 'herself': 10,\n",
       " 'she': 186,\n",
       " 'of': 7348,\n",
       " 'doing': 292,\n",
       " 'an': 1174,\n",
       " 'while': 148,\n",
       " 'our': 424,\n",
       " 'them': 778,\n",
       " \"mustn't\": 0,\n",
       " 'below': 5,\n",
       " 'yourselves': 0,\n",
       " 'aren': 2,\n",
       " 'her': 140,\n",
       " 'few': 134,\n",
       " 'own': 376,\n",
       " 'further': 75,\n",
       " 'hasn': 0,\n",
       " 'y': 1,\n",
       " 'both': 193,\n",
       " 'is': 5874,\n",
       " 'yours': 3,\n",
       " 'too': 204,\n",
       " 'by': 1031,\n",
       " 're': 3,\n",
       " 'are': 3723,\n",
       " 'hadn': 0,\n",
       " \"hasn't\": 0,\n",
       " \"wasn't\": 0,\n",
       " 'itself': 38,\n",
       " 'ours': 1,\n",
       " 'so': 1249,\n",
       " 'won': 4,\n",
       " 'where': 289,\n",
       " 'more': 2311,\n",
       " \"don't\": 0,\n",
       " \"that'll\": 0,\n",
       " 'then': 224,\n",
       " \"needn't\": 0,\n",
       " \"mightn't\": 0,\n",
       " 'once': 92,\n",
       " 'wasn': 0,\n",
       " 'a': 7855,\n",
       " 'at': 939,\n",
       " 'here': 55,\n",
       " 'ain': 0,\n",
       " 'theirs': 5,\n",
       " 'for': 3544,\n",
       " 'on': 2077,\n",
       " 'haven': 0,\n",
       " 'had': 292,\n",
       " 'any': 312,\n",
       " 's': 19,\n",
       " 'o': 3,\n",
       " 'above': 104,\n",
       " 'yourself': 80,\n",
       " 'did': 168,\n",
       " 'this': 2567,\n",
       " 'be': 3148,\n",
       " 'after': 215,\n",
       " \"shan't\": 0,\n",
       " 'between': 141,\n",
       " 'shan': 0,\n",
       " 'will': 2073,\n",
       " 'before': 135,\n",
       " \"couldn't\": 0,\n",
       " \"shouldn't\": 0,\n",
       " 'whom': 10,\n",
       " 'these': 532,\n",
       " 'my': 1252,\n",
       " 'some': 682,\n",
       " 'with': 2024,\n",
       " 'about': 1030,\n",
       " 'all': 992,\n",
       " 'nor': 31,\n",
       " 'we': 754,\n",
       " 'your': 766,\n",
       " 'to': 11735,\n",
       " \"hadn't\": 0,\n",
       " 'me': 358,\n",
       " 'does': 376,\n",
       " \"doesn't\": 0,\n",
       " 'and': 7231,\n",
       " 'has': 818,\n",
       " 'm': 5,\n",
       " \"didn't\": 0,\n",
       " 'out': 400,\n",
       " 'such': 294,\n",
       " 'during': 153,\n",
       " 'but': 1948,\n",
       " 'in': 7242,\n",
       " 'up': 343,\n",
       " \"should've\": 0,\n",
       " 'himself': 33,\n",
       " 'now': 233,\n",
       " 'couldn': 1,\n",
       " 'under': 41,\n",
       " 'if': 1600,\n",
       " 'until': 38,\n",
       " 'd': 4,\n",
       " 'most': 631,\n",
       " 'wouldn': 0,\n",
       " 'just': 628,\n",
       " 'shouldn': 1,\n",
       " 'they': 3012,\n",
       " 'don': 17,\n",
       " 'its': 175,\n",
       " 'or': 2259,\n",
       " \"isn't\": 0,\n",
       " 'what': 921,\n",
       " 'down': 52,\n",
       " 'over': 170,\n",
       " 'myself': 43,\n",
       " \"won't\": 0,\n",
       " 'am': 301,\n",
       " 'needn': 0,\n",
       " \"you've\": 0,\n",
       " 'themselves': 117,\n",
       " 'into': 221,\n",
       " \"wouldn't\": 0,\n",
       " 'his': 443,\n",
       " 'should': 538,\n",
       " \"haven't\": 0,\n",
       " 'how': 561,\n",
       " 'there': 1646,\n",
       " 'hers': 1}"
      ]
     },
     "execution_count": 30,
     "metadata": {},
     "output_type": "execute_result"
    }
   ],
   "source": [
    "lswd['GER']"
   ]
  },
  {
   "cell_type": "code",
   "execution_count": 31,
   "id": "94b66886",
   "metadata": {},
   "outputs": [
    {
     "data": {
      "text/plain": [
       "[('the', 14297),\n",
       " ('to', 11735),\n",
       " ('a', 7855),\n",
       " ('of', 7348),\n",
       " ('in', 7242),\n",
       " ('and', 7231),\n",
       " ('is', 5874),\n",
       " ('that', 5291),\n",
       " ('it', 3961),\n",
       " ('i', 3899)]"
      ]
     },
     "execution_count": 31,
     "metadata": {},
     "output_type": "execute_result"
    }
   ],
   "source": [
    "a = list(lswd['GER'].items())\n",
    "a.sort(key=lambda x: x[1], reverse=True)\n",
    "\n",
    "a[:10]"
   ]
  },
  {
   "cell_type": "code",
   "execution_count": 49,
   "id": "87f47346",
   "metadata": {
    "scrolled": false
   },
   "outputs": [
    {
     "name": "stdout",
     "output_type": "stream",
     "text": [
      "GER\n"
     ]
    },
    {
     "data": {
      "image/png": "[encoded data removed]",
      "text/plain": [
       "<Figure size 432x288 with 1 Axes>"
      ]
     },
     "metadata": {},
     "output_type": "display_data"
    },
    {
     "name": "stdout",
     "output_type": "stream",
     "text": [
      "TUR\n"
     ]
    },
    {
     "data": {
      "image/png": "[encoded data removed]",
      "text/plain": [
       "<Figure size 432x288 with 1 Axes>"
      ]
     },
     "metadata": {},
     "output_type": "display_data"
    },
    {
     "name": "stdout",
     "output_type": "stream",
     "text": [
      "CHI\n"
     ]
    },
    {
     "data": {
      "image/png": "[encoded data removed]",
      "text/plain": [
       "<Figure size 432x288 with 1 Axes>"
      ]
     },
     "metadata": {},
     "output_type": "display_data"
    },
    {
     "name": "stdout",
     "output_type": "stream",
     "text": [
      "TEL\n"
     ]
    },
    {
     "data": {
      "image/png": "[encoded data removed]",
      "text/plain": [
       "<Figure size 432x288 with 1 Axes>"
      ]
     },
     "metadata": {},
     "output_type": "display_data"
    },
    {
     "name": "stdout",
     "output_type": "stream",
     "text": [
      "ARA\n"
     ]
    },
    {
     "data": {
      "image/png": "[encoded data removed]",
      "text/plain": [
       "<Figure size 432x288 with 1 Axes>"
      ]
     },
     "metadata": {},
     "output_type": "display_data"
    },
    {
     "name": "stdout",
     "output_type": "stream",
     "text": [
      "SPA\n"
     ]
    },
    {
     "data": {
      "image/png": "[encoded data removed]",
      "text/plain": [
       "<Figure size 432x288 with 1 Axes>"
      ]
     },
     "metadata": {},
     "output_type": "display_data"
    },
    {
     "name": "stdout",
     "output_type": "stream",
     "text": [
      "HIN\n"
     ]
    },
    {
     "data": {
      "image/png": "[encoded data removed]",
      "text/plain": [
       "<Figure size 432x288 with 1 Axes>"
      ]
     },
     "metadata": {},
     "output_type": "display_data"
    },
    {
     "name": "stdout",
     "output_type": "stream",
     "text": [
      "JPN\n"
     ]
    },
    {
     "data": {
      "image/png": "[encoded data removed]",
      "text/plain": [
       "<Figure size 432x288 with 1 Axes>"
      ]
     },
     "metadata": {},
     "output_type": "display_data"
    },
    {
     "name": "stdout",
     "output_type": "stream",
     "text": [
      "KOR\n"
     ]
    },
    {
     "data": {
      "image/png": "[encoded data removed]",
      "text/plain": [
       "<Figure size 432x288 with 1 Axes>"
      ]
     },
     "metadata": {},
     "output_type": "display_data"
    },
    {
     "name": "stdout",
     "output_type": "stream",
     "text": [
      "FRE\n"
     ]
    },
    {
     "data": {
      "image/png": "[encoded data removed]",
      "text/plain": [
       "<Figure size 432x288 with 1 Axes>"
      ]
     },
     "metadata": {},
     "output_type": "display_data"
    },
    {
     "name": "stdout",
     "output_type": "stream",
     "text": [
      "ITA\n"
     ]
    },
    {
     "data": {
      "image/png": "[encoded data removed]",
      "text/plain": [
       "<Figure size 432x288 with 1 Axes>"
      ]
     },
     "metadata": {},
     "output_type": "display_data"
    }
   ],
   "source": [
    "def draw_sw_bar(lswd):\n",
    "    N = 10\n",
    "    import matplotlib.pyplot as plt\n",
    "    for key in lswd.keys():\n",
    "        a = list(lswd[key].items())\n",
    "        a.sort(key=lambda x: x[1], reverse=True)\n",
    "        a = a[:N]\n",
    "        fig = plt.figure()\n",
    "        ax = fig.add_axes([0,0,1,1])\n",
    "\n",
    "        langs = list(map( lambda x:x[0],a))\n",
    "        students = list(map(lambda x:x[1],a))\n",
    "        ax.bar(langs,students)\n",
    "        print(key)\n",
    "        plt.show()\n",
    "\n",
    "    \n",
    "draw_sw_bar(lswd)\n",
    "# les mots les plus fréquants pour chaque langue"
   ]
  },
  {
   "cell_type": "code",
   "execution_count": 65,
   "id": "a02948ac",
   "metadata": {
    "scrolled": false
   },
   "outputs": [
    {
     "name": "stdout",
     "output_type": "stream",
     "text": [
      "GER\n"
     ]
    },
    {
     "data": {
      "image/png": "[encoded data removed]",
      "text/plain": [
       "<Figure size 432x288 with 1 Axes>"
      ]
     },
     "metadata": {},
     "output_type": "display_data"
    },
    {
     "name": "stdout",
     "output_type": "stream",
     "text": [
      "TUR\n"
     ]
    },
    {
     "data": {
      "image/png": "[encoded data removed]",
      "text/plain": [
       "<Figure size 432x288 with 1 Axes>"
      ]
     },
     "metadata": {},
     "output_type": "display_data"
    },
    {
     "name": "stdout",
     "output_type": "stream",
     "text": [
      "CHI\n"
     ]
    },
    {
     "data": {
      "image/png": "[encoded data removed]",
      "text/plain": [
       "<Figure size 432x288 with 1 Axes>"
      ]
     },
     "metadata": {},
     "output_type": "display_data"
    },
    {
     "name": "stdout",
     "output_type": "stream",
     "text": [
      "TEL\n"
     ]
    },
    {
     "data": {
      "image/png": "[encoded data removed]",
      "text/plain": [
       "<Figure size 432x288 with 1 Axes>"
      ]
     },
     "metadata": {},
     "output_type": "display_data"
    },
    {
     "name": "stdout",
     "output_type": "stream",
     "text": [
      "ARA\n"
     ]
    },
    {
     "data": {
      "image/png": "[encoded data removed]",
      "text/plain": [
       "<Figure size 432x288 with 1 Axes>"
      ]
     },
     "metadata": {},
     "output_type": "display_data"
    },
    {
     "name": "stdout",
     "output_type": "stream",
     "text": [
      "SPA\n"
     ]
    },
    {
     "data": {
      "image/png": "[encoded data removed]",
      "text/plain": [
       "<Figure size 432x288 with 1 Axes>"
      ]
     },
     "metadata": {},
     "output_type": "display_data"
    },
    {
     "name": "stdout",
     "output_type": "stream",
     "text": [
      "HIN\n"
     ]
    },
    {
     "data": {
      "image/png": "[encoded data removed]",
      "text/plain": [
       "<Figure size 432x288 with 1 Axes>"
      ]
     },
     "metadata": {},
     "output_type": "display_data"
    },
    {
     "name": "stdout",
     "output_type": "stream",
     "text": [
      "JPN\n"
     ]
    },
    {
     "data": {
      "image/png": "[encoded data removed]",
      "text/plain": [
       "<Figure size 432x288 with 1 Axes>"
      ]
     },
     "metadata": {},
     "output_type": "display_data"
    },
    {
     "name": "stdout",
     "output_type": "stream",
     "text": [
      "KOR\n"
     ]
    },
    {
     "data": {
      "image/png": "[encoded data removed]",
      "text/plain": [
       "<Figure size 432x288 with 1 Axes>"
      ]
     },
     "metadata": {},
     "output_type": "display_data"
    },
    {
     "name": "stdout",
     "output_type": "stream",
     "text": [
      "FRE\n"
     ]
    },
    {
     "data": {
      "image/png": "[encoded data removed]",
      "text/plain": [
       "<Figure size 432x288 with 1 Axes>"
      ]
     },
     "metadata": {},
     "output_type": "display_data"
    },
    {
     "name": "stdout",
     "output_type": "stream",
     "text": [
      "ITA\n"
     ]
    },
    {
     "data": {
      "image/png": "[encoded data removed]",
      "text/plain": [
       "<Figure size 432x288 with 1 Axes>"
      ]
     },
     "metadata": {},
     "output_type": "display_data"
    }
   ],
   "source": [
    "N = 20\n",
    "def get_commun_stop_word(lswd:dict, nw:int = N, nbr_lang_using_word_after_filter:int = 7):\n",
    "    \"\"\"\n",
    "    Args :\n",
    "        lswd : language stop words dict\n",
    "        nw : les N premiers stop words les plus fréquents pour chaque langue\n",
    "    retourne les stop words qui apparaissent dans nbr_lang_using_word_after_filter après le filtre des nw premiers\n",
    "    \"\"\"\n",
    "    import matplotlib.pyplot as plt\n",
    "    word_commun = {}\n",
    "    for key in lswd.keys():\n",
    "        a = list(lswd[key].items())\n",
    "        a.sort(key=lambda x: x[1], reverse=True)\n",
    "        a = a[:nw]\n",
    "        for item in a:\n",
    "            if word_commun.get(item[0]) != None:\n",
    "                word_commun[item[0]] += 1\n",
    "            else:\n",
    "                word_commun[item[0]] = 1\n",
    "    \n",
    "    return set(map(lambda x:x[0],    filter(lambda x: x[1] > nbr_lang_using_word_after_filter, word_commun.items()) ) )\n",
    "    \n",
    "\n",
    "\n",
    "def draw_sw_bar_filter(lswd: dict, nw:int = N):\n",
    "    \"\"\"\n",
    "    Args :\n",
    "        lswd : language stop words dict\n",
    "        nw : les N premiers stop words les plus fréquents pour chaque langue\n",
    "    filtre les N stop words les plus communs\n",
    "    \"\"\"\n",
    "    word_to_remove=get_commun_stop_word(lswd)\n",
    "    \n",
    "    for key in lswd.keys():\n",
    "        for k in word_to_remove:\n",
    "            if lswd[key].get(k) != None:\n",
    "                lswd[key].pop(k)\n",
    "        a = list(lswd[key].items())\n",
    "        a.sort(key=lambda x: x[1], reverse=True)\n",
    "        a = a[:nw]\n",
    "        fig = plt.figure()\n",
    "        ax = fig.add_axes([0,0,1,1])\n",
    "\n",
    "        langs = list(map( lambda x:x[0],a))\n",
    "        students = list(map(lambda x:x[1],a))\n",
    "        ax.bar(langs,students)\n",
    "        print(key)\n",
    "        plt.show()\n",
    "\n",
    "\n",
    "draw_sw_bar_filter(lswd)"
   ]
  },
  {
   "cell_type": "markdown",
   "id": "97fed0cb",
   "metadata": {},
   "source": [
    "## Remarques\n",
    "La fréquence et la diversité d'utilisation des stop-words varie selon les langues maternelles.\n",
    "Les N mots les plus fréquents communs à toutes les langues ne sont pas pris en compte, afin de garder uniquement des stop-words qui permettent de refléter des spécificités de chaque langue.\n",
    "\n",
    "Nous avons pour chaque langue maternelle, une liste de stop-words spécifiques dans l'ordre de fréquence."
   ]
  },
  {
   "cell_type": "code",
   "execution_count": 66,
   "id": "d93fd59c",
   "metadata": {},
   "outputs": [
    {
     "name": "stdout",
     "output_type": "stream",
     "text": [
      "{'at', 'an', 'what', 'which', 'when', 'very', 'them', 'my', 'he', 'other', 'some', 'so', 'about', 'all', 'from', 'who', 'only'}\n"
     ]
    }
   ],
   "source": [
    "def clean_text_(text, stopwords):\n",
    "    \"\"\"\n",
    "    Clean the input text \n",
    "    \"\"\"\n",
    "   \n",
    "    cleaned_text = text.lower()\n",
    "    cleaned_text = re.sub('[^a-zA-Z0-9$\\s]', '', cleaned_text)\n",
    "    cleaned_text = cleaned_text.split()\n",
    "    cleaned_text = [word for word in cleaned_text if word.lower() not in stopwords and len(word.lower())>1 ]\n",
    "\n",
    "    return \" \".join(cleaned_text)\n",
    "\n",
    "new_sw = get_commun_stop_word(lswd)\n",
    "print(new_sw)\n",
    "df['cleaned_text_filtered_sw'] = df['text'].apply(lambda x: clean_text_(x,new_sw))"
   ]
  },
  {
   "cell_type": "code",
   "execution_count": 67,
   "id": "f9e94409",
   "metadata": {},
   "outputs": [
    {
     "data": {
      "text/html": [
       "<div>\n",
       "<style scoped>\n",
       "    .dataframe tbody tr th:only-of-type {\n",
       "        vertical-align: middle;\n",
       "    }\n",
       "\n",
       "    .dataframe tbody tr th {\n",
       "        vertical-align: top;\n",
       "    }\n",
       "\n",
       "    .dataframe thead th {\n",
       "        text-align: right;\n",
       "    }\n",
       "</style>\n",
       "<table border=\"1\" class=\"dataframe\">\n",
       "  <thead>\n",
       "    <tr style=\"text-align: right;\">\n",
       "      <th></th>\n",
       "      <th>text</th>\n",
       "      <th>category</th>\n",
       "      <th>cleaned_text</th>\n",
       "      <th>cleaned_text_filtered_sw</th>\n",
       "      <th>cleaned_text_all_sw</th>\n",
       "    </tr>\n",
       "  </thead>\n",
       "  <tbody>\n",
       "    <tr>\n",
       "      <th>0</th>\n",
       "      <td>IThe importance and popularity of travelling i...</td>\n",
       "      <td>GER</td>\n",
       "      <td>ithe importance and popularity of travelling i...</td>\n",
       "      <td>ithe importance and popularity of travelling i...</td>\n",
       "      <td>ithe importance popularity travelling still ra...</td>\n",
       "    </tr>\n",
       "    <tr>\n",
       "      <th>1</th>\n",
       "      <td>It is an important decision , how to plan your...</td>\n",
       "      <td>TUR</td>\n",
       "      <td>it is an important decision how to plan your s...</td>\n",
       "      <td>it is important decision how to plan your syll...</td>\n",
       "      <td>important decision plan syllabus students pref...</td>\n",
       "    </tr>\n",
       "    <tr>\n",
       "      <th>2</th>\n",
       "      <td>Some people believe that young people can enjo...</td>\n",
       "      <td>CHI</td>\n",
       "      <td>some people believe that young people enjoy li...</td>\n",
       "      <td>people believe that young people can enjoy lif...</td>\n",
       "      <td>people believe young people enjoy life older p...</td>\n",
       "    </tr>\n",
       "    <tr>\n",
       "      <th>3</th>\n",
       "      <td>Travelling is usually considered as good recre...</td>\n",
       "      <td>TEL</td>\n",
       "      <td>travelling is usually considered good recreati...</td>\n",
       "      <td>travelling is usually considered as good recre...</td>\n",
       "      <td>travelling usually considered good recreation ...</td>\n",
       "    </tr>\n",
       "    <tr>\n",
       "      <th>4</th>\n",
       "      <td>i agree that . Life is a person live period of...</td>\n",
       "      <td>ARA</td>\n",
       "      <td>agree that life is person live period of time ...</td>\n",
       "      <td>agree that life is person live period of time ...</td>\n",
       "      <td>agree life person live period time people beli...</td>\n",
       "    </tr>\n",
       "    <tr>\n",
       "      <th>5</th>\n",
       "      <td>In my opinion , travel in group with a tour gu...</td>\n",
       "      <td>SPA</td>\n",
       "      <td>in my opinion travel in group tour guide is no...</td>\n",
       "      <td>in opinion travel in group with tour guide is ...</td>\n",
       "      <td>opinion travel group tour guide good way trave...</td>\n",
       "    </tr>\n",
       "    <tr>\n",
       "      <th>6</th>\n",
       "      <td>I thing the statement '' Young people nowadays...</td>\n",
       "      <td>GER</td>\n",
       "      <td>thing the statement young people nowadays not ...</td>\n",
       "      <td>thing the statement young people nowadays do n...</td>\n",
       "      <td>thing statement young people nowadays give eno...</td>\n",
       "    </tr>\n",
       "    <tr>\n",
       "      <th>7</th>\n",
       "      <td>Whether or not young people enjoy life more th...</td>\n",
       "      <td>GER</td>\n",
       "      <td>whether not young people enjoy life than older...</td>\n",
       "      <td>whether or not young people enjoy life more th...</td>\n",
       "      <td>whether young people enjoy life older people i...</td>\n",
       "    </tr>\n",
       "    <tr>\n",
       "      <th>8</th>\n",
       "      <td>In the era of science and technology , the peo...</td>\n",
       "      <td>HIN</td>\n",
       "      <td>in the era of science and technology the peopl...</td>\n",
       "      <td>in the era of science and technology the peopl...</td>\n",
       "      <td>era science technology people generally pay at...</td>\n",
       "    </tr>\n",
       "    <tr>\n",
       "      <th>9</th>\n",
       "      <td>I agree with this statement . I think that in ...</td>\n",
       "      <td>JPN</td>\n",
       "      <td>agree statement think that in twenty years the...</td>\n",
       "      <td>agree with this statement think that in twenty...</td>\n",
       "      <td>agree statement think twenty years fewer cars ...</td>\n",
       "    </tr>\n",
       "  </tbody>\n",
       "</table>\n",
       "</div>"
      ],
      "text/plain": [
       "                                                text category  \\\n",
       "0  IThe importance and popularity of travelling i...      GER   \n",
       "1  It is an important decision , how to plan your...      TUR   \n",
       "2  Some people believe that young people can enjo...      CHI   \n",
       "3  Travelling is usually considered as good recre...      TEL   \n",
       "4  i agree that . Life is a person live period of...      ARA   \n",
       "5  In my opinion , travel in group with a tour gu...      SPA   \n",
       "6  I thing the statement '' Young people nowadays...      GER   \n",
       "7  Whether or not young people enjoy life more th...      GER   \n",
       "8  In the era of science and technology , the peo...      HIN   \n",
       "9  I agree with this statement . I think that in ...      JPN   \n",
       "\n",
       "                                        cleaned_text  \\\n",
       "0  ithe importance and popularity of travelling i...   \n",
       "1  it is an important decision how to plan your s...   \n",
       "2  some people believe that young people enjoy li...   \n",
       "3  travelling is usually considered good recreati...   \n",
       "4  agree that life is person live period of time ...   \n",
       "5  in my opinion travel in group tour guide is no...   \n",
       "6  thing the statement young people nowadays not ...   \n",
       "7  whether not young people enjoy life than older...   \n",
       "8  in the era of science and technology the peopl...   \n",
       "9  agree statement think that in twenty years the...   \n",
       "\n",
       "                            cleaned_text_filtered_sw  \\\n",
       "0  ithe importance and popularity of travelling i...   \n",
       "1  it is important decision how to plan your syll...   \n",
       "2  people believe that young people can enjoy lif...   \n",
       "3  travelling is usually considered as good recre...   \n",
       "4  agree that life is person live period of time ...   \n",
       "5  in opinion travel in group with tour guide is ...   \n",
       "6  thing the statement young people nowadays do n...   \n",
       "7  whether or not young people enjoy life more th...   \n",
       "8  in the era of science and technology the peopl...   \n",
       "9  agree with this statement think that in twenty...   \n",
       "\n",
       "                                 cleaned_text_all_sw  \n",
       "0  ithe importance popularity travelling still ra...  \n",
       "1  important decision plan syllabus students pref...  \n",
       "2  people believe young people enjoy life older p...  \n",
       "3  travelling usually considered good recreation ...  \n",
       "4  agree life person live period time people beli...  \n",
       "5  opinion travel group tour guide good way trave...  \n",
       "6  thing statement young people nowadays give eno...  \n",
       "7  whether young people enjoy life older people i...  \n",
       "8  era science technology people generally pay at...  \n",
       "9  agree statement think twenty years fewer cars ...  "
      ]
     },
     "execution_count": 67,
     "metadata": {},
     "output_type": "execute_result"
    }
   ],
   "source": [
    "df.head(10)"
   ]
  },
  {
   "cell_type": "code",
   "execution_count": 68,
   "id": "16b69b80",
   "metadata": {},
   "outputs": [
    {
     "name": "stdout",
     "output_type": "stream",
     "text": [
      "1980\n"
     ]
    },
    {
     "name": "stderr",
     "output_type": "stream",
     "text": [
      "/home/clinton/anaconda3/lib/python3.8/site-packages/sklearn/linear_model/_logistic.py:814: ConvergenceWarning:\n",
      "\n",
      "lbfgs failed to converge (status=1):\n",
      "STOP: TOTAL NO. of ITERATIONS REACHED LIMIT.\n",
      "\n",
      "Increase the number of iterations (max_iter) or scale the data as shown in:\n",
      "    https://scikit-learn.org/stable/modules/preprocessing.html\n",
      "Please also refer to the documentation for alternative solver options:\n",
      "    https://scikit-learn.org/stable/modules/linear_model.html#logistic-regression\n",
      "\n"
     ]
    }
   ],
   "source": [
    "from sklearn.linear_model import LogisticRegression\n",
    "from sklearn.model_selection import train_test_split\n",
    "\n",
    "X = df['cleaned_text_filtered_sw'].values.tolist()\n",
    "y = df['category'].values.tolist()\n",
    "\n",
    "X_train, X_test, y_train, y_test = train_test_split(X, y, test_size=0.2, random_state=42)\n",
    "logisticRegr = LogisticRegression()\n",
    "tf_X_train = tf.transform(X_train)\n",
    "tf_X_test = tf.transform(X_test)\n",
    "logisticRegr.fit(tf_X_train, train_category)\n",
    "logisticRegr_predict = logisticRegr.predict(tf_X_test)\n",
    "print(len(logisticRegr_predict))"
   ]
  },
  {
   "cell_type": "code",
   "execution_count": 69,
   "id": "79c658ac",
   "metadata": {},
   "outputs": [
    {
     "name": "stdout",
     "output_type": "stream",
     "text": [
      "Score logistic regression with TF-IDF after cleaning frequent stop words : 0.6368686868686869\n",
      "\n",
      "-- EVALUATION --\n",
      "\n"
     ]
    },
    {
     "data": {
      "application/vnd.plotly.v1+json": {
       "config": {
        "plotlyServerURL": "https://plot.ly"
       },
       "data": [
        {
         "coloraxis": "coloraxis",
         "hovertemplate": "Languages y_test: %{x}<br>Languages y_pred: %{y}<br>confusion: %{z}<extra></extra>",
         "name": "0",
         "texttemplate": "%{z}",
         "type": "heatmap",
         "x": [
          "ARA",
          "CHI",
          "FRE",
          "GER",
          "HIN",
          "ITA",
          "JPN",
          "KOR",
          "SPA",
          "TEL",
          "TUR"
         ],
         "xaxis": "x",
         "y": [
          "ARA",
          "CHI",
          "FRE",
          "GER",
          "HIN",
          "ITA",
          "JPN",
          "KOR",
          "SPA",
          "TEL",
          "TUR"
         ],
         "yaxis": "y",
         "z": [
          [
           92,
           4,
           8,
           6,
           11,
           4,
           8,
           8,
           6,
           11,
           12
          ],
          [
           4,
           118,
           4,
           4,
           5,
           2,
           12,
           12,
           3,
           1,
           10
          ],
          [
           3,
           10,
           123,
           5,
           4,
           18,
           3,
           4,
           12,
           4,
           7
          ],
          [
           2,
           1,
           5,
           134,
           4,
           10,
           0,
           2,
           4,
           3,
           7
          ],
          [
           2,
           3,
           1,
           3,
           114,
           2,
           1,
           0,
           5,
           39,
           6
          ],
          [
           7,
           2,
           10,
           9,
           5,
           118,
           1,
           2,
           6,
           1,
           3
          ],
          [
           9,
           13,
           0,
           3,
           0,
           4,
           123,
           19,
           5,
           0,
           10
          ],
          [
           6,
           22,
           4,
           7,
           7,
           6,
           24,
           102,
           6,
           2,
           15
          ],
          [
           9,
           5,
           13,
           9,
           10,
           26,
           3,
           4,
           102,
           4,
           11
          ],
          [
           5,
           3,
           3,
           1,
           35,
           0,
           1,
           1,
           2,
           125,
           3
          ],
          [
           10,
           6,
           7,
           4,
           6,
           6,
           5,
           4,
           6,
           4,
           110
          ]
         ]
        }
       ],
       "layout": {
        "coloraxis": {
         "colorbar": {
          "title": {
           "text": "confusion"
          }
         },
         "colorscale": [
          [
           0,
           "#0d0887"
          ],
          [
           0.1111111111111111,
           "#46039f"
          ],
          [
           0.2222222222222222,
           "#7201a8"
          ],
          [
           0.3333333333333333,
           "#9c179e"
          ],
          [
           0.4444444444444444,
           "#bd3786"
          ],
          [
           0.5555555555555556,
           "#d8576b"
          ],
          [
           0.6666666666666666,
           "#ed7953"
          ],
          [
           0.7777777777777778,
           "#fb9f3a"
          ],
          [
           0.8888888888888888,
           "#fdca26"
          ],
          [
           1,
           "#f0f921"
          ]
         ]
        },
        "margin": {
         "t": 60
        },
        "template": {
         "data": {
          "bar": [
           {
            "error_x": {
             "color": "#2a3f5f"
            },
            "error_y": {
             "color": "#2a3f5f"
            },
            "marker": {
             "line": {
              "color": "#E5ECF6",
              "width": 0.5
             },
             "pattern": {
              "fillmode": "overlay",
              "size": 10,
              "solidity": 0.2
             }
            },
            "type": "bar"
           }
          ],
          "barpolar": [
           {
            "marker": {
             "line": {
              "color": "#E5ECF6",
              "width": 0.5
             },
             "pattern": {
              "fillmode": "overlay",
              "size": 10,
              "solidity": 0.2
             }
            },
            "type": "barpolar"
           }
          ],
          "carpet": [
           {
            "aaxis": {
             "endlinecolor": "#2a3f5f",
             "gridcolor": "white",
             "linecolor": "white",
             "minorgridcolor": "white",
             "startlinecolor": "#2a3f5f"
            },
            "baxis": {
             "endlinecolor": "#2a3f5f",
             "gridcolor": "white",
             "linecolor": "white",
             "minorgridcolor": "white",
             "startlinecolor": "#2a3f5f"
            },
            "type": "carpet"
           }
          ],
          "choropleth": [
           {
            "colorbar": {
             "outlinewidth": 0,
             "ticks": ""
            },
            "type": "choropleth"
           }
          ],
          "contour": [
           {
            "colorbar": {
             "outlinewidth": 0,
             "ticks": ""
            },
            "colorscale": [
             [
              0,
              "#0d0887"
             ],
             [
              0.1111111111111111,
              "#46039f"
             ],
             [
              0.2222222222222222,
              "#7201a8"
             ],
             [
              0.3333333333333333,
              "#9c179e"
             ],
             [
              0.4444444444444444,
              "#bd3786"
             ],
             [
              0.5555555555555556,
              "#d8576b"
             ],
             [
              0.6666666666666666,
              "#ed7953"
             ],
             [
              0.7777777777777778,
              "#fb9f3a"
             ],
             [
              0.8888888888888888,
              "#fdca26"
             ],
             [
              1,
              "#f0f921"
             ]
            ],
            "type": "contour"
           }
          ],
          "contourcarpet": [
           {
            "colorbar": {
             "outlinewidth": 0,
             "ticks": ""
            },
            "type": "contourcarpet"
           }
          ],
          "heatmap": [
           {
            "colorbar": {
             "outlinewidth": 0,
             "ticks": ""
            },
            "colorscale": [
             [
              0,
              "#0d0887"
             ],
             [
              0.1111111111111111,
              "#46039f"
             ],
             [
              0.2222222222222222,
              "#7201a8"
             ],
             [
              0.3333333333333333,
              "#9c179e"
             ],
             [
              0.4444444444444444,
              "#bd3786"
             ],
             [
              0.5555555555555556,
              "#d8576b"
             ],
             [
              0.6666666666666666,
              "#ed7953"
             ],
             [
              0.7777777777777778,
              "#fb9f3a"
             ],
             [
              0.8888888888888888,
              "#fdca26"
             ],
             [
              1,
              "#f0f921"
             ]
            ],
            "type": "heatmap"
           }
          ],
          "heatmapgl": [
           {
            "colorbar": {
             "outlinewidth": 0,
             "ticks": ""
            },
            "colorscale": [
             [
              0,
              "#0d0887"
             ],
             [
              0.1111111111111111,
              "#46039f"
             ],
             [
              0.2222222222222222,
              "#7201a8"
             ],
             [
              0.3333333333333333,
              "#9c179e"
             ],
             [
              0.4444444444444444,
              "#bd3786"
             ],
             [
              0.5555555555555556,
              "#d8576b"
             ],
             [
              0.6666666666666666,
              "#ed7953"
             ],
             [
              0.7777777777777778,
              "#fb9f3a"
             ],
             [
              0.8888888888888888,
              "#fdca26"
             ],
             [
              1,
              "#f0f921"
             ]
            ],
            "type": "heatmapgl"
           }
          ],
          "histogram": [
           {
            "marker": {
             "pattern": {
              "fillmode": "overlay",
              "size": 10,
              "solidity": 0.2
             }
            },
            "type": "histogram"
           }
          ],
          "histogram2d": [
           {
            "colorbar": {
             "outlinewidth": 0,
             "ticks": ""
            },
            "colorscale": [
             [
              0,
              "#0d0887"
             ],
             [
              0.1111111111111111,
              "#46039f"
             ],
             [
              0.2222222222222222,
              "#7201a8"
             ],
             [
              0.3333333333333333,
              "#9c179e"
             ],
             [
              0.4444444444444444,
              "#bd3786"
             ],
             [
              0.5555555555555556,
              "#d8576b"
             ],
             [
              0.6666666666666666,
              "#ed7953"
             ],
             [
              0.7777777777777778,
              "#fb9f3a"
             ],
             [
              0.8888888888888888,
              "#fdca26"
             ],
             [
              1,
              "#f0f921"
             ]
            ],
            "type": "histogram2d"
           }
          ],
          "histogram2dcontour": [
           {
            "colorbar": {
             "outlinewidth": 0,
             "ticks": ""
            },
            "colorscale": [
             [
              0,
              "#0d0887"
             ],
             [
              0.1111111111111111,
              "#46039f"
             ],
             [
              0.2222222222222222,
              "#7201a8"
             ],
             [
              0.3333333333333333,
              "#9c179e"
             ],
             [
              0.4444444444444444,
              "#bd3786"
             ],
             [
              0.5555555555555556,
              "#d8576b"
             ],
             [
              0.6666666666666666,
              "#ed7953"
             ],
             [
              0.7777777777777778,
              "#fb9f3a"
             ],
             [
              0.8888888888888888,
              "#fdca26"
             ],
             [
              1,
              "#f0f921"
             ]
            ],
            "type": "histogram2dcontour"
           }
          ],
          "mesh3d": [
           {
            "colorbar": {
             "outlinewidth": 0,
             "ticks": ""
            },
            "type": "mesh3d"
           }
          ],
          "parcoords": [
           {
            "line": {
             "colorbar": {
              "outlinewidth": 0,
              "ticks": ""
             }
            },
            "type": "parcoords"
           }
          ],
          "pie": [
           {
            "automargin": true,
            "type": "pie"
           }
          ],
          "scatter": [
           {
            "fillpattern": {
             "fillmode": "overlay",
             "size": 10,
             "solidity": 0.2
            },
            "type": "scatter"
           }
          ],
          "scatter3d": [
           {
            "line": {
             "colorbar": {
              "outlinewidth": 0,
              "ticks": ""
             }
            },
            "marker": {
             "colorbar": {
              "outlinewidth": 0,
              "ticks": ""
             }
            },
            "type": "scatter3d"
           }
          ],
          "scattercarpet": [
           {
            "marker": {
             "colorbar": {
              "outlinewidth": 0,
              "ticks": ""
             }
            },
            "type": "scattercarpet"
           }
          ],
          "scattergeo": [
           {
            "marker": {
             "colorbar": {
              "outlinewidth": 0,
              "ticks": ""
             }
            },
            "type": "scattergeo"
           }
          ],
          "scattergl": [
           {
            "marker": {
             "colorbar": {
              "outlinewidth": 0,
              "ticks": ""
             }
            },
            "type": "scattergl"
           }
          ],
          "scattermapbox": [
           {
            "marker": {
             "colorbar": {
              "outlinewidth": 0,
              "ticks": ""
             }
            },
            "type": "scattermapbox"
           }
          ],
          "scatterpolar": [
           {
            "marker": {
             "colorbar": {
              "outlinewidth": 0,
              "ticks": ""
             }
            },
            "type": "scatterpolar"
           }
          ],
          "scatterpolargl": [
           {
            "marker": {
             "colorbar": {
              "outlinewidth": 0,
              "ticks": ""
             }
            },
            "type": "scatterpolargl"
           }
          ],
          "scatterternary": [
           {
            "marker": {
             "colorbar": {
              "outlinewidth": 0,
              "ticks": ""
             }
            },
            "type": "scatterternary"
           }
          ],
          "surface": [
           {
            "colorbar": {
             "outlinewidth": 0,
             "ticks": ""
            },
            "colorscale": [
             [
              0,
              "#0d0887"
             ],
             [
              0.1111111111111111,
              "#46039f"
             ],
             [
              0.2222222222222222,
              "#7201a8"
             ],
             [
              0.3333333333333333,
              "#9c179e"
             ],
             [
              0.4444444444444444,
              "#bd3786"
             ],
             [
              0.5555555555555556,
              "#d8576b"
             ],
             [
              0.6666666666666666,
              "#ed7953"
             ],
             [
              0.7777777777777778,
              "#fb9f3a"
             ],
             [
              0.8888888888888888,
              "#fdca26"
             ],
             [
              1,
              "#f0f921"
             ]
            ],
            "type": "surface"
           }
          ],
          "table": [
           {
            "cells": {
             "fill": {
              "color": "#EBF0F8"
             },
             "line": {
              "color": "white"
             }
            },
            "header": {
             "fill": {
              "color": "#C8D4E3"
             },
             "line": {
              "color": "white"
             }
            },
            "type": "table"
           }
          ]
         },
         "layout": {
          "annotationdefaults": {
           "arrowcolor": "#2a3f5f",
           "arrowhead": 0,
           "arrowwidth": 1
          },
          "autotypenumbers": "strict",
          "coloraxis": {
           "colorbar": {
            "outlinewidth": 0,
            "ticks": ""
           }
          },
          "colorscale": {
           "diverging": [
            [
             0,
             "#8e0152"
            ],
            [
             0.1,
             "#c51b7d"
            ],
            [
             0.2,
             "#de77ae"
            ],
            [
             0.3,
             "#f1b6da"
            ],
            [
             0.4,
             "#fde0ef"
            ],
            [
             0.5,
             "#f7f7f7"
            ],
            [
             0.6,
             "#e6f5d0"
            ],
            [
             0.7,
             "#b8e186"
            ],
            [
             0.8,
             "#7fbc41"
            ],
            [
             0.9,
             "#4d9221"
            ],
            [
             1,
             "#276419"
            ]
           ],
           "sequential": [
            [
             0,
             "#0d0887"
            ],
            [
             0.1111111111111111,
             "#46039f"
            ],
            [
             0.2222222222222222,
             "#7201a8"
            ],
            [
             0.3333333333333333,
             "#9c179e"
            ],
            [
             0.4444444444444444,
             "#bd3786"
            ],
            [
             0.5555555555555556,
             "#d8576b"
            ],
            [
             0.6666666666666666,
             "#ed7953"
            ],
            [
             0.7777777777777778,
             "#fb9f3a"
            ],
            [
             0.8888888888888888,
             "#fdca26"
            ],
            [
             1,
             "#f0f921"
            ]
           ],
           "sequentialminus": [
            [
             0,
             "#0d0887"
            ],
            [
             0.1111111111111111,
             "#46039f"
            ],
            [
             0.2222222222222222,
             "#7201a8"
            ],
            [
             0.3333333333333333,
             "#9c179e"
            ],
            [
             0.4444444444444444,
             "#bd3786"
            ],
            [
             0.5555555555555556,
             "#d8576b"
            ],
            [
             0.6666666666666666,
             "#ed7953"
            ],
            [
             0.7777777777777778,
             "#fb9f3a"
            ],
            [
             0.8888888888888888,
             "#fdca26"
            ],
            [
             1,
             "#f0f921"
            ]
           ]
          },
          "colorway": [
           "#636efa",
           "#EF553B",
           "#00cc96",
           "#ab63fa",
           "#FFA15A",
           "#19d3f3",
           "#FF6692",
           "#B6E880",
           "#FF97FF",
           "#FECB52"
          ],
          "font": {
           "color": "#2a3f5f"
          },
          "geo": {
           "bgcolor": "white",
           "lakecolor": "white",
           "landcolor": "#E5ECF6",
           "showlakes": true,
           "showland": true,
           "subunitcolor": "white"
          },
          "hoverlabel": {
           "align": "left"
          },
          "hovermode": "closest",
          "mapbox": {
           "style": "light"
          },
          "paper_bgcolor": "white",
          "plot_bgcolor": "#E5ECF6",
          "polar": {
           "angularaxis": {
            "gridcolor": "white",
            "linecolor": "white",
            "ticks": ""
           },
           "bgcolor": "#E5ECF6",
           "radialaxis": {
            "gridcolor": "white",
            "linecolor": "white",
            "ticks": ""
           }
          },
          "scene": {
           "xaxis": {
            "backgroundcolor": "#E5ECF6",
            "gridcolor": "white",
            "gridwidth": 2,
            "linecolor": "white",
            "showbackground": true,
            "ticks": "",
            "zerolinecolor": "white"
           },
           "yaxis": {
            "backgroundcolor": "#E5ECF6",
            "gridcolor": "white",
            "gridwidth": 2,
            "linecolor": "white",
            "showbackground": true,
            "ticks": "",
            "zerolinecolor": "white"
           },
           "zaxis": {
            "backgroundcolor": "#E5ECF6",
            "gridcolor": "white",
            "gridwidth": 2,
            "linecolor": "white",
            "showbackground": true,
            "ticks": "",
            "zerolinecolor": "white"
           }
          },
          "shapedefaults": {
           "line": {
            "color": "#2a3f5f"
           }
          },
          "ternary": {
           "aaxis": {
            "gridcolor": "white",
            "linecolor": "white",
            "ticks": ""
           },
           "baxis": {
            "gridcolor": "white",
            "linecolor": "white",
            "ticks": ""
           },
           "bgcolor": "#E5ECF6",
           "caxis": {
            "gridcolor": "white",
            "linecolor": "white",
            "ticks": ""
           }
          },
          "title": {
           "x": 0.05
          },
          "xaxis": {
           "automargin": true,
           "gridcolor": "white",
           "linecolor": "white",
           "ticks": "",
           "title": {
            "standoff": 15
           },
           "zerolinecolor": "white",
           "zerolinewidth": 2
          },
          "yaxis": {
           "automargin": true,
           "gridcolor": "white",
           "linecolor": "white",
           "ticks": "",
           "title": {
            "standoff": 15
           },
           "zerolinecolor": "white",
           "zerolinewidth": 2
          }
         }
        },
        "xaxis": {
         "anchor": "y",
         "domain": [
          0,
          1
         ],
         "side": "top",
         "title": {
          "text": "Languages y_test"
         }
        },
        "yaxis": {
         "anchor": "x",
         "autorange": "reversed",
         "domain": [
          0,
          1
         ],
         "title": {
          "text": "Languages y_pred"
         }
        }
       }
      },
      "text/html": [
       "<div>                            <div id=\"6f11b27a-d910-4e0c-afb2-a0f2acd005af\" class=\"plotly-graph-div\" style=\"height:525px; width:100%;\"></div>            <script type=\"text/javascript\">                require([\"plotly\"], function(Plotly) {                    window.PLOTLYENV=window.PLOTLYENV || {};                                    if (document.getElementById(\"6f11b27a-d910-4e0c-afb2-a0f2acd005af\")) {                    Plotly.newPlot(                        \"6f11b27a-d910-4e0c-afb2-a0f2acd005af\",                        [{\"coloraxis\":\"coloraxis\",\"name\":\"0\",\"texttemplate\":\"%{z}\",\"x\":[\"ARA\",\"CHI\",\"FRE\",\"GER\",\"HIN\",\"ITA\",\"JPN\",\"KOR\",\"SPA\",\"TEL\",\"TUR\"],\"y\":[\"ARA\",\"CHI\",\"FRE\",\"GER\",\"HIN\",\"ITA\",\"JPN\",\"KOR\",\"SPA\",\"TEL\",\"TUR\"],\"z\":[[92,4,8,6,11,4,8,8,6,11,12],[4,118,4,4,5,2,12,12,3,1,10],[3,10,123,5,4,18,3,4,12,4,7],[2,1,5,134,4,10,0,2,4,3,7],[2,3,1,3,114,2,1,0,5,39,6],[7,2,10,9,5,118,1,2,6,1,3],[9,13,0,3,0,4,123,19,5,0,10],[6,22,4,7,7,6,24,102,6,2,15],[9,5,13,9,10,26,3,4,102,4,11],[5,3,3,1,35,0,1,1,2,125,3],[10,6,7,4,6,6,5,4,6,4,110]],\"type\":\"heatmap\",\"xaxis\":\"x\",\"yaxis\":\"y\",\"hovertemplate\":\"Languages y_test: %{x}<br>Languages y_pred: %{y}<br>confusion: %{z}<extra></extra>\"}],                        {\"template\":{\"data\":{\"histogram2dcontour\":[{\"type\":\"histogram2dcontour\",\"colorbar\":{\"outlinewidth\":0,\"ticks\":\"\"},\"colorscale\":[[0.0,\"#0d0887\"],[0.1111111111111111,\"#46039f\"],[0.2222222222222222,\"#7201a8\"],[0.3333333333333333,\"#9c179e\"],[0.4444444444444444,\"#bd3786\"],[0.5555555555555556,\"#d8576b\"],[0.6666666666666666,\"#ed7953\"],[0.7777777777777778,\"#fb9f3a\"],[0.8888888888888888,\"#fdca26\"],[1.0,\"#f0f921\"]]}],\"choropleth\":[{\"type\":\"choropleth\",\"colorbar\":{\"outlinewidth\":0,\"ticks\":\"\"}}],\"histogram2d\":[{\"type\":\"histogram2d\",\"colorbar\":{\"outlinewidth\":0,\"ticks\":\"\"},\"colorscale\":[[0.0,\"#0d0887\"],[0.1111111111111111,\"#46039f\"],[0.2222222222222222,\"#7201a8\"],[0.3333333333333333,\"#9c179e\"],[0.4444444444444444,\"#bd3786\"],[0.5555555555555556,\"#d8576b\"],[0.6666666666666666,\"#ed7953\"],[0.7777777777777778,\"#fb9f3a\"],[0.8888888888888888,\"#fdca26\"],[1.0,\"#f0f921\"]]}],\"heatmap\":[{\"type\":\"heatmap\",\"colorbar\":{\"outlinewidth\":0,\"ticks\":\"\"},\"colorscale\":[[0.0,\"#0d0887\"],[0.1111111111111111,\"#46039f\"],[0.2222222222222222,\"#7201a8\"],[0.3333333333333333,\"#9c179e\"],[0.4444444444444444,\"#bd3786\"],[0.5555555555555556,\"#d8576b\"],[0.6666666666666666,\"#ed7953\"],[0.7777777777777778,\"#fb9f3a\"],[0.8888888888888888,\"#fdca26\"],[1.0,\"#f0f921\"]]}],\"heatmapgl\":[{\"type\":\"heatmapgl\",\"colorbar\":{\"outlinewidth\":0,\"ticks\":\"\"},\"colorscale\":[[0.0,\"#0d0887\"],[0.1111111111111111,\"#46039f\"],[0.2222222222222222,\"#7201a8\"],[0.3333333333333333,\"#9c179e\"],[0.4444444444444444,\"#bd3786\"],[0.5555555555555556,\"#d8576b\"],[0.6666666666666666,\"#ed7953\"],[0.7777777777777778,\"#fb9f3a\"],[0.8888888888888888,\"#fdca26\"],[1.0,\"#f0f921\"]]}],\"contourcarpet\":[{\"type\":\"contourcarpet\",\"colorbar\":{\"outlinewidth\":0,\"ticks\":\"\"}}],\"contour\":[{\"type\":\"contour\",\"colorbar\":{\"outlinewidth\":0,\"ticks\":\"\"},\"colorscale\":[[0.0,\"#0d0887\"],[0.1111111111111111,\"#46039f\"],[0.2222222222222222,\"#7201a8\"],[0.3333333333333333,\"#9c179e\"],[0.4444444444444444,\"#bd3786\"],[0.5555555555555556,\"#d8576b\"],[0.6666666666666666,\"#ed7953\"],[0.7777777777777778,\"#fb9f3a\"],[0.8888888888888888,\"#fdca26\"],[1.0,\"#f0f921\"]]}],\"surface\":[{\"type\":\"surface\",\"colorbar\":{\"outlinewidth\":0,\"ticks\":\"\"},\"colorscale\":[[0.0,\"#0d0887\"],[0.1111111111111111,\"#46039f\"],[0.2222222222222222,\"#7201a8\"],[0.3333333333333333,\"#9c179e\"],[0.4444444444444444,\"#bd3786\"],[0.5555555555555556,\"#d8576b\"],[0.6666666666666666,\"#ed7953\"],[0.7777777777777778,\"#fb9f3a\"],[0.8888888888888888,\"#fdca26\"],[1.0,\"#f0f921\"]]}],\"mesh3d\":[{\"type\":\"mesh3d\",\"colorbar\":{\"outlinewidth\":0,\"ticks\":\"\"}}],\"scatter\":[{\"fillpattern\":{\"fillmode\":\"overlay\",\"size\":10,\"solidity\":0.2},\"type\":\"scatter\"}],\"parcoords\":[{\"type\":\"parcoords\",\"line\":{\"colorbar\":{\"outlinewidth\":0,\"ticks\":\"\"}}}],\"scatterpolargl\":[{\"type\":\"scatterpolargl\",\"marker\":{\"colorbar\":{\"outlinewidth\":0,\"ticks\":\"\"}}}],\"bar\":[{\"error_x\":{\"color\":\"#2a3f5f\"},\"error_y\":{\"color\":\"#2a3f5f\"},\"marker\":{\"line\":{\"color\":\"#E5ECF6\",\"width\":0.5},\"pattern\":{\"fillmode\":\"overlay\",\"size\":10,\"solidity\":0.2}},\"type\":\"bar\"}],\"scattergeo\":[{\"type\":\"scattergeo\",\"marker\":{\"colorbar\":{\"outlinewidth\":0,\"ticks\":\"\"}}}],\"scatterpolar\":[{\"type\":\"scatterpolar\",\"marker\":{\"colorbar\":{\"outlinewidth\":0,\"ticks\":\"\"}}}],\"histogram\":[{\"marker\":{\"pattern\":{\"fillmode\":\"overlay\",\"size\":10,\"solidity\":0.2}},\"type\":\"histogram\"}],\"scattergl\":[{\"type\":\"scattergl\",\"marker\":{\"colorbar\":{\"outlinewidth\":0,\"ticks\":\"\"}}}],\"scatter3d\":[{\"type\":\"scatter3d\",\"line\":{\"colorbar\":{\"outlinewidth\":0,\"ticks\":\"\"}},\"marker\":{\"colorbar\":{\"outlinewidth\":0,\"ticks\":\"\"}}}],\"scattermapbox\":[{\"type\":\"scattermapbox\",\"marker\":{\"colorbar\":{\"outlinewidth\":0,\"ticks\":\"\"}}}],\"scatterternary\":[{\"type\":\"scatterternary\",\"marker\":{\"colorbar\":{\"outlinewidth\":0,\"ticks\":\"\"}}}],\"scattercarpet\":[{\"type\":\"scattercarpet\",\"marker\":{\"colorbar\":{\"outlinewidth\":0,\"ticks\":\"\"}}}],\"carpet\":[{\"aaxis\":{\"endlinecolor\":\"#2a3f5f\",\"gridcolor\":\"white\",\"linecolor\":\"white\",\"minorgridcolor\":\"white\",\"startlinecolor\":\"#2a3f5f\"},\"baxis\":{\"endlinecolor\":\"#2a3f5f\",\"gridcolor\":\"white\",\"linecolor\":\"white\",\"minorgridcolor\":\"white\",\"startlinecolor\":\"#2a3f5f\"},\"type\":\"carpet\"}],\"table\":[{\"cells\":{\"fill\":{\"color\":\"#EBF0F8\"},\"line\":{\"color\":\"white\"}},\"header\":{\"fill\":{\"color\":\"#C8D4E3\"},\"line\":{\"color\":\"white\"}},\"type\":\"table\"}],\"barpolar\":[{\"marker\":{\"line\":{\"color\":\"#E5ECF6\",\"width\":0.5},\"pattern\":{\"fillmode\":\"overlay\",\"size\":10,\"solidity\":0.2}},\"type\":\"barpolar\"}],\"pie\":[{\"automargin\":true,\"type\":\"pie\"}]},\"layout\":{\"autotypenumbers\":\"strict\",\"colorway\":[\"#636efa\",\"#EF553B\",\"#00cc96\",\"#ab63fa\",\"#FFA15A\",\"#19d3f3\",\"#FF6692\",\"#B6E880\",\"#FF97FF\",\"#FECB52\"],\"font\":{\"color\":\"#2a3f5f\"},\"hovermode\":\"closest\",\"hoverlabel\":{\"align\":\"left\"},\"paper_bgcolor\":\"white\",\"plot_bgcolor\":\"#E5ECF6\",\"polar\":{\"bgcolor\":\"#E5ECF6\",\"angularaxis\":{\"gridcolor\":\"white\",\"linecolor\":\"white\",\"ticks\":\"\"},\"radialaxis\":{\"gridcolor\":\"white\",\"linecolor\":\"white\",\"ticks\":\"\"}},\"ternary\":{\"bgcolor\":\"#E5ECF6\",\"aaxis\":{\"gridcolor\":\"white\",\"linecolor\":\"white\",\"ticks\":\"\"},\"baxis\":{\"gridcolor\":\"white\",\"linecolor\":\"white\",\"ticks\":\"\"},\"caxis\":{\"gridcolor\":\"white\",\"linecolor\":\"white\",\"ticks\":\"\"}},\"coloraxis\":{\"colorbar\":{\"outlinewidth\":0,\"ticks\":\"\"}},\"colorscale\":{\"sequential\":[[0.0,\"#0d0887\"],[0.1111111111111111,\"#46039f\"],[0.2222222222222222,\"#7201a8\"],[0.3333333333333333,\"#9c179e\"],[0.4444444444444444,\"#bd3786\"],[0.5555555555555556,\"#d8576b\"],[0.6666666666666666,\"#ed7953\"],[0.7777777777777778,\"#fb9f3a\"],[0.8888888888888888,\"#fdca26\"],[1.0,\"#f0f921\"]],\"sequentialminus\":[[0.0,\"#0d0887\"],[0.1111111111111111,\"#46039f\"],[0.2222222222222222,\"#7201a8\"],[0.3333333333333333,\"#9c179e\"],[0.4444444444444444,\"#bd3786\"],[0.5555555555555556,\"#d8576b\"],[0.6666666666666666,\"#ed7953\"],[0.7777777777777778,\"#fb9f3a\"],[0.8888888888888888,\"#fdca26\"],[1.0,\"#f0f921\"]],\"diverging\":[[0,\"#8e0152\"],[0.1,\"#c51b7d\"],[0.2,\"#de77ae\"],[0.3,\"#f1b6da\"],[0.4,\"#fde0ef\"],[0.5,\"#f7f7f7\"],[0.6,\"#e6f5d0\"],[0.7,\"#b8e186\"],[0.8,\"#7fbc41\"],[0.9,\"#4d9221\"],[1,\"#276419\"]]},\"xaxis\":{\"gridcolor\":\"white\",\"linecolor\":\"white\",\"ticks\":\"\",\"title\":{\"standoff\":15},\"zerolinecolor\":\"white\",\"automargin\":true,\"zerolinewidth\":2},\"yaxis\":{\"gridcolor\":\"white\",\"linecolor\":\"white\",\"ticks\":\"\",\"title\":{\"standoff\":15},\"zerolinecolor\":\"white\",\"automargin\":true,\"zerolinewidth\":2},\"scene\":{\"xaxis\":{\"backgroundcolor\":\"#E5ECF6\",\"gridcolor\":\"white\",\"linecolor\":\"white\",\"showbackground\":true,\"ticks\":\"\",\"zerolinecolor\":\"white\",\"gridwidth\":2},\"yaxis\":{\"backgroundcolor\":\"#E5ECF6\",\"gridcolor\":\"white\",\"linecolor\":\"white\",\"showbackground\":true,\"ticks\":\"\",\"zerolinecolor\":\"white\",\"gridwidth\":2},\"zaxis\":{\"backgroundcolor\":\"#E5ECF6\",\"gridcolor\":\"white\",\"linecolor\":\"white\",\"showbackground\":true,\"ticks\":\"\",\"zerolinecolor\":\"white\",\"gridwidth\":2}},\"shapedefaults\":{\"line\":{\"color\":\"#2a3f5f\"}},\"annotationdefaults\":{\"arrowcolor\":\"#2a3f5f\",\"arrowhead\":0,\"arrowwidth\":1},\"geo\":{\"bgcolor\":\"white\",\"landcolor\":\"#E5ECF6\",\"subunitcolor\":\"white\",\"showland\":true,\"showlakes\":true,\"lakecolor\":\"white\"},\"title\":{\"x\":0.05},\"mapbox\":{\"style\":\"light\"}}},\"xaxis\":{\"anchor\":\"y\",\"domain\":[0.0,1.0],\"title\":{\"text\":\"Languages y_test\"},\"side\":\"top\"},\"yaxis\":{\"anchor\":\"x\",\"domain\":[0.0,1.0],\"autorange\":\"reversed\",\"title\":{\"text\":\"Languages y_pred\"}},\"coloraxis\":{\"colorbar\":{\"title\":{\"text\":\"confusion\"}},\"colorscale\":[[0.0,\"#0d0887\"],[0.1111111111111111,\"#46039f\"],[0.2222222222222222,\"#7201a8\"],[0.3333333333333333,\"#9c179e\"],[0.4444444444444444,\"#bd3786\"],[0.5555555555555556,\"#d8576b\"],[0.6666666666666666,\"#ed7953\"],[0.7777777777777778,\"#fb9f3a\"],[0.8888888888888888,\"#fdca26\"],[1.0,\"#f0f921\"]]},\"margin\":{\"t\":60}},                        {\"responsive\": true}                    ).then(function(){\n",
       "                            \n",
       "var gd = document.getElementById('6f11b27a-d910-4e0c-afb2-a0f2acd005af');\n",
       "var x = new MutationObserver(function (mutations, observer) {{\n",
       "        var display = window.getComputedStyle(gd).display;\n",
       "        if (!display || display === 'none') {{\n",
       "            console.log([gd, 'removed!']);\n",
       "            Plotly.purge(gd);\n",
       "            observer.disconnect();\n",
       "        }}\n",
       "}});\n",
       "\n",
       "// Listen for the removal of the full notebook cells\n",
       "var notebookContainer = gd.closest('#notebook-container');\n",
       "if (notebookContainer) {{\n",
       "    x.observe(notebookContainer, {childList: true});\n",
       "}}\n",
       "\n",
       "// Listen for the clearing of the current output cell\n",
       "var outputEl = gd.closest('.output');\n",
       "if (outputEl) {{\n",
       "    x.observe(outputEl, {childList: true});\n",
       "}}\n",
       "\n",
       "                        })                };                });            </script>        </div>"
      ]
     },
     "metadata": {},
     "output_type": "display_data"
    },
    {
     "name": "stdout",
     "output_type": "stream",
     "text": [
      "\n",
      "Accuracy  0.6368686868686869\n",
      "\n",
      "- Precision - macro\n",
      "precision by language : \n",
      "('ARA', 0.6174496644295302)\n",
      " ('CHI', 0.6310160427807486)\n",
      " ('FRE', 0.6910112359550562)\n",
      " ('GER', 0.7243243243243244)\n",
      " ('HIN', 0.5671641791044776)\n",
      " ('ITA', 0.6020408163265306)\n",
      " ('JPN', 0.6795580110497238)\n",
      " ('KOR', 0.6455696202531646)\n",
      " ('SPA', 0.6496815286624203)\n",
      " ('TEL', 0.6443298969072165)\n",
      " ('TUR', 0.5670103092783505)\n",
      "\n",
      "precision score  0.6381050571883221\n",
      "\n",
      "- Recall - macro\n",
      "recall by language  \n",
      "('ARA', 0.5411764705882353)\n",
      " ('CHI', 0.6742857142857143)\n",
      " ('FRE', 0.6373056994818653)\n",
      " ('GER', 0.7790697674418605)\n",
      " ('HIN', 0.6477272727272727)\n",
      " ('ITA', 0.7195121951219512)\n",
      " ('JPN', 0.6612903225806451)\n",
      " ('KOR', 0.5074626865671642)\n",
      " ('SPA', 0.5204081632653061)\n",
      " ('TEL', 0.6983240223463687)\n",
      " ('TUR', 0.6547619047619048)\n",
      "\n",
      "recall score  0.6401203835607535\n",
      "\n",
      "- F1 - macro\n",
      "f1 by language  \n",
      "('ARA', 0.5768025078369906)\n",
      " ('CHI', 0.6519337016574586)\n",
      " ('FRE', 0.6630727762803235)\n",
      " ('GER', 0.7507002801120449)\n",
      " ('HIN', 0.6047745358090185)\n",
      " ('ITA', 0.6555555555555556)\n",
      " ('JPN', 0.670299727520436)\n",
      " ('KOR', 0.5682451253481895)\n",
      " ('SPA', 0.5779036827195467)\n",
      " ('TEL', 0.6702412868632708)\n",
      " ('TUR', 0.6077348066298343)\n",
      "\n",
      "f1 score  0.6361149078484245\n"
     ]
    }
   ],
   "source": [
    "print(\"Score logistic regression with TF-IDF after cleaning frequent stop words :\", logisticRegr.score(tf_X_test, test_category))\n",
    "evaluation(test_category, logisticRegr_predict)\n"
   ]
  },
  {
   "cell_type": "markdown",
   "id": "f098f1e7",
   "metadata": {},
   "source": [
    "## Remarque (avec / sans stop words fréquents)\n",
    "La suppression de quelques stop words a engendré une perte légère des performances globales : 0.646 -> 0.636\n",
    "\n",
    "En effet, on remarque une perte du rappel sur la majorité des langues.\n",
    "Excepté TEL et TUR où le gain est négligeable"
   ]
  },
  {
   "cell_type": "markdown",
   "id": "7748ad5f",
   "metadata": {},
   "source": [
    "### Analyse des stops word :"
   ]
  },
  {
   "cell_type": "code",
   "execution_count": 62,
   "id": "dd13d0cd",
   "metadata": {},
   "outputs": [
    {
     "name": "stdout",
     "output_type": "stream",
     "text": [
      "number of all stop words to be deleted 179\n"
     ]
    },
    {
     "data": {
      "text/html": [
       "<div>\n",
       "<style scoped>\n",
       "    .dataframe tbody tr th:only-of-type {\n",
       "        vertical-align: middle;\n",
       "    }\n",
       "\n",
       "    .dataframe tbody tr th {\n",
       "        vertical-align: top;\n",
       "    }\n",
       "\n",
       "    .dataframe thead th {\n",
       "        text-align: right;\n",
       "    }\n",
       "</style>\n",
       "<table border=\"1\" class=\"dataframe\">\n",
       "  <thead>\n",
       "    <tr style=\"text-align: right;\">\n",
       "      <th></th>\n",
       "      <th>text</th>\n",
       "      <th>category</th>\n",
       "      <th>cleaned_text</th>\n",
       "      <th>cleaned_text_filtered_sw</th>\n",
       "      <th>cleaned_text_all_sw</th>\n",
       "    </tr>\n",
       "  </thead>\n",
       "  <tbody>\n",
       "    <tr>\n",
       "      <th>0</th>\n",
       "      <td>IThe importance and popularity of travelling i...</td>\n",
       "      <td>GER</td>\n",
       "      <td>ithe importance and popularity of travelling i...</td>\n",
       "      <td>ithe importance and popularity of travelling i...</td>\n",
       "      <td>ithe importance popularity travelling still ra...</td>\n",
       "    </tr>\n",
       "    <tr>\n",
       "      <th>1</th>\n",
       "      <td>It is an important decision , how to plan your...</td>\n",
       "      <td>TUR</td>\n",
       "      <td>it is an important decision how to plan your s...</td>\n",
       "      <td>it is an important decision how to plan your s...</td>\n",
       "      <td>important decision plan syllabus students pref...</td>\n",
       "    </tr>\n",
       "    <tr>\n",
       "      <th>2</th>\n",
       "      <td>Some people believe that young people can enjo...</td>\n",
       "      <td>CHI</td>\n",
       "      <td>some people believe that young people enjoy li...</td>\n",
       "      <td>some people believe that young people enjoy li...</td>\n",
       "      <td>people believe young people enjoy life older p...</td>\n",
       "    </tr>\n",
       "    <tr>\n",
       "      <th>3</th>\n",
       "      <td>Travelling is usually considered as good recre...</td>\n",
       "      <td>TEL</td>\n",
       "      <td>travelling is usually considered good recreati...</td>\n",
       "      <td>travelling is usually considered good recreati...</td>\n",
       "      <td>travelling usually considered good recreation ...</td>\n",
       "    </tr>\n",
       "    <tr>\n",
       "      <th>4</th>\n",
       "      <td>i agree that . Life is a person live period of...</td>\n",
       "      <td>ARA</td>\n",
       "      <td>agree that life is person live period of time ...</td>\n",
       "      <td>agree that life is person live period of time ...</td>\n",
       "      <td>agree life person live period time people beli...</td>\n",
       "    </tr>\n",
       "    <tr>\n",
       "      <th>5</th>\n",
       "      <td>In my opinion , travel in group with a tour gu...</td>\n",
       "      <td>SPA</td>\n",
       "      <td>in my opinion travel in group tour guide is no...</td>\n",
       "      <td>in my opinion travel in group tour guide is no...</td>\n",
       "      <td>opinion travel group tour guide good way trave...</td>\n",
       "    </tr>\n",
       "    <tr>\n",
       "      <th>6</th>\n",
       "      <td>I thing the statement '' Young people nowadays...</td>\n",
       "      <td>GER</td>\n",
       "      <td>thing the statement young people nowadays not ...</td>\n",
       "      <td>thing the statement young people nowadays not ...</td>\n",
       "      <td>thing statement young people nowadays give eno...</td>\n",
       "    </tr>\n",
       "    <tr>\n",
       "      <th>7</th>\n",
       "      <td>Whether or not young people enjoy life more th...</td>\n",
       "      <td>GER</td>\n",
       "      <td>whether not young people enjoy life than older...</td>\n",
       "      <td>whether not young people enjoy life than older...</td>\n",
       "      <td>whether young people enjoy life older people i...</td>\n",
       "    </tr>\n",
       "    <tr>\n",
       "      <th>8</th>\n",
       "      <td>In the era of science and technology , the peo...</td>\n",
       "      <td>HIN</td>\n",
       "      <td>in the era of science and technology the peopl...</td>\n",
       "      <td>in the era of science and technology the peopl...</td>\n",
       "      <td>era science technology people generally pay at...</td>\n",
       "    </tr>\n",
       "    <tr>\n",
       "      <th>9</th>\n",
       "      <td>I agree with this statement . I think that in ...</td>\n",
       "      <td>JPN</td>\n",
       "      <td>agree statement think that in twenty years the...</td>\n",
       "      <td>agree statement think that in twenty years the...</td>\n",
       "      <td>agree statement think twenty years fewer cars ...</td>\n",
       "    </tr>\n",
       "  </tbody>\n",
       "</table>\n",
       "</div>"
      ],
      "text/plain": [
       "                                                text category  \\\n",
       "0  IThe importance and popularity of travelling i...      GER   \n",
       "1  It is an important decision , how to plan your...      TUR   \n",
       "2  Some people believe that young people can enjo...      CHI   \n",
       "3  Travelling is usually considered as good recre...      TEL   \n",
       "4  i agree that . Life is a person live period of...      ARA   \n",
       "5  In my opinion , travel in group with a tour gu...      SPA   \n",
       "6  I thing the statement '' Young people nowadays...      GER   \n",
       "7  Whether or not young people enjoy life more th...      GER   \n",
       "8  In the era of science and technology , the peo...      HIN   \n",
       "9  I agree with this statement . I think that in ...      JPN   \n",
       "\n",
       "                                        cleaned_text  \\\n",
       "0  ithe importance and popularity of travelling i...   \n",
       "1  it is an important decision how to plan your s...   \n",
       "2  some people believe that young people enjoy li...   \n",
       "3  travelling is usually considered good recreati...   \n",
       "4  agree that life is person live period of time ...   \n",
       "5  in my opinion travel in group tour guide is no...   \n",
       "6  thing the statement young people nowadays not ...   \n",
       "7  whether not young people enjoy life than older...   \n",
       "8  in the era of science and technology the peopl...   \n",
       "9  agree statement think that in twenty years the...   \n",
       "\n",
       "                            cleaned_text_filtered_sw  \\\n",
       "0  ithe importance and popularity of travelling i...   \n",
       "1  it is an important decision how to plan your s...   \n",
       "2  some people believe that young people enjoy li...   \n",
       "3  travelling is usually considered good recreati...   \n",
       "4  agree that life is person live period of time ...   \n",
       "5  in my opinion travel in group tour guide is no...   \n",
       "6  thing the statement young people nowadays not ...   \n",
       "7  whether not young people enjoy life than older...   \n",
       "8  in the era of science and technology the peopl...   \n",
       "9  agree statement think that in twenty years the...   \n",
       "\n",
       "                                 cleaned_text_all_sw  \n",
       "0  ithe importance popularity travelling still ra...  \n",
       "1  important decision plan syllabus students pref...  \n",
       "2  people believe young people enjoy life older p...  \n",
       "3  travelling usually considered good recreation ...  \n",
       "4  agree life person live period time people beli...  \n",
       "5  opinion travel group tour guide good way trave...  \n",
       "6  thing statement young people nowadays give eno...  \n",
       "7  whether young people enjoy life older people i...  \n",
       "8  era science technology people generally pay at...  \n",
       "9  agree statement think twenty years fewer cars ...  "
      ]
     },
     "execution_count": 62,
     "metadata": {},
     "output_type": "execute_result"
    }
   ],
   "source": [
    "import nltk\n",
    "from nltk.corpus import stopwords\n",
    "\n",
    "stops = set(stopwords.words('english'))\n",
    "print(\"number of all stop words to be deleted\", len(stops))\n",
    "\n",
    "df['cleaned_text_all_sw'] = df['text'].apply(lambda x: clean_text_(x, stops))\n",
    "df.head(10)"
   ]
  },
  {
   "cell_type": "code",
   "execution_count": 64,
   "id": "37d6ffbc",
   "metadata": {},
   "outputs": [
    {
     "name": "stdout",
     "output_type": "stream",
     "text": [
      "1980\n",
      "Score logistic regression with TF-IDF after cleaning all stop words : 0.6388888888888888\n",
      "\n",
      "-- EVALUATION --\n",
      "\n"
     ]
    },
    {
     "name": "stderr",
     "output_type": "stream",
     "text": [
      "/home/clinton/anaconda3/lib/python3.8/site-packages/sklearn/linear_model/_logistic.py:814: ConvergenceWarning:\n",
      "\n",
      "lbfgs failed to converge (status=1):\n",
      "STOP: TOTAL NO. of ITERATIONS REACHED LIMIT.\n",
      "\n",
      "Increase the number of iterations (max_iter) or scale the data as shown in:\n",
      "    https://scikit-learn.org/stable/modules/preprocessing.html\n",
      "Please also refer to the documentation for alternative solver options:\n",
      "    https://scikit-learn.org/stable/modules/linear_model.html#logistic-regression\n",
      "\n"
     ]
    },
    {
     "data": {
      "application/vnd.plotly.v1+json": {
       "config": {
        "plotlyServerURL": "https://plot.ly"
       },
       "data": [
        {
         "coloraxis": "coloraxis",
         "hovertemplate": "Languages y_test: %{x}<br>Languages y_pred: %{y}<br>confusion: %{z}<extra></extra>",
         "name": "0",
         "texttemplate": "%{z}",
         "type": "heatmap",
         "x": [
          "ARA",
          "CHI",
          "FRE",
          "GER",
          "HIN",
          "ITA",
          "JPN",
          "KOR",
          "SPA",
          "TEL",
          "TUR"
         ],
         "xaxis": "x",
         "y": [
          "ARA",
          "CHI",
          "FRE",
          "GER",
          "HIN",
          "ITA",
          "JPN",
          "KOR",
          "SPA",
          "TEL",
          "TUR"
         ],
         "yaxis": "y",
         "z": [
          [
           93,
           5,
           9,
           6,
           12,
           4,
           8,
           7,
           5,
           10,
           11
          ],
          [
           6,
           116,
           4,
           4,
           6,
           2,
           11,
           11,
           4,
           2,
           9
          ],
          [
           3,
           9,
           122,
           5,
           4,
           19,
           3,
           4,
           12,
           4,
           8
          ],
          [
           1,
           1,
           5,
           138,
           4,
           8,
           0,
           2,
           4,
           2,
           7
          ],
          [
           2,
           3,
           1,
           3,
           114,
           2,
           1,
           0,
           6,
           39,
           5
          ],
          [
           5,
           3,
           8,
           9,
           6,
           118,
           1,
           2,
           8,
           1,
           3
          ],
          [
           8,
           11,
           1,
           3,
           0,
           7,
           124,
           21,
           3,
           0,
           8
          ],
          [
           7,
           24,
           4,
           7,
           7,
           6,
           22,
           102,
           5,
           2,
           15
          ],
          [
           7,
           5,
           13,
           10,
           10,
           25,
           3,
           3,
           104,
           4,
           12
          ],
          [
           5,
           3,
           3,
           1,
           34,
           0,
           1,
           1,
           2,
           127,
           2
          ],
          [
           11,
           5,
           5,
           5,
           7,
           7,
           3,
           8,
           5,
           5,
           107
          ]
         ]
        }
       ],
       "layout": {
        "coloraxis": {
         "colorbar": {
          "title": {
           "text": "confusion"
          }
         },
         "colorscale": [
          [
           0,
           "#0d0887"
          ],
          [
           0.1111111111111111,
           "#46039f"
          ],
          [
           0.2222222222222222,
           "#7201a8"
          ],
          [
           0.3333333333333333,
           "#9c179e"
          ],
          [
           0.4444444444444444,
           "#bd3786"
          ],
          [
           0.5555555555555556,
           "#d8576b"
          ],
          [
           0.6666666666666666,
           "#ed7953"
          ],
          [
           0.7777777777777778,
           "#fb9f3a"
          ],
          [
           0.8888888888888888,
           "#fdca26"
          ],
          [
           1,
           "#f0f921"
          ]
         ]
        },
        "margin": {
         "t": 60
        },
        "template": {
         "data": {
          "bar": [
           {
            "error_x": {
             "color": "#2a3f5f"
            },
            "error_y": {
             "color": "#2a3f5f"
            },
            "marker": {
             "line": {
              "color": "#E5ECF6",
              "width": 0.5
             },
             "pattern": {
              "fillmode": "overlay",
              "size": 10,
              "solidity": 0.2
             }
            },
            "type": "bar"
           }
          ],
          "barpolar": [
           {
            "marker": {
             "line": {
              "color": "#E5ECF6",
              "width": 0.5
             },
             "pattern": {
              "fillmode": "overlay",
              "size": 10,
              "solidity": 0.2
             }
            },
            "type": "barpolar"
           }
          ],
          "carpet": [
           {
            "aaxis": {
             "endlinecolor": "#2a3f5f",
             "gridcolor": "white",
             "linecolor": "white",
             "minorgridcolor": "white",
             "startlinecolor": "#2a3f5f"
            },
            "baxis": {
             "endlinecolor": "#2a3f5f",
             "gridcolor": "white",
             "linecolor": "white",
             "minorgridcolor": "white",
             "startlinecolor": "#2a3f5f"
            },
            "type": "carpet"
           }
          ],
          "choropleth": [
           {
            "colorbar": {
             "outlinewidth": 0,
             "ticks": ""
            },
            "type": "choropleth"
           }
          ],
          "contour": [
           {
            "colorbar": {
             "outlinewidth": 0,
             "ticks": ""
            },
            "colorscale": [
             [
              0,
              "#0d0887"
             ],
             [
              0.1111111111111111,
              "#46039f"
             ],
             [
              0.2222222222222222,
              "#7201a8"
             ],
             [
              0.3333333333333333,
              "#9c179e"
             ],
             [
              0.4444444444444444,
              "#bd3786"
             ],
             [
              0.5555555555555556,
              "#d8576b"
             ],
             [
              0.6666666666666666,
              "#ed7953"
             ],
             [
              0.7777777777777778,
              "#fb9f3a"
             ],
             [
              0.8888888888888888,
              "#fdca26"
             ],
             [
              1,
              "#f0f921"
             ]
            ],
            "type": "contour"
           }
          ],
          "contourcarpet": [
           {
            "colorbar": {
             "outlinewidth": 0,
             "ticks": ""
            },
            "type": "contourcarpet"
           }
          ],
          "heatmap": [
           {
            "colorbar": {
             "outlinewidth": 0,
             "ticks": ""
            },
            "colorscale": [
             [
              0,
              "#0d0887"
             ],
             [
              0.1111111111111111,
              "#46039f"
             ],
             [
              0.2222222222222222,
              "#7201a8"
             ],
             [
              0.3333333333333333,
              "#9c179e"
             ],
             [
              0.4444444444444444,
              "#bd3786"
             ],
             [
              0.5555555555555556,
              "#d8576b"
             ],
             [
              0.6666666666666666,
              "#ed7953"
             ],
             [
              0.7777777777777778,
              "#fb9f3a"
             ],
             [
              0.8888888888888888,
              "#fdca26"
             ],
             [
              1,
              "#f0f921"
             ]
            ],
            "type": "heatmap"
           }
          ],
          "heatmapgl": [
           {
            "colorbar": {
             "outlinewidth": 0,
             "ticks": ""
            },
            "colorscale": [
             [
              0,
              "#0d0887"
             ],
             [
              0.1111111111111111,
              "#46039f"
             ],
             [
              0.2222222222222222,
              "#7201a8"
             ],
             [
              0.3333333333333333,
              "#9c179e"
             ],
             [
              0.4444444444444444,
              "#bd3786"
             ],
             [
              0.5555555555555556,
              "#d8576b"
             ],
             [
              0.6666666666666666,
              "#ed7953"
             ],
             [
              0.7777777777777778,
              "#fb9f3a"
             ],
             [
              0.8888888888888888,
              "#fdca26"
             ],
             [
              1,
              "#f0f921"
             ]
            ],
            "type": "heatmapgl"
           }
          ],
          "histogram": [
           {
            "marker": {
             "pattern": {
              "fillmode": "overlay",
              "size": 10,
              "solidity": 0.2
             }
            },
            "type": "histogram"
           }
          ],
          "histogram2d": [
           {
            "colorbar": {
             "outlinewidth": 0,
             "ticks": ""
            },
            "colorscale": [
             [
              0,
              "#0d0887"
             ],
             [
              0.1111111111111111,
              "#46039f"
             ],
             [
              0.2222222222222222,
              "#7201a8"
             ],
             [
              0.3333333333333333,
              "#9c179e"
             ],
             [
              0.4444444444444444,
              "#bd3786"
             ],
             [
              0.5555555555555556,
              "#d8576b"
             ],
             [
              0.6666666666666666,
              "#ed7953"
             ],
             [
              0.7777777777777778,
              "#fb9f3a"
             ],
             [
              0.8888888888888888,
              "#fdca26"
             ],
             [
              1,
              "#f0f921"
             ]
            ],
            "type": "histogram2d"
           }
          ],
          "histogram2dcontour": [
           {
            "colorbar": {
             "outlinewidth": 0,
             "ticks": ""
            },
            "colorscale": [
             [
              0,
              "#0d0887"
             ],
             [
              0.1111111111111111,
              "#46039f"
             ],
             [
              0.2222222222222222,
              "#7201a8"
             ],
             [
              0.3333333333333333,
              "#9c179e"
             ],
             [
              0.4444444444444444,
              "#bd3786"
             ],
             [
              0.5555555555555556,
              "#d8576b"
             ],
             [
              0.6666666666666666,
              "#ed7953"
             ],
             [
              0.7777777777777778,
              "#fb9f3a"
             ],
             [
              0.8888888888888888,
              "#fdca26"
             ],
             [
              1,
              "#f0f921"
             ]
            ],
            "type": "histogram2dcontour"
           }
          ],
          "mesh3d": [
           {
            "colorbar": {
             "outlinewidth": 0,
             "ticks": ""
            },
            "type": "mesh3d"
           }
          ],
          "parcoords": [
           {
            "line": {
             "colorbar": {
              "outlinewidth": 0,
              "ticks": ""
             }
            },
            "type": "parcoords"
           }
          ],
          "pie": [
           {
            "automargin": true,
            "type": "pie"
           }
          ],
          "scatter": [
           {
            "fillpattern": {
             "fillmode": "overlay",
             "size": 10,
             "solidity": 0.2
            },
            "type": "scatter"
           }
          ],
          "scatter3d": [
           {
            "line": {
             "colorbar": {
              "outlinewidth": 0,
              "ticks": ""
             }
            },
            "marker": {
             "colorbar": {
              "outlinewidth": 0,
              "ticks": ""
             }
            },
            "type": "scatter3d"
           }
          ],
          "scattercarpet": [
           {
            "marker": {
             "colorbar": {
              "outlinewidth": 0,
              "ticks": ""
             }
            },
            "type": "scattercarpet"
           }
          ],
          "scattergeo": [
           {
            "marker": {
             "colorbar": {
              "outlinewidth": 0,
              "ticks": ""
             }
            },
            "type": "scattergeo"
           }
          ],
          "scattergl": [
           {
            "marker": {
             "colorbar": {
              "outlinewidth": 0,
              "ticks": ""
             }
            },
            "type": "scattergl"
           }
          ],
          "scattermapbox": [
           {
            "marker": {
             "colorbar": {
              "outlinewidth": 0,
              "ticks": ""
             }
            },
            "type": "scattermapbox"
           }
          ],
          "scatterpolar": [
           {
            "marker": {
             "colorbar": {
              "outlinewidth": 0,
              "ticks": ""
             }
            },
            "type": "scatterpolar"
           }
          ],
          "scatterpolargl": [
           {
            "marker": {
             "colorbar": {
              "outlinewidth": 0,
              "ticks": ""
             }
            },
            "type": "scatterpolargl"
           }
          ],
          "scatterternary": [
           {
            "marker": {
             "colorbar": {
              "outlinewidth": 0,
              "ticks": ""
             }
            },
            "type": "scatterternary"
           }
          ],
          "surface": [
           {
            "colorbar": {
             "outlinewidth": 0,
             "ticks": ""
            },
            "colorscale": [
             [
              0,
              "#0d0887"
             ],
             [
              0.1111111111111111,
              "#46039f"
             ],
             [
              0.2222222222222222,
              "#7201a8"
             ],
             [
              0.3333333333333333,
              "#9c179e"
             ],
             [
              0.4444444444444444,
              "#bd3786"
             ],
             [
              0.5555555555555556,
              "#d8576b"
             ],
             [
              0.6666666666666666,
              "#ed7953"
             ],
             [
              0.7777777777777778,
              "#fb9f3a"
             ],
             [
              0.8888888888888888,
              "#fdca26"
             ],
             [
              1,
              "#f0f921"
             ]
            ],
            "type": "surface"
           }
          ],
          "table": [
           {
            "cells": {
             "fill": {
              "color": "#EBF0F8"
             },
             "line": {
              "color": "white"
             }
            },
            "header": {
             "fill": {
              "color": "#C8D4E3"
             },
             "line": {
              "color": "white"
             }
            },
            "type": "table"
           }
          ]
         },
         "layout": {
          "annotationdefaults": {
           "arrowcolor": "#2a3f5f",
           "arrowhead": 0,
           "arrowwidth": 1
          },
          "autotypenumbers": "strict",
          "coloraxis": {
           "colorbar": {
            "outlinewidth": 0,
            "ticks": ""
           }
          },
          "colorscale": {
           "diverging": [
            [
             0,
             "#8e0152"
            ],
            [
             0.1,
             "#c51b7d"
            ],
            [
             0.2,
             "#de77ae"
            ],
            [
             0.3,
             "#f1b6da"
            ],
            [
             0.4,
             "#fde0ef"
            ],
            [
             0.5,
             "#f7f7f7"
            ],
            [
             0.6,
             "#e6f5d0"
            ],
            [
             0.7,
             "#b8e186"
            ],
            [
             0.8,
             "#7fbc41"
            ],
            [
             0.9,
             "#4d9221"
            ],
            [
             1,
             "#276419"
            ]
           ],
           "sequential": [
            [
             0,
             "#0d0887"
            ],
            [
             0.1111111111111111,
             "#46039f"
            ],
            [
             0.2222222222222222,
             "#7201a8"
            ],
            [
             0.3333333333333333,
             "#9c179e"
            ],
            [
             0.4444444444444444,
             "#bd3786"
            ],
            [
             0.5555555555555556,
             "#d8576b"
            ],
            [
             0.6666666666666666,
             "#ed7953"
            ],
            [
             0.7777777777777778,
             "#fb9f3a"
            ],
            [
             0.8888888888888888,
             "#fdca26"
            ],
            [
             1,
             "#f0f921"
            ]
           ],
           "sequentialminus": [
            [
             0,
             "#0d0887"
            ],
            [
             0.1111111111111111,
             "#46039f"
            ],
            [
             0.2222222222222222,
             "#7201a8"
            ],
            [
             0.3333333333333333,
             "#9c179e"
            ],
            [
             0.4444444444444444,
             "#bd3786"
            ],
            [
             0.5555555555555556,
             "#d8576b"
            ],
            [
             0.6666666666666666,
             "#ed7953"
            ],
            [
             0.7777777777777778,
             "#fb9f3a"
            ],
            [
             0.8888888888888888,
             "#fdca26"
            ],
            [
             1,
             "#f0f921"
            ]
           ]
          },
          "colorway": [
           "#636efa",
           "#EF553B",
           "#00cc96",
           "#ab63fa",
           "#FFA15A",
           "#19d3f3",
           "#FF6692",
           "#B6E880",
           "#FF97FF",
           "#FECB52"
          ],
          "font": {
           "color": "#2a3f5f"
          },
          "geo": {
           "bgcolor": "white",
           "lakecolor": "white",
           "landcolor": "#E5ECF6",
           "showlakes": true,
           "showland": true,
           "subunitcolor": "white"
          },
          "hoverlabel": {
           "align": "left"
          },
          "hovermode": "closest",
          "mapbox": {
           "style": "light"
          },
          "paper_bgcolor": "white",
          "plot_bgcolor": "#E5ECF6",
          "polar": {
           "angularaxis": {
            "gridcolor": "white",
            "linecolor": "white",
            "ticks": ""
           },
           "bgcolor": "#E5ECF6",
           "radialaxis": {
            "gridcolor": "white",
            "linecolor": "white",
            "ticks": ""
           }
          },
          "scene": {
           "xaxis": {
            "backgroundcolor": "#E5ECF6",
            "gridcolor": "white",
            "gridwidth": 2,
            "linecolor": "white",
            "showbackground": true,
            "ticks": "",
            "zerolinecolor": "white"
           },
           "yaxis": {
            "backgroundcolor": "#E5ECF6",
            "gridcolor": "white",
            "gridwidth": 2,
            "linecolor": "white",
            "showbackground": true,
            "ticks": "",
            "zerolinecolor": "white"
           },
           "zaxis": {
            "backgroundcolor": "#E5ECF6",
            "gridcolor": "white",
            "gridwidth": 2,
            "linecolor": "white",
            "showbackground": true,
            "ticks": "",
            "zerolinecolor": "white"
           }
          },
          "shapedefaults": {
           "line": {
            "color": "#2a3f5f"
           }
          },
          "ternary": {
           "aaxis": {
            "gridcolor": "white",
            "linecolor": "white",
            "ticks": ""
           },
           "baxis": {
            "gridcolor": "white",
            "linecolor": "white",
            "ticks": ""
           },
           "bgcolor": "#E5ECF6",
           "caxis": {
            "gridcolor": "white",
            "linecolor": "white",
            "ticks": ""
           }
          },
          "title": {
           "x": 0.05
          },
          "xaxis": {
           "automargin": true,
           "gridcolor": "white",
           "linecolor": "white",
           "ticks": "",
           "title": {
            "standoff": 15
           },
           "zerolinecolor": "white",
           "zerolinewidth": 2
          },
          "yaxis": {
           "automargin": true,
           "gridcolor": "white",
           "linecolor": "white",
           "ticks": "",
           "title": {
            "standoff": 15
           },
           "zerolinecolor": "white",
           "zerolinewidth": 2
          }
         }
        },
        "xaxis": {
         "anchor": "y",
         "domain": [
          0,
          1
         ],
         "side": "top",
         "title": {
          "text": "Languages y_test"
         }
        },
        "yaxis": {
         "anchor": "x",
         "autorange": "reversed",
         "domain": [
          0,
          1
         ],
         "title": {
          "text": "Languages y_pred"
         }
        }
       }
      },
      "text/html": [
       "<div>                            <div id=\"3cbda651-68de-47d4-b4cc-edfc765a1a22\" class=\"plotly-graph-div\" style=\"height:525px; width:100%;\"></div>            <script type=\"text/javascript\">                require([\"plotly\"], function(Plotly) {                    window.PLOTLYENV=window.PLOTLYENV || {};                                    if (document.getElementById(\"3cbda651-68de-47d4-b4cc-edfc765a1a22\")) {                    Plotly.newPlot(                        \"3cbda651-68de-47d4-b4cc-edfc765a1a22\",                        [{\"coloraxis\":\"coloraxis\",\"name\":\"0\",\"texttemplate\":\"%{z}\",\"x\":[\"ARA\",\"CHI\",\"FRE\",\"GER\",\"HIN\",\"ITA\",\"JPN\",\"KOR\",\"SPA\",\"TEL\",\"TUR\"],\"y\":[\"ARA\",\"CHI\",\"FRE\",\"GER\",\"HIN\",\"ITA\",\"JPN\",\"KOR\",\"SPA\",\"TEL\",\"TUR\"],\"z\":[[93,5,9,6,12,4,8,7,5,10,11],[6,116,4,4,6,2,11,11,4,2,9],[3,9,122,5,4,19,3,4,12,4,8],[1,1,5,138,4,8,0,2,4,2,7],[2,3,1,3,114,2,1,0,6,39,5],[5,3,8,9,6,118,1,2,8,1,3],[8,11,1,3,0,7,124,21,3,0,8],[7,24,4,7,7,6,22,102,5,2,15],[7,5,13,10,10,25,3,3,104,4,12],[5,3,3,1,34,0,1,1,2,127,2],[11,5,5,5,7,7,3,8,5,5,107]],\"type\":\"heatmap\",\"xaxis\":\"x\",\"yaxis\":\"y\",\"hovertemplate\":\"Languages y_test: %{x}<br>Languages y_pred: %{y}<br>confusion: %{z}<extra></extra>\"}],                        {\"template\":{\"data\":{\"histogram2dcontour\":[{\"type\":\"histogram2dcontour\",\"colorbar\":{\"outlinewidth\":0,\"ticks\":\"\"},\"colorscale\":[[0.0,\"#0d0887\"],[0.1111111111111111,\"#46039f\"],[0.2222222222222222,\"#7201a8\"],[0.3333333333333333,\"#9c179e\"],[0.4444444444444444,\"#bd3786\"],[0.5555555555555556,\"#d8576b\"],[0.6666666666666666,\"#ed7953\"],[0.7777777777777778,\"#fb9f3a\"],[0.8888888888888888,\"#fdca26\"],[1.0,\"#f0f921\"]]}],\"choropleth\":[{\"type\":\"choropleth\",\"colorbar\":{\"outlinewidth\":0,\"ticks\":\"\"}}],\"histogram2d\":[{\"type\":\"histogram2d\",\"colorbar\":{\"outlinewidth\":0,\"ticks\":\"\"},\"colorscale\":[[0.0,\"#0d0887\"],[0.1111111111111111,\"#46039f\"],[0.2222222222222222,\"#7201a8\"],[0.3333333333333333,\"#9c179e\"],[0.4444444444444444,\"#bd3786\"],[0.5555555555555556,\"#d8576b\"],[0.6666666666666666,\"#ed7953\"],[0.7777777777777778,\"#fb9f3a\"],[0.8888888888888888,\"#fdca26\"],[1.0,\"#f0f921\"]]}],\"heatmap\":[{\"type\":\"heatmap\",\"colorbar\":{\"outlinewidth\":0,\"ticks\":\"\"},\"colorscale\":[[0.0,\"#0d0887\"],[0.1111111111111111,\"#46039f\"],[0.2222222222222222,\"#7201a8\"],[0.3333333333333333,\"#9c179e\"],[0.4444444444444444,\"#bd3786\"],[0.5555555555555556,\"#d8576b\"],[0.6666666666666666,\"#ed7953\"],[0.7777777777777778,\"#fb9f3a\"],[0.8888888888888888,\"#fdca26\"],[1.0,\"#f0f921\"]]}],\"heatmapgl\":[{\"type\":\"heatmapgl\",\"colorbar\":{\"outlinewidth\":0,\"ticks\":\"\"},\"colorscale\":[[0.0,\"#0d0887\"],[0.1111111111111111,\"#46039f\"],[0.2222222222222222,\"#7201a8\"],[0.3333333333333333,\"#9c179e\"],[0.4444444444444444,\"#bd3786\"],[0.5555555555555556,\"#d8576b\"],[0.6666666666666666,\"#ed7953\"],[0.7777777777777778,\"#fb9f3a\"],[0.8888888888888888,\"#fdca26\"],[1.0,\"#f0f921\"]]}],\"contourcarpet\":[{\"type\":\"contourcarpet\",\"colorbar\":{\"outlinewidth\":0,\"ticks\":\"\"}}],\"contour\":[{\"type\":\"contour\",\"colorbar\":{\"outlinewidth\":0,\"ticks\":\"\"},\"colorscale\":[[0.0,\"#0d0887\"],[0.1111111111111111,\"#46039f\"],[0.2222222222222222,\"#7201a8\"],[0.3333333333333333,\"#9c179e\"],[0.4444444444444444,\"#bd3786\"],[0.5555555555555556,\"#d8576b\"],[0.6666666666666666,\"#ed7953\"],[0.7777777777777778,\"#fb9f3a\"],[0.8888888888888888,\"#fdca26\"],[1.0,\"#f0f921\"]]}],\"surface\":[{\"type\":\"surface\",\"colorbar\":{\"outlinewidth\":0,\"ticks\":\"\"},\"colorscale\":[[0.0,\"#0d0887\"],[0.1111111111111111,\"#46039f\"],[0.2222222222222222,\"#7201a8\"],[0.3333333333333333,\"#9c179e\"],[0.4444444444444444,\"#bd3786\"],[0.5555555555555556,\"#d8576b\"],[0.6666666666666666,\"#ed7953\"],[0.7777777777777778,\"#fb9f3a\"],[0.8888888888888888,\"#fdca26\"],[1.0,\"#f0f921\"]]}],\"mesh3d\":[{\"type\":\"mesh3d\",\"colorbar\":{\"outlinewidth\":0,\"ticks\":\"\"}}],\"scatter\":[{\"fillpattern\":{\"fillmode\":\"overlay\",\"size\":10,\"solidity\":0.2},\"type\":\"scatter\"}],\"parcoords\":[{\"type\":\"parcoords\",\"line\":{\"colorbar\":{\"outlinewidth\":0,\"ticks\":\"\"}}}],\"scatterpolargl\":[{\"type\":\"scatterpolargl\",\"marker\":{\"colorbar\":{\"outlinewidth\":0,\"ticks\":\"\"}}}],\"bar\":[{\"error_x\":{\"color\":\"#2a3f5f\"},\"error_y\":{\"color\":\"#2a3f5f\"},\"marker\":{\"line\":{\"color\":\"#E5ECF6\",\"width\":0.5},\"pattern\":{\"fillmode\":\"overlay\",\"size\":10,\"solidity\":0.2}},\"type\":\"bar\"}],\"scattergeo\":[{\"type\":\"scattergeo\",\"marker\":{\"colorbar\":{\"outlinewidth\":0,\"ticks\":\"\"}}}],\"scatterpolar\":[{\"type\":\"scatterpolar\",\"marker\":{\"colorbar\":{\"outlinewidth\":0,\"ticks\":\"\"}}}],\"histogram\":[{\"marker\":{\"pattern\":{\"fillmode\":\"overlay\",\"size\":10,\"solidity\":0.2}},\"type\":\"histogram\"}],\"scattergl\":[{\"type\":\"scattergl\",\"marker\":{\"colorbar\":{\"outlinewidth\":0,\"ticks\":\"\"}}}],\"scatter3d\":[{\"type\":\"scatter3d\",\"line\":{\"colorbar\":{\"outlinewidth\":0,\"ticks\":\"\"}},\"marker\":{\"colorbar\":{\"outlinewidth\":0,\"ticks\":\"\"}}}],\"scattermapbox\":[{\"type\":\"scattermapbox\",\"marker\":{\"colorbar\":{\"outlinewidth\":0,\"ticks\":\"\"}}}],\"scatterternary\":[{\"type\":\"scatterternary\",\"marker\":{\"colorbar\":{\"outlinewidth\":0,\"ticks\":\"\"}}}],\"scattercarpet\":[{\"type\":\"scattercarpet\",\"marker\":{\"colorbar\":{\"outlinewidth\":0,\"ticks\":\"\"}}}],\"carpet\":[{\"aaxis\":{\"endlinecolor\":\"#2a3f5f\",\"gridcolor\":\"white\",\"linecolor\":\"white\",\"minorgridcolor\":\"white\",\"startlinecolor\":\"#2a3f5f\"},\"baxis\":{\"endlinecolor\":\"#2a3f5f\",\"gridcolor\":\"white\",\"linecolor\":\"white\",\"minorgridcolor\":\"white\",\"startlinecolor\":\"#2a3f5f\"},\"type\":\"carpet\"}],\"table\":[{\"cells\":{\"fill\":{\"color\":\"#EBF0F8\"},\"line\":{\"color\":\"white\"}},\"header\":{\"fill\":{\"color\":\"#C8D4E3\"},\"line\":{\"color\":\"white\"}},\"type\":\"table\"}],\"barpolar\":[{\"marker\":{\"line\":{\"color\":\"#E5ECF6\",\"width\":0.5},\"pattern\":{\"fillmode\":\"overlay\",\"size\":10,\"solidity\":0.2}},\"type\":\"barpolar\"}],\"pie\":[{\"automargin\":true,\"type\":\"pie\"}]},\"layout\":{\"autotypenumbers\":\"strict\",\"colorway\":[\"#636efa\",\"#EF553B\",\"#00cc96\",\"#ab63fa\",\"#FFA15A\",\"#19d3f3\",\"#FF6692\",\"#B6E880\",\"#FF97FF\",\"#FECB52\"],\"font\":{\"color\":\"#2a3f5f\"},\"hovermode\":\"closest\",\"hoverlabel\":{\"align\":\"left\"},\"paper_bgcolor\":\"white\",\"plot_bgcolor\":\"#E5ECF6\",\"polar\":{\"bgcolor\":\"#E5ECF6\",\"angularaxis\":{\"gridcolor\":\"white\",\"linecolor\":\"white\",\"ticks\":\"\"},\"radialaxis\":{\"gridcolor\":\"white\",\"linecolor\":\"white\",\"ticks\":\"\"}},\"ternary\":{\"bgcolor\":\"#E5ECF6\",\"aaxis\":{\"gridcolor\":\"white\",\"linecolor\":\"white\",\"ticks\":\"\"},\"baxis\":{\"gridcolor\":\"white\",\"linecolor\":\"white\",\"ticks\":\"\"},\"caxis\":{\"gridcolor\":\"white\",\"linecolor\":\"white\",\"ticks\":\"\"}},\"coloraxis\":{\"colorbar\":{\"outlinewidth\":0,\"ticks\":\"\"}},\"colorscale\":{\"sequential\":[[0.0,\"#0d0887\"],[0.1111111111111111,\"#46039f\"],[0.2222222222222222,\"#7201a8\"],[0.3333333333333333,\"#9c179e\"],[0.4444444444444444,\"#bd3786\"],[0.5555555555555556,\"#d8576b\"],[0.6666666666666666,\"#ed7953\"],[0.7777777777777778,\"#fb9f3a\"],[0.8888888888888888,\"#fdca26\"],[1.0,\"#f0f921\"]],\"sequentialminus\":[[0.0,\"#0d0887\"],[0.1111111111111111,\"#46039f\"],[0.2222222222222222,\"#7201a8\"],[0.3333333333333333,\"#9c179e\"],[0.4444444444444444,\"#bd3786\"],[0.5555555555555556,\"#d8576b\"],[0.6666666666666666,\"#ed7953\"],[0.7777777777777778,\"#fb9f3a\"],[0.8888888888888888,\"#fdca26\"],[1.0,\"#f0f921\"]],\"diverging\":[[0,\"#8e0152\"],[0.1,\"#c51b7d\"],[0.2,\"#de77ae\"],[0.3,\"#f1b6da\"],[0.4,\"#fde0ef\"],[0.5,\"#f7f7f7\"],[0.6,\"#e6f5d0\"],[0.7,\"#b8e186\"],[0.8,\"#7fbc41\"],[0.9,\"#4d9221\"],[1,\"#276419\"]]},\"xaxis\":{\"gridcolor\":\"white\",\"linecolor\":\"white\",\"ticks\":\"\",\"title\":{\"standoff\":15},\"zerolinecolor\":\"white\",\"automargin\":true,\"zerolinewidth\":2},\"yaxis\":{\"gridcolor\":\"white\",\"linecolor\":\"white\",\"ticks\":\"\",\"title\":{\"standoff\":15},\"zerolinecolor\":\"white\",\"automargin\":true,\"zerolinewidth\":2},\"scene\":{\"xaxis\":{\"backgroundcolor\":\"#E5ECF6\",\"gridcolor\":\"white\",\"linecolor\":\"white\",\"showbackground\":true,\"ticks\":\"\",\"zerolinecolor\":\"white\",\"gridwidth\":2},\"yaxis\":{\"backgroundcolor\":\"#E5ECF6\",\"gridcolor\":\"white\",\"linecolor\":\"white\",\"showbackground\":true,\"ticks\":\"\",\"zerolinecolor\":\"white\",\"gridwidth\":2},\"zaxis\":{\"backgroundcolor\":\"#E5ECF6\",\"gridcolor\":\"white\",\"linecolor\":\"white\",\"showbackground\":true,\"ticks\":\"\",\"zerolinecolor\":\"white\",\"gridwidth\":2}},\"shapedefaults\":{\"line\":{\"color\":\"#2a3f5f\"}},\"annotationdefaults\":{\"arrowcolor\":\"#2a3f5f\",\"arrowhead\":0,\"arrowwidth\":1},\"geo\":{\"bgcolor\":\"white\",\"landcolor\":\"#E5ECF6\",\"subunitcolor\":\"white\",\"showland\":true,\"showlakes\":true,\"lakecolor\":\"white\"},\"title\":{\"x\":0.05},\"mapbox\":{\"style\":\"light\"}}},\"xaxis\":{\"anchor\":\"y\",\"domain\":[0.0,1.0],\"title\":{\"text\":\"Languages y_test\"},\"side\":\"top\"},\"yaxis\":{\"anchor\":\"x\",\"domain\":[0.0,1.0],\"autorange\":\"reversed\",\"title\":{\"text\":\"Languages y_pred\"}},\"coloraxis\":{\"colorbar\":{\"title\":{\"text\":\"confusion\"}},\"colorscale\":[[0.0,\"#0d0887\"],[0.1111111111111111,\"#46039f\"],[0.2222222222222222,\"#7201a8\"],[0.3333333333333333,\"#9c179e\"],[0.4444444444444444,\"#bd3786\"],[0.5555555555555556,\"#d8576b\"],[0.6666666666666666,\"#ed7953\"],[0.7777777777777778,\"#fb9f3a\"],[0.8888888888888888,\"#fdca26\"],[1.0,\"#f0f921\"]]},\"margin\":{\"t\":60}},                        {\"responsive\": true}                    ).then(function(){\n",
       "                            \n",
       "var gd = document.getElementById('3cbda651-68de-47d4-b4cc-edfc765a1a22');\n",
       "var x = new MutationObserver(function (mutations, observer) {{\n",
       "        var display = window.getComputedStyle(gd).display;\n",
       "        if (!display || display === 'none') {{\n",
       "            console.log([gd, 'removed!']);\n",
       "            Plotly.purge(gd);\n",
       "            observer.disconnect();\n",
       "        }}\n",
       "}});\n",
       "\n",
       "// Listen for the removal of the full notebook cells\n",
       "var notebookContainer = gd.closest('#notebook-container');\n",
       "if (notebookContainer) {{\n",
       "    x.observe(notebookContainer, {childList: true});\n",
       "}}\n",
       "\n",
       "// Listen for the clearing of the current output cell\n",
       "var outputEl = gd.closest('.output');\n",
       "if (outputEl) {{\n",
       "    x.observe(outputEl, {childList: true});\n",
       "}}\n",
       "\n",
       "                        })                };                });            </script>        </div>"
      ]
     },
     "metadata": {},
     "output_type": "display_data"
    },
    {
     "name": "stdout",
     "output_type": "stream",
     "text": [
      "\n",
      "Accuracy  0.6388888888888888\n",
      "\n",
      "- Precision - macro\n",
      "precision by language : \n",
      "('ARA', 0.6283783783783784)\n",
      " ('CHI', 0.6270270270270271)\n",
      " ('FRE', 0.6971428571428572)\n",
      " ('GER', 0.7225130890052356)\n",
      " ('HIN', 0.5588235294117647)\n",
      " ('ITA', 0.5959595959595959)\n",
      " ('JPN', 0.7005649717514124)\n",
      " ('KOR', 0.6335403726708074)\n",
      " ('SPA', 0.6582278481012658)\n",
      " ('TEL', 0.6479591836734694)\n",
      " ('TUR', 0.5721925133689839)\n",
      "\n",
      "precision score  0.6402117605900725\n",
      "\n",
      "- Recall - macro\n",
      "recall by language  \n",
      "('ARA', 0.5470588235294118)\n",
      " ('CHI', 0.6628571428571428)\n",
      " ('FRE', 0.6321243523316062)\n",
      " ('GER', 0.8023255813953488)\n",
      " ('HIN', 0.6477272727272727)\n",
      " ('ITA', 0.7195121951219512)\n",
      " ('JPN', 0.6666666666666666)\n",
      " ('KOR', 0.5074626865671642)\n",
      " ('SPA', 0.5306122448979592)\n",
      " ('TEL', 0.7094972067039106)\n",
      " ('TUR', 0.6369047619047619)\n",
      "\n",
      "recall score  0.6420680849730178\n",
      "\n",
      "- F1 - macro\n",
      "f1 by language  \n",
      "('ARA', 0.5849056603773586)\n",
      " ('CHI', 0.6444444444444445)\n",
      " ('FRE', 0.6630434782608696)\n",
      " ('GER', 0.7603305785123967)\n",
      " ('HIN', 0.6)\n",
      " ('ITA', 0.6519337016574586)\n",
      " ('JPN', 0.6831955922865013)\n",
      " ('KOR', 0.56353591160221)\n",
      " ('SPA', 0.5875706214689265)\n",
      " ('TEL', 0.6773333333333333)\n",
      " ('TUR', 0.6028169014084506)\n",
      "\n",
      "f1 score  0.6381009293956318\n"
     ]
    }
   ],
   "source": [
    "from sklearn.linear_model import LogisticRegression\n",
    "from sklearn.model_selection import train_test_split\n",
    "\n",
    "X = df['cleaned_text_all_sw'].values.tolist()\n",
    "y = df['category'].values.tolist()\n",
    "\n",
    "X_train, X_test, y_train, y_test = train_test_split(X, y, test_size=0.2, random_state=42)\n",
    "logisticRegr = LogisticRegression()\n",
    "tf_X_train = tf.transform(X_train)\n",
    "tf_X_test = tf.transform(X_test)\n",
    "logisticRegr.fit(tf_X_train, train_category)\n",
    "logisticRegr_predict = logisticRegr.predict(tf_X_test)\n",
    "print(len(logisticRegr_predict))\n",
    "\n",
    "print(\"Score logistic regression with TF-IDF after cleaning all stop words :\", logisticRegr.score(tf_X_test, test_category))\n",
    "evaluation(test_category, logisticRegr_predict)"
   ]
  },
  {
   "cell_type": "markdown",
   "id": "8844c768",
   "metadata": {},
   "source": [
    "## Remarque (suppression de tous les stop words)\n",
    "La suppression de tous les stop words réduit légèrement les performances d'un point.\n",
    "On remarque également une perte du rappel sur la majorité des langues. Excepté GER, JAP, TUR où le gain est négligeable"
   ]
  },
  {
   "cell_type": "code",
   "execution_count": null,
   "id": "9a94fb9b",
   "metadata": {},
   "outputs": [],
   "source": []
  },
  {
   "cell_type": "markdown",
   "id": "1bf8650b",
   "metadata": {},
   "source": [
    "# Impact du stemming"
   ]
  },
  {
   "cell_type": "code",
   "execution_count": null,
   "id": "d5437a74",
   "metadata": {},
   "outputs": [],
   "source": [
    "from nltk.stem import PorterStemmer\n"
   ]
  },
  {
   "cell_type": "code",
   "execution_count": null,
   "id": "8eecfce8",
   "metadata": {},
   "outputs": [],
   "source": []
  },
  {
   "cell_type": "code",
   "execution_count": null,
   "id": "8da7b9f3",
   "metadata": {},
   "outputs": [],
   "source": []
  }
 ],
 "metadata": {
  "kernelspec": {
   "display_name": "Python 3 (ipykernel)",
   "language": "python",
   "name": "python3"
  },
  "language_info": {
   "codemirror_mode": {
    "name": "ipython",
    "version": 3
   },
   "file_extension": ".py",
   "mimetype": "text/x-python",
   "name": "python",
   "nbconvert_exporter": "python",
   "pygments_lexer": "ipython3",
   "version": "3.8.12"
  }
 },
 "nbformat": 4,
 "nbformat_minor": 5
}
